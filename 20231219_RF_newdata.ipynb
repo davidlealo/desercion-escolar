{
 "cells": [
  {
   "cell_type": "code",
   "execution_count": 2,
   "metadata": {},
   "outputs": [],
   "source": [
    "import pandas as pd\n",
    "import numpy as np\n",
    "from sklearn.ensemble import RandomForestClassifier, RandomForestRegressor\n",
    "from sklearn.model_selection import train_test_split\n",
    "from sklearn.metrics import classification_report, confusion_matrix"
   ]
  },
  {
   "cell_type": "code",
   "execution_count": null,
   "metadata": {},
   "outputs": [],
   "source": [
    "combinado2018 = pd.read_csv('data/tablas/combinado2018.csv', sep=';')"
   ]
  },
  {
   "cell_type": "code",
   "execution_count": null,
   "metadata": {},
   "outputs": [],
   "source": [
    "combinado2018['PROM_GRAL'] = combinado2018['PROM_GRAL'].str.replace(',', '.').astype(float)"
   ]
  },
  {
   "cell_type": "code",
   "execution_count": null,
   "metadata": {},
   "outputs": [],
   "source": [
    "# Convertir 'FEC_NAC_ALU' a una cadena\n",
    "combinado2018['FEC_NAC_ALU'] = combinado2018['FEC_NAC_ALU'].astype(str)\n",
    "\n",
    "# Asegurarse de que la cadena tiene el formato correcto (YYYYMM)\n",
    "combinado2018['FEC_NAC_ALU'] = combinado2018['FEC_NAC_ALU'].str.pad(width=6, side='left', fillchar='0')\n",
    "\n",
    "# Convertir la cadena a un formato de fecha\n",
    "combinado2018['FEC_NAC_ALU'] = pd.to_datetime(combinado2018['FEC_NAC_ALU'], format='%Y%m')\n",
    "\n",
    "print(combinado2018['FEC_NAC_ALU'])"
   ]
  },
  {
   "cell_type": "code",
   "execution_count": null,
   "metadata": {},
   "outputs": [],
   "source": [
    "# Crear nuevas columnas para el año y el mes\n",
    "combinado2018['AGNO_NAC_ALU'] = combinado2018['FEC_NAC_ALU'].dt.year\n",
    "combinado2018['MES_NAC_ALU'] = combinado2018['FEC_NAC_ALU'].dt.month\n",
    "\n",
    "# Eliminar la columna del día\n",
    "combinado2018['FEC_NAC_ALU'] = combinado2018['FEC_NAC_ALU'].dt.to_period('M')"
   ]
  },
  {
   "cell_type": "code",
   "execution_count": null,
   "metadata": {},
   "outputs": [],
   "source": [
    "# Drop Unnamed: 0      \n",
    "combinado2018 = combinado2018.drop(['Unnamed: 0'], axis=1)"
   ]
  },
  {
   "cell_type": "code",
   "execution_count": null,
   "metadata": {},
   "outputs": [],
   "source": [
    "combinado2018.info()"
   ]
  },
  {
   "cell_type": "code",
   "execution_count": null,
   "metadata": {},
   "outputs": [],
   "source": [
    "combinado2018 = combinado2018.drop(['FEC_NAC_ALU'], axis=1)"
   ]
  },
  {
   "cell_type": "code",
   "execution_count": null,
   "metadata": {},
   "outputs": [],
   "source": [
    "combinado2018.info()"
   ]
  },
  {
   "cell_type": "code",
   "execution_count": null,
   "metadata": {},
   "outputs": [],
   "source": [
    "marzo2018 = pd.read_csv('data/asistencia/2018/20180816_Asistencia_Marzo_2018_20180415_PUBL.csv', sep=';')"
   ]
  },
  {
   "cell_type": "code",
   "execution_count": null,
   "metadata": {},
   "outputs": [],
   "source": [
    "marzo2018.info()"
   ]
  },
  {
   "cell_type": "code",
   "execution_count": null,
   "metadata": {},
   "outputs": [],
   "source": [
    "marzo2018 = marzo2018[['MRUN', 'DIAS_ASISTIDOS', 'DIAS_TRABAJADOS', 'ASIS_PROMEDIO']]"
   ]
  },
  {
   "cell_type": "code",
   "execution_count": null,
   "metadata": {},
   "outputs": [],
   "source": [
    "# Convertir ASIS_PROMEDIO a float\n",
    "marzo2018['ASIS_PROMEDIO'] = marzo2018['ASIS_PROMEDIO'].str.replace(',', '.').astype(float)"
   ]
  },
  {
   "cell_type": "code",
   "execution_count": null,
   "metadata": {},
   "outputs": [],
   "source": [
    "marzo2018.head()"
   ]
  },
  {
   "cell_type": "code",
   "execution_count": null,
   "metadata": {},
   "outputs": [],
   "source": [
    "# Join de los dos dataframes con la clave comun de MRUN\n",
    "combinado2018 = pd.merge(combinado2018, marzo2018, on='MRUN')"
   ]
  },
  {
   "cell_type": "code",
   "execution_count": null,
   "metadata": {},
   "outputs": [],
   "source": [
    "combinado2018.info()"
   ]
  },
  {
   "cell_type": "code",
   "execution_count": null,
   "metadata": {},
   "outputs": [],
   "source": [
    "# cambiar nombre DIAS_ASISTIDOS a DIAS_ASISTIDOS_MARZO\n",
    "combinado2018 = combinado2018.rename(columns={'DIAS_ASISTIDOS': 'DIAS_ASISTIDOS_MARZO'})"
   ]
  },
  {
   "cell_type": "code",
   "execution_count": null,
   "metadata": {},
   "outputs": [],
   "source": [
    "# Cambiar nombre de DIAS_TRABAJADOS a DIAS_TRABAJADOS_MARZO\n",
    "combinado2018 = combinado2018.rename(columns={'DIAS_TRABAJADOS': 'DIAS_TRABAJADOS_MARZO'})"
   ]
  },
  {
   "cell_type": "code",
   "execution_count": null,
   "metadata": {},
   "outputs": [],
   "source": [
    "# Cambiar nombre de ASIS_PROMEDIO a ASIS_PROMEDIO_MARZO\n",
    "combinado2018 = combinado2018.rename(columns={'ASIS_PROMEDIO': 'ASIS_PROMEDIO_MARZO'})"
   ]
  },
  {
   "cell_type": "code",
   "execution_count": null,
   "metadata": {},
   "outputs": [],
   "source": [
    "combinado2018.info()"
   ]
  },
  {
   "cell_type": "code",
   "execution_count": null,
   "metadata": {},
   "outputs": [],
   "source": [
    "# Importar asistencia de abril\n",
    "abril2018 = pd.read_csv('data/asistencia/2018/20180830_Asistencia_Abril_2018_20180515_PUBL.csv', sep=';')"
   ]
  },
  {
   "cell_type": "code",
   "execution_count": null,
   "metadata": {},
   "outputs": [],
   "source": [
    "abril2018 = abril2018[['MRUN', 'DIAS_ASISTIDOS', 'DIAS_TRABAJADOS', 'ASIS_PROMEDIO']]"
   ]
  },
  {
   "cell_type": "code",
   "execution_count": null,
   "metadata": {},
   "outputs": [],
   "source": [
    "abril2018.info()"
   ]
  },
  {
   "cell_type": "code",
   "execution_count": null,
   "metadata": {},
   "outputs": [],
   "source": [
    "# Convertir ASIS_PROMEDIO a float\n",
    "abril2018['ASIS_PROMEDIO'] = abril2018['ASIS_PROMEDIO'].str.replace(',', '.').astype(float)"
   ]
  },
  {
   "cell_type": "code",
   "execution_count": null,
   "metadata": {},
   "outputs": [],
   "source": [
    "# cambiar nombre DIAS_ASISTIDOS a DIAS_ASISTIDOS_MARZO\n",
    "abril2018 = abril2018.rename(columns={'DIAS_ASISTIDOS': 'DIAS_ASISTIDOS_ABRIL'})"
   ]
  },
  {
   "cell_type": "code",
   "execution_count": null,
   "metadata": {},
   "outputs": [],
   "source": [
    "# Cambiar nombre de DIAS_TRABAJADOS a DIAS_TRABAJADOS_ABRIL\n",
    "abril2018 = abril2018.rename(columns={'DIAS_TRABAJADOS': 'DIAS_TRABAJADOS_ABRIL'})"
   ]
  },
  {
   "cell_type": "code",
   "execution_count": null,
   "metadata": {},
   "outputs": [],
   "source": [
    "# Cambiar nombre de ASIS_PROMEDIO a ASIS_PROMEDIO_ABRIL\n",
    "abril2018 = abril2018.rename(columns={'ASIS_PROMEDIO': 'ASIS_PROMEDIO_ABRIL'})"
   ]
  },
  {
   "cell_type": "code",
   "execution_count": null,
   "metadata": {},
   "outputs": [],
   "source": [
    "# Join de los dos dataframes con la clave comun de MRUN\n",
    "combinado2018 = pd.merge(combinado2018, abril2018, on='MRUN')"
   ]
  },
  {
   "cell_type": "code",
   "execution_count": null,
   "metadata": {},
   "outputs": [],
   "source": [
    "combinado2018.info()"
   ]
  },
  {
   "cell_type": "code",
   "execution_count": null,
   "metadata": {},
   "outputs": [],
   "source": [
    "# Importar asistencia de mayo\n",
    "mayo2018 = pd.read_csv('data/asistencia/2018/20180720_Asistencia_Mayo_2018_20180615_PUBL.csv', sep=';')"
   ]
  },
  {
   "cell_type": "code",
   "execution_count": null,
   "metadata": {},
   "outputs": [],
   "source": [
    "mayo2018 = mayo2018[['MRUN', 'DIAS_ASISTIDOS', 'DIAS_TRABAJADOS', 'ASIS_PROMEDIO']]"
   ]
  },
  {
   "cell_type": "code",
   "execution_count": null,
   "metadata": {},
   "outputs": [],
   "source": [
    "# Convertir ASIS_PROMEDIO a float\n",
    "mayo2018['ASIS_PROMEDIO'] = mayo2018['ASIS_PROMEDIO'].str.replace(',', '.').astype(float)"
   ]
  },
  {
   "cell_type": "code",
   "execution_count": null,
   "metadata": {},
   "outputs": [],
   "source": [
    "# Cambiar nombre DIAS_ASISTIDOS a DIAS_ASISTIDOS_MAYO\n",
    "mayo2018 = mayo2018.rename(columns={'DIAS_ASISTIDOS': 'DIAS_ASISTIDOS_MAYO'})"
   ]
  },
  {
   "cell_type": "code",
   "execution_count": null,
   "metadata": {},
   "outputs": [],
   "source": [
    "# Cambiar nombre de DIAS_TRABAJADOS a DIAS_TRABAJADOS_MAYO\n",
    "mayo2018 = mayo2018.rename(columns={'DIAS_TRABAJADOS': 'DIAS_TRABAJADOS_MAYO'})"
   ]
  },
  {
   "cell_type": "code",
   "execution_count": null,
   "metadata": {},
   "outputs": [],
   "source": [
    "# Cambiar nombre de ASIS_PROMEDIO a ASIS_PROMEDIO_MAYO\n",
    "mayo2018 = mayo2018.rename(columns={'ASIS_PROMEDIO': 'ASIS_PROMEDIO_MAYO'})"
   ]
  },
  {
   "cell_type": "code",
   "execution_count": null,
   "metadata": {},
   "outputs": [],
   "source": [
    "mayo2018.info()"
   ]
  },
  {
   "cell_type": "code",
   "execution_count": null,
   "metadata": {},
   "outputs": [],
   "source": [
    "# Join de los dos dataframes con la clave comun de MRUN\n",
    "combinado2018 = pd.merge(combinado2018, mayo2018, on='MRUN')"
   ]
  },
  {
   "cell_type": "code",
   "execution_count": null,
   "metadata": {},
   "outputs": [],
   "source": [
    "# Importar asistencia de junio\n",
    "junio2018 = pd.read_csv('data/asistencia/2018/20180816_Asistencia_Junio_2018_20180715_PUBL.csv', sep=';')"
   ]
  },
  {
   "cell_type": "code",
   "execution_count": null,
   "metadata": {},
   "outputs": [],
   "source": [
    "# Seleccionar columnas\n",
    "junio2018 = junio2018[['MRUN', 'DIAS_ASISTIDOS', 'DIAS_TRABAJADOS', 'ASIS_PROMEDIO']]"
   ]
  },
  {
   "cell_type": "code",
   "execution_count": null,
   "metadata": {},
   "outputs": [],
   "source": [
    "# Convertir ASIS_PROMEDIO a float\n",
    "junio2018['ASIS_PROMEDIO'] = junio2018['ASIS_PROMEDIO'].str.replace(',', '.').astype(float)"
   ]
  },
  {
   "cell_type": "code",
   "execution_count": null,
   "metadata": {},
   "outputs": [],
   "source": [
    "# Cambiar nombre DIAS_ASISTIDOS a DIAS_ASISTIDOS_JUNIO\n",
    "junio2018 = junio2018.rename(columns={'DIAS_ASISTIDOS': 'DIAS_ASISTIDOS_JUNIO'})"
   ]
  },
  {
   "cell_type": "code",
   "execution_count": null,
   "metadata": {},
   "outputs": [],
   "source": [
    "# Cambiar nombre de DIAS_TRABAJADOS a DIAS_TRABAJADOS_JUNIO\n",
    "junio2018 = junio2018.rename(columns={'DIAS_TRABAJADOS': 'DIAS_TRABAJADOS_JUNIO'})"
   ]
  },
  {
   "cell_type": "code",
   "execution_count": null,
   "metadata": {},
   "outputs": [],
   "source": [
    "# Cambiar nombre de ASIS_PROMEDIO a ASIS_PROMEDIO_JUNIO\n",
    "junio2018 = junio2018.rename(columns={'ASIS_PROMEDIO': 'ASIS_PROMEDIO_JUNIO'})"
   ]
  },
  {
   "cell_type": "code",
   "execution_count": null,
   "metadata": {},
   "outputs": [],
   "source": [
    "# Join de los dos dataframes con la clave comun de MRUN\n",
    "combinado2018 = pd.merge(combinado2018, junio2018, on='MRUN')"
   ]
  },
  {
   "cell_type": "code",
   "execution_count": null,
   "metadata": {},
   "outputs": [],
   "source": [
    "combinado2018.info()"
   ]
  },
  {
   "cell_type": "code",
   "execution_count": null,
   "metadata": {},
   "outputs": [],
   "source": [
    "# Importar datos de asistencia de julio\n",
    "julio2018 = pd.read_csv('data/asistencia/2018/20180904_Asistencia_Julio_2018_20180815_PUBL.csv', sep=';')"
   ]
  },
  {
   "cell_type": "code",
   "execution_count": null,
   "metadata": {},
   "outputs": [],
   "source": [
    "# Seleccionar columnas\n",
    "julio2018 = julio2018[['MRUN', 'DIAS_ASISTIDOS', 'DIAS_TRABAJADOS', 'ASIS_PROMEDIO']]"
   ]
  },
  {
   "cell_type": "code",
   "execution_count": null,
   "metadata": {},
   "outputs": [],
   "source": [
    "# Convertir ASIS_PROMEDIO a float\n",
    "julio2018['ASIS_PROMEDIO'] = julio2018['ASIS_PROMEDIO'].str.replace(',', '.').astype(float)"
   ]
  },
  {
   "cell_type": "code",
   "execution_count": null,
   "metadata": {},
   "outputs": [],
   "source": [
    "# Cambiar nombre DIAS_ASISTIDOS a DIAS_ASISTIDOS_JULIO\n",
    "julio2018 = julio2018.rename(columns={'DIAS_ASISTIDOS': 'DIAS_ASISTIDOS_JULIO'})"
   ]
  },
  {
   "cell_type": "code",
   "execution_count": null,
   "metadata": {},
   "outputs": [],
   "source": [
    "# Cambiar nombre de DIAS_TRABAJADOS a DIAS_TRABAJADOS_JULIO\n",
    "julio2018 = julio2018.rename(columns={'DIAS_TRABAJADOS': 'DIAS_TRABAJADOS_JULIO'})"
   ]
  },
  {
   "cell_type": "code",
   "execution_count": null,
   "metadata": {},
   "outputs": [],
   "source": [
    "# Cambiar nombre de ASIS_PROMEDIO a ASIS_PROMEDIO_JULIO\n",
    "julio2018 = julio2018.rename(columns={'ASIS_PROMEDIO': 'ASIS_PROMEDIO_JULIO'})"
   ]
  },
  {
   "cell_type": "code",
   "execution_count": null,
   "metadata": {},
   "outputs": [],
   "source": [
    "# Join de los dos dataframes con la clave comun de MRUN\n",
    "combinado2018 = pd.merge(combinado2018, julio2018, on='MRUN')"
   ]
  },
  {
   "cell_type": "code",
   "execution_count": null,
   "metadata": {},
   "outputs": [],
   "source": [
    "combinado2018.info()"
   ]
  },
  {
   "cell_type": "code",
   "execution_count": null,
   "metadata": {},
   "outputs": [],
   "source": [
    "# Importar datos de asistencia de agosto\n",
    "agosto2018 = pd.read_csv('data/asistencia/2018/20181026_Asistencia_Agosto_2018_20180915_PUBL.csv', sep=';')"
   ]
  },
  {
   "cell_type": "code",
   "execution_count": null,
   "metadata": {},
   "outputs": [],
   "source": [
    "# Seleccionar columnas\n",
    "agosto2018 = agosto2018[['MRUN', 'DIAS_ASISTIDOS', 'DIAS_TRABAJADOS', 'ASIS_PROMEDIO']]"
   ]
  },
  {
   "cell_type": "code",
   "execution_count": null,
   "metadata": {},
   "outputs": [],
   "source": [
    "# Convertir ASIS_PROMEDIO a float\n",
    "agosto2018['ASIS_PROMEDIO'] = agosto2018['ASIS_PROMEDIO'].str.replace(',', '.').astype(float)"
   ]
  },
  {
   "cell_type": "code",
   "execution_count": null,
   "metadata": {},
   "outputs": [],
   "source": [
    "# Cambiar nombre DIAS_ASISTIDOS a DIAS_ASISTIDOS_AGOSTO\n",
    "agosto2018 = agosto2018.rename(columns={'DIAS_ASISTIDOS': 'DIAS_ASISTIDOS_AGOSTO'})"
   ]
  },
  {
   "cell_type": "code",
   "execution_count": null,
   "metadata": {},
   "outputs": [],
   "source": [
    "# Cambiar nombre de DIAS_TRABAJADOS a DIAS_TRABAJADOS_AGOSTO\n",
    "agosto2018 = agosto2018.rename(columns={'DIAS_TRABAJADOS': 'DIAS_TRABAJADOS_AGOSTO'})"
   ]
  },
  {
   "cell_type": "code",
   "execution_count": null,
   "metadata": {},
   "outputs": [],
   "source": [
    "# Cambiar nombre de ASIS_PROMEDIO a ASIS_PROMEDIO_AGOSTO\n",
    "agosto2018 = agosto2018.rename(columns={'ASIS_PROMEDIO': 'ASIS_PROMEDIO_AGOSTO'})"
   ]
  },
  {
   "cell_type": "code",
   "execution_count": null,
   "metadata": {},
   "outputs": [],
   "source": [
    "# Join de los dos dataframes con la clave comun de MRUN\n",
    "combinado2018 = pd.merge(combinado2018, agosto2018, on='MRUN')"
   ]
  },
  {
   "cell_type": "code",
   "execution_count": null,
   "metadata": {},
   "outputs": [],
   "source": [
    "combinado2018.info()"
   ]
  },
  {
   "cell_type": "code",
   "execution_count": null,
   "metadata": {},
   "outputs": [],
   "source": [
    "# Importar datos de asistencia de septiembre\n",
    "septiembre2018 = pd.read_csv('data/asistencia/2018/20181127_Asistencia_Septiembre_2018_20181015_PUBL.csv', sep=';')"
   ]
  },
  {
   "cell_type": "code",
   "execution_count": null,
   "metadata": {},
   "outputs": [],
   "source": [
    "# Seleccionar columnas\n",
    "septiembre2018 = septiembre2018[['MRUN', 'DIAS_ASISTIDOS', 'DIAS_TRABAJADOS', 'ASIS_PROMEDIO']]"
   ]
  },
  {
   "cell_type": "code",
   "execution_count": null,
   "metadata": {},
   "outputs": [],
   "source": [
    "# Convertir ASIS_PROMEDIO a float\n",
    "septiembre2018['ASIS_PROMEDIO'] = septiembre2018['ASIS_PROMEDIO'].str.replace(',', '.').astype(float)"
   ]
  },
  {
   "cell_type": "code",
   "execution_count": null,
   "metadata": {},
   "outputs": [],
   "source": [
    "# Cambiar nombre DIAS_ASISTIDOS a DIAS_ASISTIDOS_SEPTIEMBRE\n",
    "septiembre2018 = septiembre2018.rename(columns={'DIAS_ASISTIDOS': 'DIAS_ASISTIDOS_SEPTIEMBRE'})"
   ]
  },
  {
   "cell_type": "code",
   "execution_count": null,
   "metadata": {},
   "outputs": [],
   "source": [
    "# Cambiar nombre de DIAS_TRABAJADOS a DIAS_TRABAJADOS_SEPTIEMBRE\n",
    "septiembre2018 = septiembre2018.rename(columns={'DIAS_TRABAJADOS': 'DIAS_TRABAJADOS_SEPTIEMBRE'})"
   ]
  },
  {
   "cell_type": "code",
   "execution_count": null,
   "metadata": {},
   "outputs": [],
   "source": [
    "# Cambiar nombre de ASIS_PROMEDIO a ASIS_PROMEDIO_SEPTIEMBRE\n",
    "septiembre2018 = septiembre2018.rename(columns={'ASIS_PROMEDIO': 'ASIS_PROMEDIO_SEPTIEMBRE'})"
   ]
  },
  {
   "cell_type": "code",
   "execution_count": null,
   "metadata": {},
   "outputs": [],
   "source": [
    "combinado2018.info()"
   ]
  },
  {
   "cell_type": "code",
   "execution_count": null,
   "metadata": {},
   "outputs": [
    {
     "ename": "",
     "evalue": "",
     "output_type": "error",
     "traceback": [
      "\u001b[1;31mEl Kernel se bloqueó al ejecutar código en la celda actual o en una celda anterior. Revise el código de las celdas para identificar una posible causa del error. Haga clic <a href='https://aka.ms/vscodeJupyterKernelCrash'>aquí</a> para obtener más información. Vea el [registro] de Jupyter (command:jupyter.viewOutput) para obtener más detalles."
     ]
    }
   ],
   "source": [
    "# Join de los dos dataframes con la clave comun de MRUN\n",
    "combinado2018 = pd.merge(combinado2018, septiembre2018, on='MRUN')"
   ]
  },
  {
   "cell_type": "code",
   "execution_count": null,
   "metadata": {},
   "outputs": [],
   "source": [
    "# Importar datos de asistencia de octubre\n",
    "octubre2018 = pd.read_csv('data/asistencia/2018/20181213_Asistencia_Octubre_2018_20181115_PUBL.csv', sep=';')"
   ]
  },
  {
   "cell_type": "code",
   "execution_count": null,
   "metadata": {},
   "outputs": [],
   "source": [
    "# Seleccionar columnas\n",
    "octubre2018 = octubre2018[['MRUN', 'DIAS_ASISTIDOS', 'DIAS_TRABAJADOS', 'ASIS_PROMEDIO']]"
   ]
  },
  {
   "cell_type": "code",
   "execution_count": null,
   "metadata": {},
   "outputs": [],
   "source": [
    "# Convertir ASIS_PROMEDIO a float\n",
    "octubre2018['ASIS_PROMEDIO'] = octubre2018['ASIS_PROMEDIO'].str.replace(',', '.').astype(float)"
   ]
  },
  {
   "cell_type": "code",
   "execution_count": null,
   "metadata": {},
   "outputs": [],
   "source": [
    "# Cambiar nombre DIAS_ASISTIDOS a DIAS_ASISTIDOS_OCTUBRE\n",
    "octubre2018 = octubre2018.rename(columns={'DIAS_ASISTIDOS': 'DIAS_ASISTIDOS_OCTUBRE'})"
   ]
  },
  {
   "cell_type": "code",
   "execution_count": null,
   "metadata": {},
   "outputs": [],
   "source": [
    "# Cambiar nombre de DIAS_TRABAJADOS a DIAS_TRABAJADOS_OCTUBRE\n",
    "octubre2018 = octubre2018.rename(columns={'DIAS_TRABAJADOS': 'DIAS_TRABAJADOS_OCTUBRE'})"
   ]
  },
  {
   "cell_type": "code",
   "execution_count": null,
   "metadata": {},
   "outputs": [],
   "source": [
    "# Cambiar nombre de ASIS_PROMEDIO a ASIS_PROMEDIO_OCTUBRE\n",
    "octubre2018 = octubre2018.rename(columns={'ASIS_PROMEDIO': 'ASIS_PROMEDIO_OCTUBRE'})"
   ]
  },
  {
   "cell_type": "code",
   "execution_count": null,
   "metadata": {},
   "outputs": [
    {
     "ename": "",
     "evalue": "",
     "output_type": "error",
     "traceback": [
      "\u001b[1;31mEl Kernel se bloqueó al ejecutar código en la celda actual o en una celda anterior. Revise el código de las celdas para identificar una posible causa del error. Haga clic <a href='https://aka.ms/vscodeJupyterKernelCrash'>aquí</a> para obtener más información. Vea el [registro] de Jupyter (command:jupyter.viewOutput) para obtener más detalles."
     ]
    }
   ],
   "source": [
    "# Join de los dos dataframes con la clave comun de MRUN\n",
    "combinado2018 = pd.merge(combinado2018, octubre2018, on='MRUN')"
   ]
  },
  {
   "cell_type": "code",
   "execution_count": null,
   "metadata": {},
   "outputs": [],
   "source": [
    "# Importar datos de asistencia de noviembre\n",
    "noviembre2018 = pd.read_csv('data/asistencia/2018/20190107_Asistencia_Noviembre_2018_20181215_PUBL.csv', sep=';')"
   ]
  },
  {
   "cell_type": "code",
   "execution_count": null,
   "metadata": {},
   "outputs": [],
   "source": [
    "# Seleccionar columnas\n",
    "noviembre2018 = noviembre2018[['MRUN', 'DIAS_ASISTIDOS', 'DIAS_TRABAJADOS', 'ASIS_PROMEDIO']]"
   ]
  },
  {
   "cell_type": "code",
   "execution_count": null,
   "metadata": {},
   "outputs": [],
   "source": [
    "# Convertir ASIS_PROMEDIO a float\n",
    "noviembre2018['ASIS_PROMEDIO'] = noviembre2018['ASIS_PROMEDIO'].str.replace(',', '.').astype(float)"
   ]
  },
  {
   "cell_type": "code",
   "execution_count": null,
   "metadata": {},
   "outputs": [],
   "source": [
    "# Cambiar nombre DIAS_ASISTIDOS a DIAS_ASISTIDOS_NOVIEMBRE\n",
    "noviembre2018 = noviembre2018.rename(columns={'DIAS_ASISTIDOS': 'DIAS_ASISTIDOS_NOVIEMBRE'})"
   ]
  },
  {
   "cell_type": "code",
   "execution_count": null,
   "metadata": {},
   "outputs": [],
   "source": [
    "# Cambiar nombre de DIAS_TRABAJADOS a DIAS_TRABAJADOS_NOVIEMBRE\n",
    "noviembre2018 = noviembre2018.rename(columns={'DIAS_TRABAJADOS': 'DIAS_TRABAJADOS_NOVIEMBRE'})"
   ]
  },
  {
   "cell_type": "code",
   "execution_count": null,
   "metadata": {},
   "outputs": [],
   "source": [
    "# Cambiar nombre de ASIS_PROMEDIO a ASIS_PROMEDIO_NOVIEMBRE\n",
    "noviembre2018 = noviembre2018.rename(columns={'ASIS_PROMEDIO': 'ASIS_PROMEDIO_NOVIEMBRE'})"
   ]
  },
  {
   "cell_type": "code",
   "execution_count": null,
   "metadata": {},
   "outputs": [
    {
     "ename": "NameError",
     "evalue": "name 'combinado2018' is not defined",
     "output_type": "error",
     "traceback": [
      "\u001b[0;31m---------------------------------------------------------------------------\u001b[0m",
      "\u001b[0;31mNameError\u001b[0m                                 Traceback (most recent call last)",
      "Cell \u001b[0;32mIn[9], line 2\u001b[0m\n\u001b[1;32m      1\u001b[0m \u001b[38;5;66;03m# Join de los dos dataframes con la clave comun de MRUN\u001b[39;00m\n\u001b[0;32m----> 2\u001b[0m combinado2018 \u001b[38;5;241m=\u001b[39m pd\u001b[38;5;241m.\u001b[39mmerge(\u001b[43mcombinado2018\u001b[49m, noviembre2018, on\u001b[38;5;241m=\u001b[39m\u001b[38;5;124m'\u001b[39m\u001b[38;5;124mMRUN\u001b[39m\u001b[38;5;124m'\u001b[39m)\n",
      "\u001b[0;31mNameError\u001b[0m: name 'combinado2018' is not defined"
     ]
    }
   ],
   "source": [
    "# Join de los dos dataframes con la clave comun de MRUN\n",
    "combinado2018 = pd.merge(combinado2018, noviembre2018, on='MRUN')"
   ]
  },
  {
   "cell_type": "code",
   "execution_count": null,
   "metadata": {},
   "outputs": [],
   "source": [
    "# Importar datos de asistencia de diciembre\n",
    "diciembre2018 = pd.read_csv('data/asistencia/2018/20190121_Asistencia_Diciembre_2018_20190115_PUBL.csv', sep=';')"
   ]
  },
  {
   "cell_type": "code",
   "execution_count": null,
   "metadata": {},
   "outputs": [],
   "source": [
    "# Seleccionar columnas\n",
    "diciembre2018 = diciembre2018[['MRUN', 'DIAS_ASISTIDOS', 'DIAS_TRABAJADOS', 'ASIS_PROMEDIO']]"
   ]
  },
  {
   "cell_type": "code",
   "execution_count": null,
   "metadata": {},
   "outputs": [],
   "source": [
    "# Convertir ASIS_PROMEDIO a float\n",
    "diciembre2018['ASIS_PROMEDIO'] = diciembre2018['ASIS_PROMEDIO'].str.replace(',', '.').astype(float)"
   ]
  },
  {
   "cell_type": "code",
   "execution_count": null,
   "metadata": {},
   "outputs": [],
   "source": [
    "# Cambiar nombre DIAS_ASISTIDOS a DIAS_ASISTIDOS_DICIEMBRE\n",
    "diciembre2018 = diciembre2018.rename(columns={'DIAS_ASISTIDOS': 'DIAS_ASISTIDOS_DICIEMBRE'})"
   ]
  },
  {
   "cell_type": "code",
   "execution_count": null,
   "metadata": {},
   "outputs": [],
   "source": [
    "# Cambiar nombre de DIAS_TRABAJADOS a DIAS_TRABAJADOS_DICIEMBRE\n",
    "diciembre2018 = diciembre2018.rename(columns={'DIAS_TRABAJADOS': 'DIAS_TRABAJADOS_DICIEMBRE'})"
   ]
  },
  {
   "cell_type": "code",
   "execution_count": null,
   "metadata": {},
   "outputs": [],
   "source": [
    "# Cambiar nombre de ASIS_PROMEDIO a ASIS_PROMEDIO_DICIEMBRE\n",
    "diciembre2018 = diciembre2018.rename(columns={'ASIS_PROMEDIO': 'ASIS_PROMEDIO_DICIEMBRE'})"
   ]
  },
  {
   "cell_type": "code",
   "execution_count": null,
   "metadata": {},
   "outputs": [],
   "source": [
    "# Join de los dos dataframes con la clave comun de MRUN\n",
    "combinado2018 = pd.merge(combinado2018, diciembre2018, on='MRUN')"
   ]
  },
  {
   "cell_type": "code",
   "execution_count": null,
   "metadata": {},
   "outputs": [],
   "source": [
    "# Explortar archivo como csv\n",
    "combinado2018.to_csv('data/tablas/seguimiento2018.csv', sep=';', index=False)"
   ]
  }
 ],
 "metadata": {
  "kernelspec": {
   "display_name": "Python 3",
   "language": "python",
   "name": "python3"
  },
  "language_info": {
   "codemirror_mode": {
    "name": "ipython",
    "version": 3
   },
   "file_extension": ".py",
   "mimetype": "text/x-python",
   "name": "python",
   "nbconvert_exporter": "python",
   "pygments_lexer": "ipython3",
   "version": "3.9.12"
  }
 },
 "nbformat": 4,
 "nbformat_minor": 2
}
