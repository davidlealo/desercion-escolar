{
 "cells": [
  {
   "cell_type": "code",
   "execution_count": 2,
   "metadata": {},
   "outputs": [],
   "source": [
    "import pandas as pd\n",
    "import numpy as np\n",
    "from sklearn.ensemble import RandomForestClassifier, RandomForestRegressor\n",
    "from sklearn.model_selection import train_test_split\n",
    "from sklearn.metrics import classification_report, confusion_matrix"
   ]
  },
  {
   "cell_type": "code",
   "execution_count": 3,
   "metadata": {},
   "outputs": [],
   "source": [
    "combinado2018 = pd.read_csv('data/tablas/combinado2018.csv', sep=';')"
   ]
  },
  {
   "cell_type": "code",
   "execution_count": 4,
   "metadata": {},
   "outputs": [],
   "source": [
    "combinado2018['PROM_GRAL'] = combinado2018['PROM_GRAL'].str.replace(',', '.').astype(float)"
   ]
  },
  {
   "cell_type": "code",
   "execution_count": 5,
   "metadata": {},
   "outputs": [
    {
     "name": "stdout",
     "output_type": "stream",
     "text": [
      "0         2001-04-01\n",
      "1         2000-04-01\n",
      "2         2001-09-01\n",
      "3         2001-05-01\n",
      "4         2001-07-01\n",
      "             ...    \n",
      "2893195   2002-07-01\n",
      "2893196   2003-03-01\n",
      "2893197   2001-11-01\n",
      "2893198   2002-08-01\n",
      "2893199   2003-06-01\n",
      "Name: FEC_NAC_ALU, Length: 2893200, dtype: datetime64[ns]\n"
     ]
    }
   ],
   "source": [
    "# Convertir 'FEC_NAC_ALU' a una cadena\n",
    "combinado2018['FEC_NAC_ALU'] = combinado2018['FEC_NAC_ALU'].astype(str)\n",
    "\n",
    "# Asegurarse de que la cadena tiene el formato correcto (YYYYMM)\n",
    "combinado2018['FEC_NAC_ALU'] = combinado2018['FEC_NAC_ALU'].str.pad(width=6, side='left', fillchar='0')\n",
    "\n",
    "# Convertir la cadena a un formato de fecha\n",
    "combinado2018['FEC_NAC_ALU'] = pd.to_datetime(combinado2018['FEC_NAC_ALU'], format='%Y%m')\n",
    "\n",
    "print(combinado2018['FEC_NAC_ALU'])"
   ]
  },
  {
   "cell_type": "code",
   "execution_count": 6,
   "metadata": {},
   "outputs": [],
   "source": [
    "# Crear nuevas columnas para el año y el mes\n",
    "combinado2018['AGNO_NAC_ALU'] = combinado2018['FEC_NAC_ALU'].dt.year\n",
    "combinado2018['MES_NAC_ALU'] = combinado2018['FEC_NAC_ALU'].dt.month\n",
    "\n",
    "# Eliminar la columna del día\n",
    "combinado2018['FEC_NAC_ALU'] = combinado2018['FEC_NAC_ALU'].dt.to_period('M')"
   ]
  },
  {
   "cell_type": "code",
   "execution_count": 7,
   "metadata": {},
   "outputs": [],
   "source": [
    "# Drop Unnamed: 0      \n",
    "combinado2018 = combinado2018.drop(['Unnamed: 0'], axis=1)"
   ]
  },
  {
   "cell_type": "code",
   "execution_count": 8,
   "metadata": {},
   "outputs": [
    {
     "name": "stdout",
     "output_type": "stream",
     "text": [
      "<class 'pandas.core.frame.DataFrame'>\n",
      "RangeIndex: 2893200 entries, 0 to 2893199\n",
      "Data columns (total 40 columns):\n",
      " #   Column          Dtype    \n",
      "---  ------          -----    \n",
      " 0   AGNO            int64    \n",
      " 1   RBD             int64    \n",
      " 2   DGV_RBD         int64    \n",
      " 3   NOM_RBD         object   \n",
      " 4   COD_REG_RBD     int64    \n",
      " 5   NOM_REG_RBD_A   object   \n",
      " 6   COD_PRO_RBD     int64    \n",
      " 7   COD_COM_RBD     int64    \n",
      " 8   NOM_COM_RBD     object   \n",
      " 9   COD_DEPROV_RBD  int64    \n",
      " 10  NOM_DEPROV_RBD  object   \n",
      " 11  COD_DEPE        int64    \n",
      " 12  COD_DEPE2       int64    \n",
      " 13  RURAL_RBD       int64    \n",
      " 14  ESTADO_ESTAB    int64    \n",
      " 15  COD_ENSE        int64    \n",
      " 16  COD_ENSE2       int64    \n",
      " 17  COD_GRADO       int64    \n",
      " 18  LET_CUR         object   \n",
      " 19  COD_JOR         int64    \n",
      " 20  COD_TIP_CUR     int64    \n",
      " 21  COD_DES_CUR     int64    \n",
      " 22  MRUN            int64    \n",
      " 23  GEN_ALU         int64    \n",
      " 24  FEC_NAC_ALU     period[M]\n",
      " 25  EDAD_ALU        int64    \n",
      " 26  COD_REG_ALU     int64    \n",
      " 27  COD_COM_ALU     int64    \n",
      " 28  NOM_COM_ALU     object   \n",
      " 29  COD_RAMA        int64    \n",
      " 30  COD_SEC         int64    \n",
      " 31  COD_ESPE        int64    \n",
      " 32  PROM_GRAL       float64  \n",
      " 33  ASISTENCIA      int64    \n",
      " 34  SIT_FIN         object   \n",
      " 35  SIT_FIN_R       object   \n",
      " 36  DESERTOR        int64    \n",
      " 37  COD_MEN         float64  \n",
      " 38  AGNO_NAC_ALU    int32    \n",
      " 39  MES_NAC_ALU     int32    \n",
      "dtypes: float64(2), int32(2), int64(27), object(8), period[M](1)\n",
      "memory usage: 860.9+ MB\n"
     ]
    }
   ],
   "source": [
    "combinado2018.info()"
   ]
  },
  {
   "cell_type": "code",
   "execution_count": 9,
   "metadata": {},
   "outputs": [],
   "source": [
    "combinado2018 = combinado2018.drop(['FEC_NAC_ALU'], axis=1)"
   ]
  },
  {
   "cell_type": "code",
   "execution_count": 10,
   "metadata": {},
   "outputs": [
    {
     "name": "stdout",
     "output_type": "stream",
     "text": [
      "<class 'pandas.core.frame.DataFrame'>\n",
      "RangeIndex: 2893200 entries, 0 to 2893199\n",
      "Data columns (total 39 columns):\n",
      " #   Column          Dtype  \n",
      "---  ------          -----  \n",
      " 0   AGNO            int64  \n",
      " 1   RBD             int64  \n",
      " 2   DGV_RBD         int64  \n",
      " 3   NOM_RBD         object \n",
      " 4   COD_REG_RBD     int64  \n",
      " 5   NOM_REG_RBD_A   object \n",
      " 6   COD_PRO_RBD     int64  \n",
      " 7   COD_COM_RBD     int64  \n",
      " 8   NOM_COM_RBD     object \n",
      " 9   COD_DEPROV_RBD  int64  \n",
      " 10  NOM_DEPROV_RBD  object \n",
      " 11  COD_DEPE        int64  \n",
      " 12  COD_DEPE2       int64  \n",
      " 13  RURAL_RBD       int64  \n",
      " 14  ESTADO_ESTAB    int64  \n",
      " 15  COD_ENSE        int64  \n",
      " 16  COD_ENSE2       int64  \n",
      " 17  COD_GRADO       int64  \n",
      " 18  LET_CUR         object \n",
      " 19  COD_JOR         int64  \n",
      " 20  COD_TIP_CUR     int64  \n",
      " 21  COD_DES_CUR     int64  \n",
      " 22  MRUN            int64  \n",
      " 23  GEN_ALU         int64  \n",
      " 24  EDAD_ALU        int64  \n",
      " 25  COD_REG_ALU     int64  \n",
      " 26  COD_COM_ALU     int64  \n",
      " 27  NOM_COM_ALU     object \n",
      " 28  COD_RAMA        int64  \n",
      " 29  COD_SEC         int64  \n",
      " 30  COD_ESPE        int64  \n",
      " 31  PROM_GRAL       float64\n",
      " 32  ASISTENCIA      int64  \n",
      " 33  SIT_FIN         object \n",
      " 34  SIT_FIN_R       object \n",
      " 35  DESERTOR        int64  \n",
      " 36  COD_MEN         float64\n",
      " 37  AGNO_NAC_ALU    int32  \n",
      " 38  MES_NAC_ALU     int32  \n",
      "dtypes: float64(2), int32(2), int64(27), object(8)\n",
      "memory usage: 838.8+ MB\n"
     ]
    }
   ],
   "source": [
    "combinado2018.info()"
   ]
  },
  {
   "cell_type": "code",
   "execution_count": 11,
   "metadata": {},
   "outputs": [],
   "source": [
    "marzo2018 = pd.read_csv('data/asistencia/2018/20180816_Asistencia_Marzo_2018_20180415_PUBL.csv', sep=';')"
   ]
  },
  {
   "cell_type": "code",
   "execution_count": 12,
   "metadata": {},
   "outputs": [
    {
     "name": "stdout",
     "output_type": "stream",
     "text": [
      "<class 'pandas.core.frame.DataFrame'>\n",
      "RangeIndex: 3328379 entries, 0 to 3328378\n",
      "Data columns (total 26 columns):\n",
      " #   Column           Dtype \n",
      "---  ------           ----- \n",
      " 0   AGNO             int64 \n",
      " 1   MES_ESCOLAR      int64 \n",
      " 2   RBD              int64 \n",
      " 3   DGV_RBD          int64 \n",
      " 4   NOM_RBD          object\n",
      " 5   COD_REG_RBD      int64 \n",
      " 6   COD_PRO_RBD      int64 \n",
      " 7   COD_COM_RBD      int64 \n",
      " 8   NOM_COM_RBD      object\n",
      " 9   COD_DEPROV_RBD   int64 \n",
      " 10  NOM_DEPROV_RBD   object\n",
      " 11  RURAL_RBD        int64 \n",
      " 12  COD_DEPE         int64 \n",
      " 13  COD_DEPE2        int64 \n",
      " 14  COD_ENSE         int64 \n",
      " 15  COD_ENSE2        int64 \n",
      " 16  COD_GRADO        int64 \n",
      " 17  LET_CUR          object\n",
      " 18  MRUN             int64 \n",
      " 19  GEN_ALU          int64 \n",
      " 20  FEC_NAC_ALU      int64 \n",
      " 21  COD_COM_ALU      int64 \n",
      " 22  NOM_COM_ALU      object\n",
      " 23  DIAS_ASISTIDOS   int64 \n",
      " 24  DIAS_TRABAJADOS  int64 \n",
      " 25  ASIS_PROMEDIO    object\n",
      "dtypes: int64(20), object(6)\n",
      "memory usage: 660.2+ MB\n"
     ]
    }
   ],
   "source": [
    "marzo2018.info()"
   ]
  },
  {
   "cell_type": "code",
   "execution_count": 13,
   "metadata": {},
   "outputs": [],
   "source": [
    "marzo2018 = marzo2018[['MRUN', 'DIAS_ASISTIDOS', 'DIAS_TRABAJADOS', 'ASIS_PROMEDIO']]"
   ]
  },
  {
   "cell_type": "code",
   "execution_count": 14,
   "metadata": {},
   "outputs": [],
   "source": [
    "# Convertir ASIS_PROMEDIO a float\n",
    "marzo2018['ASIS_PROMEDIO'] = marzo2018['ASIS_PROMEDIO'].str.replace(',', '.').astype(float)"
   ]
  },
  {
   "cell_type": "code",
   "execution_count": 15,
   "metadata": {},
   "outputs": [
    {
     "data": {
      "text/html": [
       "<div>\n",
       "<style scoped>\n",
       "    .dataframe tbody tr th:only-of-type {\n",
       "        vertical-align: middle;\n",
       "    }\n",
       "\n",
       "    .dataframe tbody tr th {\n",
       "        vertical-align: top;\n",
       "    }\n",
       "\n",
       "    .dataframe thead th {\n",
       "        text-align: right;\n",
       "    }\n",
       "</style>\n",
       "<table border=\"1\" class=\"dataframe\">\n",
       "  <thead>\n",
       "    <tr style=\"text-align: right;\">\n",
       "      <th></th>\n",
       "      <th>MRUN</th>\n",
       "      <th>DIAS_ASISTIDOS</th>\n",
       "      <th>DIAS_TRABAJADOS</th>\n",
       "      <th>ASIS_PROMEDIO</th>\n",
       "    </tr>\n",
       "  </thead>\n",
       "  <tbody>\n",
       "    <tr>\n",
       "      <th>0</th>\n",
       "      <td>710054</td>\n",
       "      <td>4</td>\n",
       "      <td>9</td>\n",
       "      <td>0.4444</td>\n",
       "    </tr>\n",
       "    <tr>\n",
       "      <th>1</th>\n",
       "      <td>4895728</td>\n",
       "      <td>2</td>\n",
       "      <td>9</td>\n",
       "      <td>0.2222</td>\n",
       "    </tr>\n",
       "    <tr>\n",
       "      <th>2</th>\n",
       "      <td>7519082</td>\n",
       "      <td>3</td>\n",
       "      <td>9</td>\n",
       "      <td>0.3333</td>\n",
       "    </tr>\n",
       "    <tr>\n",
       "      <th>3</th>\n",
       "      <td>7752592</td>\n",
       "      <td>9</td>\n",
       "      <td>9</td>\n",
       "      <td>1.0000</td>\n",
       "    </tr>\n",
       "    <tr>\n",
       "      <th>4</th>\n",
       "      <td>8445111</td>\n",
       "      <td>8</td>\n",
       "      <td>9</td>\n",
       "      <td>0.8889</td>\n",
       "    </tr>\n",
       "  </tbody>\n",
       "</table>\n",
       "</div>"
      ],
      "text/plain": [
       "      MRUN  DIAS_ASISTIDOS  DIAS_TRABAJADOS  ASIS_PROMEDIO\n",
       "0   710054               4                9         0.4444\n",
       "1  4895728               2                9         0.2222\n",
       "2  7519082               3                9         0.3333\n",
       "3  7752592               9                9         1.0000\n",
       "4  8445111               8                9         0.8889"
      ]
     },
     "execution_count": 15,
     "metadata": {},
     "output_type": "execute_result"
    }
   ],
   "source": [
    "marzo2018.head()"
   ]
  },
  {
   "cell_type": "code",
   "execution_count": 16,
   "metadata": {},
   "outputs": [],
   "source": [
    "# Join de los dos dataframes con la clave comun de MRUN\n",
    "combinado2018 = pd.merge(combinado2018, marzo2018, on='MRUN')"
   ]
  },
  {
   "cell_type": "code",
   "execution_count": 17,
   "metadata": {},
   "outputs": [
    {
     "name": "stdout",
     "output_type": "stream",
     "text": [
      "<class 'pandas.core.frame.DataFrame'>\n",
      "RangeIndex: 2650576 entries, 0 to 2650575\n",
      "Data columns (total 42 columns):\n",
      " #   Column           Dtype  \n",
      "---  ------           -----  \n",
      " 0   AGNO             int64  \n",
      " 1   RBD              int64  \n",
      " 2   DGV_RBD          int64  \n",
      " 3   NOM_RBD          object \n",
      " 4   COD_REG_RBD      int64  \n",
      " 5   NOM_REG_RBD_A    object \n",
      " 6   COD_PRO_RBD      int64  \n",
      " 7   COD_COM_RBD      int64  \n",
      " 8   NOM_COM_RBD      object \n",
      " 9   COD_DEPROV_RBD   int64  \n",
      " 10  NOM_DEPROV_RBD   object \n",
      " 11  COD_DEPE         int64  \n",
      " 12  COD_DEPE2        int64  \n",
      " 13  RURAL_RBD        int64  \n",
      " 14  ESTADO_ESTAB     int64  \n",
      " 15  COD_ENSE         int64  \n",
      " 16  COD_ENSE2        int64  \n",
      " 17  COD_GRADO        int64  \n",
      " 18  LET_CUR          object \n",
      " 19  COD_JOR          int64  \n",
      " 20  COD_TIP_CUR      int64  \n",
      " 21  COD_DES_CUR      int64  \n",
      " 22  MRUN             int64  \n",
      " 23  GEN_ALU          int64  \n",
      " 24  EDAD_ALU         int64  \n",
      " 25  COD_REG_ALU      int64  \n",
      " 26  COD_COM_ALU      int64  \n",
      " 27  NOM_COM_ALU      object \n",
      " 28  COD_RAMA         int64  \n",
      " 29  COD_SEC          int64  \n",
      " 30  COD_ESPE         int64  \n",
      " 31  PROM_GRAL        float64\n",
      " 32  ASISTENCIA       int64  \n",
      " 33  SIT_FIN          object \n",
      " 34  SIT_FIN_R        object \n",
      " 35  DESERTOR         int64  \n",
      " 36  COD_MEN          float64\n",
      " 37  AGNO_NAC_ALU     int32  \n",
      " 38  MES_NAC_ALU      int32  \n",
      " 39  DIAS_ASISTIDOS   int64  \n",
      " 40  DIAS_TRABAJADOS  int64  \n",
      " 41  ASIS_PROMEDIO    float64\n",
      "dtypes: float64(3), int32(2), int64(29), object(8)\n",
      "memory usage: 829.1+ MB\n"
     ]
    }
   ],
   "source": [
    "combinado2018.info()"
   ]
  },
  {
   "cell_type": "code",
   "execution_count": 18,
   "metadata": {},
   "outputs": [],
   "source": [
    "# cambiar nombre DIAS_ASISTIDOS a DIAS_ASISTIDOS_MARZO\n",
    "combinado2018 = combinado2018.rename(columns={'DIAS_ASISTIDOS': 'DIAS_ASISTIDOS_MARZO'})"
   ]
  },
  {
   "cell_type": "code",
   "execution_count": 19,
   "metadata": {},
   "outputs": [],
   "source": [
    "# Cambiar nombre de DIAS_TRABAJADOS a DIAS_TRABAJADOS_MARZO\n",
    "combinado2018 = combinado2018.rename(columns={'DIAS_TRABAJADOS': 'DIAS_TRABAJADOS_MARZO'})"
   ]
  },
  {
   "cell_type": "code",
   "execution_count": 20,
   "metadata": {},
   "outputs": [],
   "source": [
    "# Cambiar nombre de ASIS_PROMEDIO a ASIS_PROMEDIO_MARZO\n",
    "combinado2018 = combinado2018.rename(columns={'ASIS_PROMEDIO': 'ASIS_PROMEDIO_MARZO'})"
   ]
  },
  {
   "cell_type": "code",
   "execution_count": 21,
   "metadata": {},
   "outputs": [
    {
     "name": "stdout",
     "output_type": "stream",
     "text": [
      "<class 'pandas.core.frame.DataFrame'>\n",
      "RangeIndex: 2650576 entries, 0 to 2650575\n",
      "Data columns (total 42 columns):\n",
      " #   Column                 Dtype  \n",
      "---  ------                 -----  \n",
      " 0   AGNO                   int64  \n",
      " 1   RBD                    int64  \n",
      " 2   DGV_RBD                int64  \n",
      " 3   NOM_RBD                object \n",
      " 4   COD_REG_RBD            int64  \n",
      " 5   NOM_REG_RBD_A          object \n",
      " 6   COD_PRO_RBD            int64  \n",
      " 7   COD_COM_RBD            int64  \n",
      " 8   NOM_COM_RBD            object \n",
      " 9   COD_DEPROV_RBD         int64  \n",
      " 10  NOM_DEPROV_RBD         object \n",
      " 11  COD_DEPE               int64  \n",
      " 12  COD_DEPE2              int64  \n",
      " 13  RURAL_RBD              int64  \n",
      " 14  ESTADO_ESTAB           int64  \n",
      " 15  COD_ENSE               int64  \n",
      " 16  COD_ENSE2              int64  \n",
      " 17  COD_GRADO              int64  \n",
      " 18  LET_CUR                object \n",
      " 19  COD_JOR                int64  \n",
      " 20  COD_TIP_CUR            int64  \n",
      " 21  COD_DES_CUR            int64  \n",
      " 22  MRUN                   int64  \n",
      " 23  GEN_ALU                int64  \n",
      " 24  EDAD_ALU               int64  \n",
      " 25  COD_REG_ALU            int64  \n",
      " 26  COD_COM_ALU            int64  \n",
      " 27  NOM_COM_ALU            object \n",
      " 28  COD_RAMA               int64  \n",
      " 29  COD_SEC                int64  \n",
      " 30  COD_ESPE               int64  \n",
      " 31  PROM_GRAL              float64\n",
      " 32  ASISTENCIA             int64  \n",
      " 33  SIT_FIN                object \n",
      " 34  SIT_FIN_R              object \n",
      " 35  DESERTOR               int64  \n",
      " 36  COD_MEN                float64\n",
      " 37  AGNO_NAC_ALU           int32  \n",
      " 38  MES_NAC_ALU            int32  \n",
      " 39  DIAS_ASISTIDOS_MARZO   int64  \n",
      " 40  DIAS_TRABAJADOS_MARZO  int64  \n",
      " 41  ASIS_PROMEDIO_MARZO    float64\n",
      "dtypes: float64(3), int32(2), int64(29), object(8)\n",
      "memory usage: 829.1+ MB\n"
     ]
    }
   ],
   "source": [
    "combinado2018.info()"
   ]
  },
  {
   "cell_type": "code",
   "execution_count": 22,
   "metadata": {},
   "outputs": [],
   "source": [
    "# Importar asistencia de abril\n",
    "abril2018 = pd.read_csv('data/asistencia/2018/20180830_Asistencia_Abril_2018_20180515_PUBL.csv', sep=';')"
   ]
  },
  {
   "cell_type": "code",
   "execution_count": 23,
   "metadata": {},
   "outputs": [],
   "source": [
    "abril2018 = abril2018[['MRUN', 'DIAS_ASISTIDOS', 'DIAS_TRABAJADOS', 'ASIS_PROMEDIO']]"
   ]
  },
  {
   "cell_type": "code",
   "execution_count": 24,
   "metadata": {},
   "outputs": [
    {
     "name": "stdout",
     "output_type": "stream",
     "text": [
      "<class 'pandas.core.frame.DataFrame'>\n",
      "RangeIndex: 3390004 entries, 0 to 3390003\n",
      "Data columns (total 4 columns):\n",
      " #   Column           Dtype \n",
      "---  ------           ----- \n",
      " 0   MRUN             int64 \n",
      " 1   DIAS_ASISTIDOS   int64 \n",
      " 2   DIAS_TRABAJADOS  int64 \n",
      " 3   ASIS_PROMEDIO    object\n",
      "dtypes: int64(3), object(1)\n",
      "memory usage: 103.5+ MB\n"
     ]
    }
   ],
   "source": [
    "abril2018.info()"
   ]
  },
  {
   "cell_type": "code",
   "execution_count": 25,
   "metadata": {},
   "outputs": [],
   "source": [
    "# Convertir ASIS_PROMEDIO a float\n",
    "abril2018['ASIS_PROMEDIO'] = abril2018['ASIS_PROMEDIO'].str.replace(',', '.').astype(float)"
   ]
  },
  {
   "cell_type": "code",
   "execution_count": 26,
   "metadata": {},
   "outputs": [],
   "source": [
    "# cambiar nombre DIAS_ASISTIDOS a DIAS_ASISTIDOS_MARZO\n",
    "abril2018 = abril2018.rename(columns={'DIAS_ASISTIDOS': 'DIAS_ASISTIDOS_ABRIL'})"
   ]
  },
  {
   "cell_type": "code",
   "execution_count": 27,
   "metadata": {},
   "outputs": [],
   "source": [
    "# Cambiar nombre de DIAS_TRABAJADOS a DIAS_TRABAJADOS_ABRIL\n",
    "abril2018 = abril2018.rename(columns={'DIAS_TRABAJADOS': 'DIAS_TRABAJADOS_ABRIL'})"
   ]
  },
  {
   "cell_type": "code",
   "execution_count": 28,
   "metadata": {},
   "outputs": [],
   "source": [
    "# Cambiar nombre de ASIS_PROMEDIO a ASIS_PROMEDIO_ABRIL\n",
    "abril2018 = abril2018.rename(columns={'ASIS_PROMEDIO': 'ASIS_PROMEDIO_ABRIL'})"
   ]
  },
  {
   "cell_type": "code",
   "execution_count": 29,
   "metadata": {},
   "outputs": [],
   "source": [
    "# Join de los dos dataframes con la clave comun de MRUN\n",
    "combinado2018 = pd.merge(combinado2018, abril2018, on='MRUN')"
   ]
  },
  {
   "cell_type": "code",
   "execution_count": 30,
   "metadata": {},
   "outputs": [
    {
     "name": "stdout",
     "output_type": "stream",
     "text": [
      "<class 'pandas.core.frame.DataFrame'>\n",
      "RangeIndex: 2793440 entries, 0 to 2793439\n",
      "Data columns (total 45 columns):\n",
      " #   Column                 Dtype  \n",
      "---  ------                 -----  \n",
      " 0   AGNO                   int64  \n",
      " 1   RBD                    int64  \n",
      " 2   DGV_RBD                int64  \n",
      " 3   NOM_RBD                object \n",
      " 4   COD_REG_RBD            int64  \n",
      " 5   NOM_REG_RBD_A          object \n",
      " 6   COD_PRO_RBD            int64  \n",
      " 7   COD_COM_RBD            int64  \n",
      " 8   NOM_COM_RBD            object \n",
      " 9   COD_DEPROV_RBD         int64  \n",
      " 10  NOM_DEPROV_RBD         object \n",
      " 11  COD_DEPE               int64  \n",
      " 12  COD_DEPE2              int64  \n",
      " 13  RURAL_RBD              int64  \n",
      " 14  ESTADO_ESTAB           int64  \n",
      " 15  COD_ENSE               int64  \n",
      " 16  COD_ENSE2              int64  \n",
      " 17  COD_GRADO              int64  \n",
      " 18  LET_CUR                object \n",
      " 19  COD_JOR                int64  \n",
      " 20  COD_TIP_CUR            int64  \n",
      " 21  COD_DES_CUR            int64  \n",
      " 22  MRUN                   int64  \n",
      " 23  GEN_ALU                int64  \n",
      " 24  EDAD_ALU               int64  \n",
      " 25  COD_REG_ALU            int64  \n",
      " 26  COD_COM_ALU            int64  \n",
      " 27  NOM_COM_ALU            object \n",
      " 28  COD_RAMA               int64  \n",
      " 29  COD_SEC                int64  \n",
      " 30  COD_ESPE               int64  \n",
      " 31  PROM_GRAL              float64\n",
      " 32  ASISTENCIA             int64  \n",
      " 33  SIT_FIN                object \n",
      " 34  SIT_FIN_R              object \n",
      " 35  DESERTOR               int64  \n",
      " 36  COD_MEN                float64\n",
      " 37  AGNO_NAC_ALU           int32  \n",
      " 38  MES_NAC_ALU            int32  \n",
      " 39  DIAS_ASISTIDOS_MARZO   int64  \n",
      " 40  DIAS_TRABAJADOS_MARZO  int64  \n",
      " 41  ASIS_PROMEDIO_MARZO    float64\n",
      " 42  DIAS_ASISTIDOS_ABRIL   int64  \n",
      " 43  DIAS_TRABAJADOS_ABRIL  int64  \n",
      " 44  ASIS_PROMEDIO_ABRIL    float64\n",
      "dtypes: float64(4), int32(2), int64(31), object(8)\n",
      "memory usage: 937.7+ MB\n"
     ]
    }
   ],
   "source": [
    "combinado2018.info()"
   ]
  },
  {
   "cell_type": "code",
   "execution_count": 31,
   "metadata": {},
   "outputs": [],
   "source": [
    "# Importar asistencia de mayo\n",
    "mayo2018 = pd.read_csv('data/asistencia/2018/20180720_Asistencia_Mayo_2018_20180615_PUBL.csv', sep=';')"
   ]
  },
  {
   "cell_type": "code",
   "execution_count": 32,
   "metadata": {},
   "outputs": [],
   "source": [
    "mayo2018 = mayo2018[['MRUN', 'DIAS_ASISTIDOS', 'DIAS_TRABAJADOS', 'ASIS_PROMEDIO']]"
   ]
  },
  {
   "cell_type": "code",
   "execution_count": 33,
   "metadata": {},
   "outputs": [],
   "source": [
    "# Convertir ASIS_PROMEDIO a float\n",
    "mayo2018['ASIS_PROMEDIO'] = mayo2018['ASIS_PROMEDIO'].str.replace(',', '.').astype(float)"
   ]
  },
  {
   "cell_type": "code",
   "execution_count": 34,
   "metadata": {},
   "outputs": [],
   "source": [
    "# Cambiar nombre DIAS_ASISTIDOS a DIAS_ASISTIDOS_MAYO\n",
    "mayo2018 = mayo2018.rename(columns={'DIAS_ASISTIDOS': 'DIAS_ASISTIDOS_MAYO'})"
   ]
  },
  {
   "cell_type": "code",
   "execution_count": 35,
   "metadata": {},
   "outputs": [],
   "source": [
    "# Cambiar nombre de DIAS_TRABAJADOS a DIAS_TRABAJADOS_MAYO\n",
    "mayo2018 = mayo2018.rename(columns={'DIAS_TRABAJADOS': 'DIAS_TRABAJADOS_MAYO'})"
   ]
  },
  {
   "cell_type": "code",
   "execution_count": 36,
   "metadata": {},
   "outputs": [],
   "source": [
    "# Cambiar nombre de ASIS_PROMEDIO a ASIS_PROMEDIO_MAYO\n",
    "mayo2018 = mayo2018.rename(columns={'ASIS_PROMEDIO': 'ASIS_PROMEDIO_MAYO'})"
   ]
  },
  {
   "cell_type": "code",
   "execution_count": 37,
   "metadata": {},
   "outputs": [
    {
     "name": "stdout",
     "output_type": "stream",
     "text": [
      "<class 'pandas.core.frame.DataFrame'>\n",
      "RangeIndex: 3436857 entries, 0 to 3436856\n",
      "Data columns (total 4 columns):\n",
      " #   Column                Dtype  \n",
      "---  ------                -----  \n",
      " 0   MRUN                  int64  \n",
      " 1   DIAS_ASISTIDOS_MAYO   int64  \n",
      " 2   DIAS_TRABAJADOS_MAYO  int64  \n",
      " 3   ASIS_PROMEDIO_MAYO    float64\n",
      "dtypes: float64(1), int64(3)\n",
      "memory usage: 104.9 MB\n"
     ]
    }
   ],
   "source": [
    "mayo2018.info()"
   ]
  },
  {
   "cell_type": "code",
   "execution_count": 38,
   "metadata": {},
   "outputs": [],
   "source": [
    "# Join de los dos dataframes con la clave comun de MRUN\n",
    "combinado2018 = pd.merge(combinado2018, mayo2018, on='MRUN')"
   ]
  },
  {
   "cell_type": "code",
   "execution_count": 39,
   "metadata": {},
   "outputs": [],
   "source": [
    "# Importar asistencia de junio\n",
    "junio2018 = pd.read_csv('data/asistencia/2018/20180816_Asistencia_Junio_2018_20180715_PUBL.csv', sep=';')"
   ]
  },
  {
   "cell_type": "code",
   "execution_count": 40,
   "metadata": {},
   "outputs": [],
   "source": [
    "# Seleccionar columnas\n",
    "junio2018 = junio2018[['MRUN', 'DIAS_ASISTIDOS', 'DIAS_TRABAJADOS', 'ASIS_PROMEDIO']]"
   ]
  },
  {
   "cell_type": "code",
   "execution_count": 41,
   "metadata": {},
   "outputs": [],
   "source": [
    "# Convertir ASIS_PROMEDIO a float\n",
    "junio2018['ASIS_PROMEDIO'] = junio2018['ASIS_PROMEDIO'].str.replace(',', '.').astype(float)"
   ]
  },
  {
   "cell_type": "code",
   "execution_count": 42,
   "metadata": {},
   "outputs": [],
   "source": [
    "# Cambiar nombre DIAS_ASISTIDOS a DIAS_ASISTIDOS_JUNIO\n",
    "junio2018 = junio2018.rename(columns={'DIAS_ASISTIDOS': 'DIAS_ASISTIDOS_JUNIO'})"
   ]
  },
  {
   "cell_type": "code",
   "execution_count": 43,
   "metadata": {},
   "outputs": [],
   "source": [
    "# Cambiar nombre de DIAS_TRABAJADOS a DIAS_TRABAJADOS_JUNIO\n",
    "junio2018 = junio2018.rename(columns={'DIAS_TRABAJADOS': 'DIAS_TRABAJADOS_JUNIO'})"
   ]
  },
  {
   "cell_type": "code",
   "execution_count": 44,
   "metadata": {},
   "outputs": [],
   "source": [
    "# Cambiar nombre de ASIS_PROMEDIO a ASIS_PROMEDIO_JUNIO\n",
    "junio2018 = junio2018.rename(columns={'ASIS_PROMEDIO': 'ASIS_PROMEDIO_JUNIO'})"
   ]
  },
  {
   "cell_type": "code",
   "execution_count": 45,
   "metadata": {},
   "outputs": [],
   "source": [
    "# Join de los dos dataframes con la clave comun de MRUN\n",
    "combinado2018 = pd.merge(combinado2018, junio2018, on='MRUN')"
   ]
  },
  {
   "cell_type": "code",
   "execution_count": 46,
   "metadata": {},
   "outputs": [
    {
     "name": "stdout",
     "output_type": "stream",
     "text": [
      "<class 'pandas.core.frame.DataFrame'>\n",
      "RangeIndex: 4041806 entries, 0 to 4041805\n",
      "Data columns (total 51 columns):\n",
      " #   Column                 Dtype  \n",
      "---  ------                 -----  \n",
      " 0   AGNO                   int64  \n",
      " 1   RBD                    int64  \n",
      " 2   DGV_RBD                int64  \n",
      " 3   NOM_RBD                object \n",
      " 4   COD_REG_RBD            int64  \n",
      " 5   NOM_REG_RBD_A          object \n",
      " 6   COD_PRO_RBD            int64  \n",
      " 7   COD_COM_RBD            int64  \n",
      " 8   NOM_COM_RBD            object \n",
      " 9   COD_DEPROV_RBD         int64  \n",
      " 10  NOM_DEPROV_RBD         object \n",
      " 11  COD_DEPE               int64  \n",
      " 12  COD_DEPE2              int64  \n",
      " 13  RURAL_RBD              int64  \n",
      " 14  ESTADO_ESTAB           int64  \n",
      " 15  COD_ENSE               int64  \n",
      " 16  COD_ENSE2              int64  \n",
      " 17  COD_GRADO              int64  \n",
      " 18  LET_CUR                object \n",
      " 19  COD_JOR                int64  \n",
      " 20  COD_TIP_CUR            int64  \n",
      " 21  COD_DES_CUR            int64  \n",
      " 22  MRUN                   int64  \n",
      " 23  GEN_ALU                int64  \n",
      " 24  EDAD_ALU               int64  \n",
      " 25  COD_REG_ALU            int64  \n",
      " 26  COD_COM_ALU            int64  \n",
      " 27  NOM_COM_ALU            object \n",
      " 28  COD_RAMA               int64  \n",
      " 29  COD_SEC                int64  \n",
      " 30  COD_ESPE               int64  \n",
      " 31  PROM_GRAL              float64\n",
      " 32  ASISTENCIA             int64  \n",
      " 33  SIT_FIN                object \n",
      " 34  SIT_FIN_R              object \n",
      " 35  DESERTOR               int64  \n",
      " 36  COD_MEN                float64\n",
      " 37  AGNO_NAC_ALU           int32  \n",
      " 38  MES_NAC_ALU            int32  \n",
      " 39  DIAS_ASISTIDOS_MARZO   int64  \n",
      " 40  DIAS_TRABAJADOS_MARZO  int64  \n",
      " 41  ASIS_PROMEDIO_MARZO    float64\n",
      " 42  DIAS_ASISTIDOS_ABRIL   int64  \n",
      " 43  DIAS_TRABAJADOS_ABRIL  int64  \n",
      " 44  ASIS_PROMEDIO_ABRIL    float64\n",
      " 45  DIAS_ASISTIDOS_MAYO    int64  \n",
      " 46  DIAS_TRABAJADOS_MAYO   int64  \n",
      " 47  ASIS_PROMEDIO_MAYO     float64\n",
      " 48  DIAS_ASISTIDOS_JUNIO   int64  \n",
      " 49  DIAS_TRABAJADOS_JUNIO  int64  \n",
      " 50  ASIS_PROMEDIO_JUNIO    float64\n",
      "dtypes: float64(6), int32(2), int64(35), object(8)\n",
      "memory usage: 1.5+ GB\n"
     ]
    }
   ],
   "source": [
    "combinado2018.info()"
   ]
  },
  {
   "cell_type": "code",
   "execution_count": 47,
   "metadata": {},
   "outputs": [],
   "source": [
    "# Importar datos de asistencia de julio\n",
    "julio2018 = pd.read_csv('data/asistencia/2018/20180904_Asistencia_Julio_2018_20180815_PUBL.csv', sep=';')"
   ]
  },
  {
   "cell_type": "code",
   "execution_count": 48,
   "metadata": {},
   "outputs": [],
   "source": [
    "# Seleccionar columnas\n",
    "julio2018 = julio2018[['MRUN', 'DIAS_ASISTIDOS', 'DIAS_TRABAJADOS', 'ASIS_PROMEDIO']]"
   ]
  },
  {
   "cell_type": "code",
   "execution_count": 49,
   "metadata": {},
   "outputs": [],
   "source": [
    "# Convertir ASIS_PROMEDIO a float\n",
    "julio2018['ASIS_PROMEDIO'] = julio2018['ASIS_PROMEDIO'].str.replace(',', '.').astype(float)"
   ]
  },
  {
   "cell_type": "code",
   "execution_count": 50,
   "metadata": {},
   "outputs": [],
   "source": [
    "# Cambiar nombre DIAS_ASISTIDOS a DIAS_ASISTIDOS_JULIO\n",
    "julio2018 = julio2018.rename(columns={'DIAS_ASISTIDOS': 'DIAS_ASISTIDOS_JULIO'})"
   ]
  },
  {
   "cell_type": "code",
   "execution_count": 51,
   "metadata": {},
   "outputs": [],
   "source": [
    "# Cambiar nombre de DIAS_TRABAJADOS a DIAS_TRABAJADOS_JULIO\n",
    "julio2018 = julio2018.rename(columns={'DIAS_TRABAJADOS': 'DIAS_TRABAJADOS_JULIO'})"
   ]
  },
  {
   "cell_type": "code",
   "execution_count": 52,
   "metadata": {},
   "outputs": [],
   "source": [
    "# Cambiar nombre de ASIS_PROMEDIO a ASIS_PROMEDIO_JULIO\n",
    "julio2018 = julio2018.rename(columns={'ASIS_PROMEDIO': 'ASIS_PROMEDIO_JULIO'})"
   ]
  },
  {
   "cell_type": "code",
   "execution_count": 53,
   "metadata": {},
   "outputs": [],
   "source": [
    "# Join de los dos dataframes con la clave comun de MRUN\n",
    "combinado2018 = pd.merge(combinado2018, julio2018, on='MRUN')"
   ]
  },
  {
   "cell_type": "code",
   "execution_count": 54,
   "metadata": {},
   "outputs": [
    {
     "name": "stdout",
     "output_type": "stream",
     "text": [
      "<class 'pandas.core.frame.DataFrame'>\n",
      "RangeIndex: 6758035 entries, 0 to 6758034\n",
      "Data columns (total 54 columns):\n",
      " #   Column                 Dtype  \n",
      "---  ------                 -----  \n",
      " 0   AGNO                   int64  \n",
      " 1   RBD                    int64  \n",
      " 2   DGV_RBD                int64  \n",
      " 3   NOM_RBD                object \n",
      " 4   COD_REG_RBD            int64  \n",
      " 5   NOM_REG_RBD_A          object \n",
      " 6   COD_PRO_RBD            int64  \n",
      " 7   COD_COM_RBD            int64  \n",
      " 8   NOM_COM_RBD            object \n",
      " 9   COD_DEPROV_RBD         int64  \n",
      " 10  NOM_DEPROV_RBD         object \n",
      " 11  COD_DEPE               int64  \n",
      " 12  COD_DEPE2              int64  \n",
      " 13  RURAL_RBD              int64  \n",
      " 14  ESTADO_ESTAB           int64  \n",
      " 15  COD_ENSE               int64  \n",
      " 16  COD_ENSE2              int64  \n",
      " 17  COD_GRADO              int64  \n",
      " 18  LET_CUR                object \n",
      " 19  COD_JOR                int64  \n",
      " 20  COD_TIP_CUR            int64  \n",
      " 21  COD_DES_CUR            int64  \n",
      " 22  MRUN                   int64  \n",
      " 23  GEN_ALU                int64  \n",
      " 24  EDAD_ALU               int64  \n",
      " 25  COD_REG_ALU            int64  \n",
      " 26  COD_COM_ALU            int64  \n",
      " 27  NOM_COM_ALU            object \n",
      " 28  COD_RAMA               int64  \n",
      " 29  COD_SEC                int64  \n",
      " 30  COD_ESPE               int64  \n",
      " 31  PROM_GRAL              float64\n",
      " 32  ASISTENCIA             int64  \n",
      " 33  SIT_FIN                object \n",
      " 34  SIT_FIN_R              object \n",
      " 35  DESERTOR               int64  \n",
      " 36  COD_MEN                float64\n",
      " 37  AGNO_NAC_ALU           int32  \n",
      " 38  MES_NAC_ALU            int32  \n",
      " 39  DIAS_ASISTIDOS_MARZO   int64  \n",
      " 40  DIAS_TRABAJADOS_MARZO  int64  \n",
      " 41  ASIS_PROMEDIO_MARZO    float64\n",
      " 42  DIAS_ASISTIDOS_ABRIL   int64  \n",
      " 43  DIAS_TRABAJADOS_ABRIL  int64  \n",
      " 44  ASIS_PROMEDIO_ABRIL    float64\n",
      " 45  DIAS_ASISTIDOS_MAYO    int64  \n",
      " 46  DIAS_TRABAJADOS_MAYO   int64  \n",
      " 47  ASIS_PROMEDIO_MAYO     float64\n",
      " 48  DIAS_ASISTIDOS_JUNIO   int64  \n",
      " 49  DIAS_TRABAJADOS_JUNIO  int64  \n",
      " 50  ASIS_PROMEDIO_JUNIO    float64\n",
      " 51  DIAS_ASISTIDOS_JULIO   int64  \n",
      " 52  DIAS_TRABAJADOS_JULIO  int64  \n",
      " 53  ASIS_PROMEDIO_JULIO    float64\n",
      "dtypes: float64(7), int32(2), int64(37), object(8)\n",
      "memory usage: 2.7+ GB\n"
     ]
    }
   ],
   "source": [
    "combinado2018.info()"
   ]
  },
  {
   "cell_type": "code",
   "execution_count": 55,
   "metadata": {},
   "outputs": [
    {
     "name": "stderr",
     "output_type": "stream",
     "text": [
      "/var/folders/v5/8__wxdkj3j713bygpr1tsw_80000gn/T/ipykernel_23203/1563678730.py:2: DtypeWarning: Columns (20) have mixed types. Specify dtype option on import or set low_memory=False.\n",
      "  agosto2018 = pd.read_csv('data/asistencia/2018/20181026_Asistencia_Agosto_2018_20180915_PUBL.csv', sep=';')\n"
     ]
    }
   ],
   "source": [
    "# Importar datos de asistencia de agosto\n",
    "agosto2018 = pd.read_csv('data/asistencia/2018/20181026_Asistencia_Agosto_2018_20180915_PUBL.csv', sep=';')"
   ]
  },
  {
   "cell_type": "code",
   "execution_count": 56,
   "metadata": {},
   "outputs": [],
   "source": [
    "# Seleccionar columnas\n",
    "agosto2018 = agosto2018[['MRUN', 'DIAS_ASISTIDOS', 'DIAS_TRABAJADOS', 'ASIS_PROMEDIO']]"
   ]
  },
  {
   "cell_type": "code",
   "execution_count": 57,
   "metadata": {},
   "outputs": [],
   "source": [
    "# Convertir ASIS_PROMEDIO a float\n",
    "agosto2018['ASIS_PROMEDIO'] = agosto2018['ASIS_PROMEDIO'].str.replace(',', '.').astype(float)"
   ]
  },
  {
   "cell_type": "code",
   "execution_count": 58,
   "metadata": {},
   "outputs": [],
   "source": [
    "# Cambiar nombre DIAS_ASISTIDOS a DIAS_ASISTIDOS_AGOSTO\n",
    "agosto2018 = agosto2018.rename(columns={'DIAS_ASISTIDOS': 'DIAS_ASISTIDOS_AGOSTO'})"
   ]
  },
  {
   "cell_type": "code",
   "execution_count": 59,
   "metadata": {},
   "outputs": [],
   "source": [
    "# Cambiar nombre de DIAS_TRABAJADOS a DIAS_TRABAJADOS_AGOSTO\n",
    "agosto2018 = agosto2018.rename(columns={'DIAS_TRABAJADOS': 'DIAS_TRABAJADOS_AGOSTO'})"
   ]
  },
  {
   "cell_type": "code",
   "execution_count": 60,
   "metadata": {},
   "outputs": [],
   "source": [
    "# Cambiar nombre de ASIS_PROMEDIO a ASIS_PROMEDIO_AGOSTO\n",
    "agosto2018 = agosto2018.rename(columns={'ASIS_PROMEDIO': 'ASIS_PROMEDIO_AGOSTO'})"
   ]
  },
  {
   "cell_type": "code",
   "execution_count": 61,
   "metadata": {},
   "outputs": [],
   "source": [
    "# Join de los dos dataframes con la clave comun de MRUN\n",
    "combinado2018 = pd.merge(combinado2018, agosto2018, on='MRUN')"
   ]
  },
  {
   "cell_type": "code",
   "execution_count": 62,
   "metadata": {},
   "outputs": [
    {
     "name": "stdout",
     "output_type": "stream",
     "text": [
      "<class 'pandas.core.frame.DataFrame'>\n",
      "RangeIndex: 18703892 entries, 0 to 18703891\n",
      "Data columns (total 57 columns):\n",
      " #   Column                  Dtype  \n",
      "---  ------                  -----  \n",
      " 0   AGNO                    int64  \n",
      " 1   RBD                     int64  \n",
      " 2   DGV_RBD                 int64  \n",
      " 3   NOM_RBD                 object \n",
      " 4   COD_REG_RBD             int64  \n",
      " 5   NOM_REG_RBD_A           object \n",
      " 6   COD_PRO_RBD             int64  \n",
      " 7   COD_COM_RBD             int64  \n",
      " 8   NOM_COM_RBD             object \n",
      " 9   COD_DEPROV_RBD          int64  \n",
      " 10  NOM_DEPROV_RBD          object \n",
      " 11  COD_DEPE                int64  \n",
      " 12  COD_DEPE2               int64  \n",
      " 13  RURAL_RBD               int64  \n",
      " 14  ESTADO_ESTAB            int64  \n",
      " 15  COD_ENSE                int64  \n",
      " 16  COD_ENSE2               int64  \n",
      " 17  COD_GRADO               int64  \n",
      " 18  LET_CUR                 object \n",
      " 19  COD_JOR                 int64  \n",
      " 20  COD_TIP_CUR             int64  \n",
      " 21  COD_DES_CUR             int64  \n",
      " 22  MRUN                    int64  \n",
      " 23  GEN_ALU                 int64  \n",
      " 24  EDAD_ALU                int64  \n",
      " 25  COD_REG_ALU             int64  \n",
      " 26  COD_COM_ALU             int64  \n",
      " 27  NOM_COM_ALU             object \n",
      " 28  COD_RAMA                int64  \n",
      " 29  COD_SEC                 int64  \n",
      " 30  COD_ESPE                int64  \n",
      " 31  PROM_GRAL               float64\n",
      " 32  ASISTENCIA              int64  \n",
      " 33  SIT_FIN                 object \n",
      " 34  SIT_FIN_R               object \n",
      " 35  DESERTOR                int64  \n",
      " 36  COD_MEN                 float64\n",
      " 37  AGNO_NAC_ALU            int32  \n",
      " 38  MES_NAC_ALU             int32  \n",
      " 39  DIAS_ASISTIDOS_MARZO    int64  \n",
      " 40  DIAS_TRABAJADOS_MARZO   int64  \n",
      " 41  ASIS_PROMEDIO_MARZO     float64\n",
      " 42  DIAS_ASISTIDOS_ABRIL    int64  \n",
      " 43  DIAS_TRABAJADOS_ABRIL   int64  \n",
      " 44  ASIS_PROMEDIO_ABRIL     float64\n",
      " 45  DIAS_ASISTIDOS_MAYO     int64  \n",
      " 46  DIAS_TRABAJADOS_MAYO    int64  \n",
      " 47  ASIS_PROMEDIO_MAYO      float64\n",
      " 48  DIAS_ASISTIDOS_JUNIO    int64  \n",
      " 49  DIAS_TRABAJADOS_JUNIO   int64  \n",
      " 50  ASIS_PROMEDIO_JUNIO     float64\n",
      " 51  DIAS_ASISTIDOS_JULIO    int64  \n",
      " 52  DIAS_TRABAJADOS_JULIO   int64  \n",
      " 53  ASIS_PROMEDIO_JULIO     float64\n",
      " 54  DIAS_ASISTIDOS_AGOSTO   int64  \n",
      " 55  DIAS_TRABAJADOS_AGOSTO  int64  \n",
      " 56  ASIS_PROMEDIO_AGOSTO    float64\n",
      "dtypes: float64(8), int32(2), int64(39), object(8)\n",
      "memory usage: 7.8+ GB\n"
     ]
    }
   ],
   "source": [
    "combinado2018.info()"
   ]
  },
  {
   "cell_type": "code",
   "execution_count": 63,
   "metadata": {},
   "outputs": [],
   "source": [
    "# Importar datos de asistencia de septiembre\n",
    "septiembre2018 = pd.read_csv('data/asistencia/2018/20181127_Asistencia_Septiembre_2018_20181015_PUBL.csv', sep=';')"
   ]
  },
  {
   "cell_type": "code",
   "execution_count": 64,
   "metadata": {},
   "outputs": [],
   "source": [
    "# Seleccionar columnas\n",
    "septiembre2018 = septiembre2018[['MRUN', 'DIAS_ASISTIDOS', 'DIAS_TRABAJADOS', 'ASIS_PROMEDIO']]"
   ]
  },
  {
   "cell_type": "code",
   "execution_count": 65,
   "metadata": {},
   "outputs": [],
   "source": [
    "# Convertir ASIS_PROMEDIO a float\n",
    "septiembre2018['ASIS_PROMEDIO'] = septiembre2018['ASIS_PROMEDIO'].str.replace(',', '.').astype(float)"
   ]
  },
  {
   "cell_type": "code",
   "execution_count": 66,
   "metadata": {},
   "outputs": [],
   "source": [
    "# Cambiar nombre DIAS_ASISTIDOS a DIAS_ASISTIDOS_SEPTIEMBRE\n",
    "septiembre2018 = septiembre2018.rename(columns={'DIAS_ASISTIDOS': 'DIAS_ASISTIDOS_SEPTIEMBRE'})"
   ]
  },
  {
   "cell_type": "code",
   "execution_count": 67,
   "metadata": {},
   "outputs": [],
   "source": [
    "# Cambiar nombre de DIAS_TRABAJADOS a DIAS_TRABAJADOS_SEPTIEMBRE\n",
    "septiembre2018 = septiembre2018.rename(columns={'DIAS_TRABAJADOS': 'DIAS_TRABAJADOS_SEPTIEMBRE'})"
   ]
  },
  {
   "cell_type": "code",
   "execution_count": 68,
   "metadata": {},
   "outputs": [],
   "source": [
    "# Cambiar nombre de ASIS_PROMEDIO a ASIS_PROMEDIO_SEPTIEMBRE\n",
    "septiembre2018 = septiembre2018.rename(columns={'ASIS_PROMEDIO': 'ASIS_PROMEDIO_SEPTIEMBRE'})"
   ]
  },
  {
   "cell_type": "code",
   "execution_count": 69,
   "metadata": {},
   "outputs": [
    {
     "name": "stdout",
     "output_type": "stream",
     "text": [
      "<class 'pandas.core.frame.DataFrame'>\n",
      "RangeIndex: 18703892 entries, 0 to 18703891\n",
      "Data columns (total 57 columns):\n",
      " #   Column                  Dtype  \n",
      "---  ------                  -----  \n",
      " 0   AGNO                    int64  \n",
      " 1   RBD                     int64  \n",
      " 2   DGV_RBD                 int64  \n",
      " 3   NOM_RBD                 object \n",
      " 4   COD_REG_RBD             int64  \n",
      " 5   NOM_REG_RBD_A           object \n",
      " 6   COD_PRO_RBD             int64  \n",
      " 7   COD_COM_RBD             int64  \n",
      " 8   NOM_COM_RBD             object \n",
      " 9   COD_DEPROV_RBD          int64  \n",
      " 10  NOM_DEPROV_RBD          object \n",
      " 11  COD_DEPE                int64  \n",
      " 12  COD_DEPE2               int64  \n",
      " 13  RURAL_RBD               int64  \n",
      " 14  ESTADO_ESTAB            int64  \n",
      " 15  COD_ENSE                int64  \n",
      " 16  COD_ENSE2               int64  \n",
      " 17  COD_GRADO               int64  \n",
      " 18  LET_CUR                 object \n",
      " 19  COD_JOR                 int64  \n",
      " 20  COD_TIP_CUR             int64  \n",
      " 21  COD_DES_CUR             int64  \n",
      " 22  MRUN                    int64  \n",
      " 23  GEN_ALU                 int64  \n",
      " 24  EDAD_ALU                int64  \n",
      " 25  COD_REG_ALU             int64  \n",
      " 26  COD_COM_ALU             int64  \n",
      " 27  NOM_COM_ALU             object \n",
      " 28  COD_RAMA                int64  \n",
      " 29  COD_SEC                 int64  \n",
      " 30  COD_ESPE                int64  \n",
      " 31  PROM_GRAL               float64\n",
      " 32  ASISTENCIA              int64  \n",
      " 33  SIT_FIN                 object \n",
      " 34  SIT_FIN_R               object \n",
      " 35  DESERTOR                int64  \n",
      " 36  COD_MEN                 float64\n",
      " 37  AGNO_NAC_ALU            int32  \n",
      " 38  MES_NAC_ALU             int32  \n",
      " 39  DIAS_ASISTIDOS_MARZO    int64  \n",
      " 40  DIAS_TRABAJADOS_MARZO   int64  \n",
      " 41  ASIS_PROMEDIO_MARZO     float64\n",
      " 42  DIAS_ASISTIDOS_ABRIL    int64  \n",
      " 43  DIAS_TRABAJADOS_ABRIL   int64  \n",
      " 44  ASIS_PROMEDIO_ABRIL     float64\n",
      " 45  DIAS_ASISTIDOS_MAYO     int64  \n",
      " 46  DIAS_TRABAJADOS_MAYO    int64  \n",
      " 47  ASIS_PROMEDIO_MAYO      float64\n",
      " 48  DIAS_ASISTIDOS_JUNIO    int64  \n",
      " 49  DIAS_TRABAJADOS_JUNIO   int64  \n",
      " 50  ASIS_PROMEDIO_JUNIO     float64\n",
      " 51  DIAS_ASISTIDOS_JULIO    int64  \n",
      " 52  DIAS_TRABAJADOS_JULIO   int64  \n",
      " 53  ASIS_PROMEDIO_JULIO     float64\n",
      " 54  DIAS_ASISTIDOS_AGOSTO   int64  \n",
      " 55  DIAS_TRABAJADOS_AGOSTO  int64  \n",
      " 56  ASIS_PROMEDIO_AGOSTO    float64\n",
      "dtypes: float64(8), int32(2), int64(39), object(8)\n",
      "memory usage: 7.8+ GB\n"
     ]
    }
   ],
   "source": [
    "combinado2018.info()"
   ]
  },
  {
   "cell_type": "code",
   "execution_count": 70,
   "metadata": {},
   "outputs": [
    {
     "ename": "",
     "evalue": "",
     "output_type": "error",
     "traceback": [
      "\u001b[1;31mThe Kernel crashed while executing code in the the current cell or a previous cell. Please review the code in the cell(s) to identify a possible cause of the failure. Click <a href='https://aka.ms/vscodeJupyterKernelCrash'>here</a> for more info. View Jupyter <a href='command:jupyter.viewOutput'>log</a> for further details."
     ]
    }
   ],
   "source": [
    "# Join de los dos dataframes con la clave comun de MRUN\n",
    "combinado2018 = pd.merge(combinado2018, septiembre2018, on='MRUN')"
   ]
  },
  {
   "cell_type": "code",
   "execution_count": null,
   "metadata": {},
   "outputs": [],
   "source": [
    "# Importar datos de asistencia de octubre\n",
    "octubre2018 = pd.read_csv('data/asistencia/2018/20181213_Asistencia_Octubre_2018_20181115_PUBL.csv', sep=';')"
   ]
  },
  {
   "cell_type": "code",
   "execution_count": null,
   "metadata": {},
   "outputs": [],
   "source": [
    "# Seleccionar columnas\n",
    "octubre2018 = octubre2018[['MRUN', 'DIAS_ASISTIDOS', 'DIAS_TRABAJADOS', 'ASIS_PROMEDIO']]"
   ]
  },
  {
   "cell_type": "code",
   "execution_count": null,
   "metadata": {},
   "outputs": [],
   "source": [
    "# Convertir ASIS_PROMEDIO a float\n",
    "octubre2018['ASIS_PROMEDIO'] = octubre2018['ASIS_PROMEDIO'].str.replace(',', '.').astype(float)"
   ]
  },
  {
   "cell_type": "code",
   "execution_count": null,
   "metadata": {},
   "outputs": [],
   "source": [
    "# Cambiar nombre DIAS_ASISTIDOS a DIAS_ASISTIDOS_OCTUBRE\n",
    "octubre2018 = octubre2018.rename(columns={'DIAS_ASISTIDOS': 'DIAS_ASISTIDOS_OCTUBRE'})"
   ]
  },
  {
   "cell_type": "code",
   "execution_count": null,
   "metadata": {},
   "outputs": [],
   "source": [
    "# Cambiar nombre de DIAS_TRABAJADOS a DIAS_TRABAJADOS_OCTUBRE\n",
    "octubre2018 = octubre2018.rename(columns={'DIAS_TRABAJADOS': 'DIAS_TRABAJADOS_OCTUBRE'})"
   ]
  },
  {
   "cell_type": "code",
   "execution_count": null,
   "metadata": {},
   "outputs": [],
   "source": [
    "# Cambiar nombre de ASIS_PROMEDIO a ASIS_PROMEDIO_OCTUBRE\n",
    "octubre2018 = octubre2018.rename(columns={'ASIS_PROMEDIO': 'ASIS_PROMEDIO_OCTUBRE'})"
   ]
  },
  {
   "cell_type": "code",
   "execution_count": null,
   "metadata": {},
   "outputs": [],
   "source": [
    "# Join de los dos dataframes con la clave comun de MRUN\n",
    "combinado2018 = pd.merge(combinado2018, octubre2018, on='MRUN')"
   ]
  },
  {
   "cell_type": "code",
   "execution_count": null,
   "metadata": {},
   "outputs": [],
   "source": [
    "# Importar datos de asistencia de noviembre\n",
    "noviembre2018 = pd.read_csv('data/asistencia/2018/20190107_Asistencia_Noviembre_2018_20181215_PUBL.csv', sep=';')"
   ]
  },
  {
   "cell_type": "code",
   "execution_count": null,
   "metadata": {},
   "outputs": [],
   "source": [
    "# Seleccionar columnas\n",
    "noviembre2018 = noviembre2018[['MRUN', 'DIAS_ASISTIDOS', 'DIAS_TRABAJADOS', 'ASIS_PROMEDIO']]"
   ]
  },
  {
   "cell_type": "code",
   "execution_count": null,
   "metadata": {},
   "outputs": [],
   "source": [
    "# Convertir ASIS_PROMEDIO a float\n",
    "noviembre2018['ASIS_PROMEDIO'] = noviembre2018['ASIS_PROMEDIO'].str.replace(',', '.').astype(float)"
   ]
  },
  {
   "cell_type": "code",
   "execution_count": null,
   "metadata": {},
   "outputs": [],
   "source": [
    "# Cambiar nombre DIAS_ASISTIDOS a DIAS_ASISTIDOS_NOVIEMBRE\n",
    "noviembre2018 = noviembre2018.rename(columns={'DIAS_ASISTIDOS': 'DIAS_ASISTIDOS_NOVIEMBRE'})"
   ]
  },
  {
   "cell_type": "code",
   "execution_count": null,
   "metadata": {},
   "outputs": [],
   "source": [
    "# Cambiar nombre de DIAS_TRABAJADOS a DIAS_TRABAJADOS_NOVIEMBRE\n",
    "noviembre2018 = noviembre2018.rename(columns={'DIAS_TRABAJADOS': 'DIAS_TRABAJADOS_NOVIEMBRE'})"
   ]
  },
  {
   "cell_type": "code",
   "execution_count": null,
   "metadata": {},
   "outputs": [],
   "source": [
    "# Cambiar nombre de ASIS_PROMEDIO a ASIS_PROMEDIO_NOVIEMBRE\n",
    "noviembre2018 = noviembre2018.rename(columns={'ASIS_PROMEDIO': 'ASIS_PROMEDIO_NOVIEMBRE'})"
   ]
  },
  {
   "cell_type": "code",
   "execution_count": null,
   "metadata": {},
   "outputs": [],
   "source": [
    "# Join de los dos dataframes con la clave comun de MRUN\n",
    "combinado2018 = pd.merge(combinado2018, noviembre2018, on='MRUN')"
   ]
  },
  {
   "cell_type": "code",
   "execution_count": null,
   "metadata": {},
   "outputs": [],
   "source": [
    "# Importar datos de asistencia de diciembre\n",
    "diciembre2018 = pd.read_csv('data/asistencia/2018/20190121_Asistencia_Diciembre_2018_20190115_PUBL.csv', sep=';')"
   ]
  },
  {
   "cell_type": "code",
   "execution_count": null,
   "metadata": {},
   "outputs": [],
   "source": [
    "# Seleccionar columnas\n",
    "diciembre2018 = diciembre2018[['MRUN', 'DIAS_ASISTIDOS', 'DIAS_TRABAJADOS', 'ASIS_PROMEDIO']]"
   ]
  },
  {
   "cell_type": "code",
   "execution_count": null,
   "metadata": {},
   "outputs": [],
   "source": [
    "# Convertir ASIS_PROMEDIO a float\n",
    "diciembre2018['ASIS_PROMEDIO'] = diciembre2018['ASIS_PROMEDIO'].str.replace(',', '.').astype(float)"
   ]
  },
  {
   "cell_type": "code",
   "execution_count": null,
   "metadata": {},
   "outputs": [],
   "source": [
    "# Cambiar nombre DIAS_ASISTIDOS a DIAS_ASISTIDOS_DICIEMBRE\n",
    "diciembre2018 = diciembre2018.rename(columns={'DIAS_ASISTIDOS': 'DIAS_ASISTIDOS_DICIEMBRE'})"
   ]
  },
  {
   "cell_type": "code",
   "execution_count": null,
   "metadata": {},
   "outputs": [],
   "source": [
    "# Cambiar nombre de DIAS_TRABAJADOS a DIAS_TRABAJADOS_DICIEMBRE\n",
    "diciembre2018 = diciembre2018.rename(columns={'DIAS_TRABAJADOS': 'DIAS_TRABAJADOS_DICIEMBRE'})"
   ]
  },
  {
   "cell_type": "code",
   "execution_count": null,
   "metadata": {},
   "outputs": [],
   "source": [
    "# Cambiar nombre de ASIS_PROMEDIO a ASIS_PROMEDIO_DICIEMBRE\n",
    "diciembre2018 = diciembre2018.rename(columns={'ASIS_PROMEDIO': 'ASIS_PROMEDIO_DICIEMBRE'})"
   ]
  },
  {
   "cell_type": "code",
   "execution_count": null,
   "metadata": {},
   "outputs": [],
   "source": [
    "# Join de los dos dataframes con la clave comun de MRUN\n",
    "combinado2018 = pd.merge(combinado2018, diciembre2018, on='MRUN')"
   ]
  },
  {
   "cell_type": "code",
   "execution_count": null,
   "metadata": {},
   "outputs": [],
   "source": [
    "# Explortar archivo como csv\n",
    "combinado2018.to_csv('data/tablas/seguimiento2018.csv', sep=';', index=False)"
   ]
  }
 ],
 "metadata": {
  "kernelspec": {
   "display_name": "Python 3",
   "language": "python",
   "name": "python3"
  },
  "language_info": {
   "codemirror_mode": {
    "name": "ipython",
    "version": 3
   },
   "file_extension": ".py",
   "mimetype": "text/x-python",
   "name": "python",
   "nbconvert_exporter": "python",
   "pygments_lexer": "ipython3",
   "version": "3.11.4"
  }
 },
 "nbformat": 4,
 "nbformat_minor": 2
}
