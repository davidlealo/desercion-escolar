{
 "cells": [
  {
   "cell_type": "code",
   "execution_count": 1,
   "metadata": {},
   "outputs": [],
   "source": [
    "# Importar librerias\n",
    "import pandas as pd\n",
    "import numpy as np\n",
    "import matplotlib.pyplot as plt\n",
    "import seaborn as sns"
   ]
  },
  {
   "cell_type": "code",
   "execution_count": 2,
   "metadata": {},
   "outputs": [],
   "source": [
    "# Importar desertores 2018\n",
    "d2018 = pd.read_csv('data/tablas/desertores2018.csv', sep=';')"
   ]
  },
  {
   "cell_type": "code",
   "execution_count": 3,
   "metadata": {},
   "outputs": [],
   "source": [
    "# Convertir a string las variables: 'RBD', 'DGV_RBD', 'NOM_RBD', 'COD_REG_RBD', 'COD_PRO_RBD', 'COD_COM_RBD', 'NOM_COM_RBD', 'COD_DEPROV_RBD', 'NOM_DEPROV_RBD', 'COD_DEPE', 'COD_DEPE2', 'RURAL_RBD', 'ESTADO_ESTAB', 'COD_ENSE', 'COD_ENSE2', 'COD_ENSE3', 'COD_GRADO', 'COD_GRADO2', 'LET_CUR', 'COD_JOR', 'COD_TIP_CUR', 'COD_DES_CUR', 'MRUN', 'GEN_ALU', 'COD_REG_ALU', 'COD_COM_ALU', 'NOM_COM_ALU', 'COD_SEC', 'COD_ESPE', 'COD_RAMA', 'ENS', 'DESERTOR'\n",
    "d2018['RBD'] = d2018['RBD'].astype(str)\n",
    "d2018['DGV_RBD'] = d2018['DGV_RBD'].astype(str)\n",
    "d2018['NOM_RBD'] = d2018['NOM_RBD'].astype(str)\n",
    "d2018['COD_REG_RBD'] = d2018['COD_REG_RBD'].astype(str)\n",
    "d2018['COD_PRO_RBD'] = d2018['COD_PRO_RBD'].astype(str)\n",
    "d2018['COD_COM_RBD'] = d2018['COD_COM_RBD'].astype(str)\n",
    "d2018['NOM_COM_RBD'] = d2018['NOM_COM_RBD'].astype(str)\n",
    "d2018['COD_DEPROV_RBD'] = d2018['COD_DEPROV_RBD'].astype(str)\n",
    "d2018['NOM_DEPROV_RBD'] = d2018['NOM_DEPROV_RBD'].astype(str)\n",
    "d2018['COD_DEPE'] = d2018['COD_DEPE'].astype(str)\n",
    "d2018['COD_DEPE2'] = d2018['COD_DEPE2'].astype(str)\n",
    "d2018['RURAL_RBD'] = d2018['RURAL_RBD'].astype(str)\n",
    "d2018['ESTADO_ESTAB'] = d2018['ESTADO_ESTAB'].astype(str)\n",
    "d2018['COD_ENSE'] = d2018['COD_ENSE'].astype(str)\n",
    "d2018['COD_ENSE2'] = d2018['COD_ENSE2'].astype(str)\n",
    "d2018['COD_ENSE3'] = d2018['COD_ENSE3'].astype(str)\n",
    "d2018['COD_GRADO'] = d2018['COD_GRADO'].astype(str)\n",
    "d2018['COD_GRADO2'] = d2018['COD_GRADO2'].astype(str)\n",
    "d2018['LET_CUR'] = d2018['LET_CUR'].astype(str)\n",
    "d2018['COD_JOR'] = d2018['COD_JOR'].astype(str)\n",
    "d2018['COD_TIP_CUR'] = d2018['COD_TIP_CUR'].astype(str)\n",
    "d2018['COD_DES_CUR'] = d2018['COD_DES_CUR'].astype(str)\n",
    "d2018['MRUN'] = d2018['MRUN'].astype(str)\n",
    "d2018['GEN_ALU'] = d2018['GEN_ALU'].astype(str)\n",
    "d2018['COD_REG_ALU'] = d2018['COD_REG_ALU'].astype(str)\n",
    "d2018['COD_COM_ALU'] = d2018['COD_COM_ALU'].astype(str)\n",
    "d2018['NOM_COM_ALU'] = d2018['NOM_COM_ALU'].astype(str)\n",
    "d2018['COD_SEC'] = d2018['COD_SEC'].astype(str)\n",
    "d2018['COD_ESPE'] = d2018['COD_ESPE'].astype(str)\n",
    "d2018['COD_RAMA'] = d2018['COD_RAMA'].astype(str)\n",
    "d2018['ENS'] = d2018['ENS'].astype(str)\n",
    "d2018['DESERTOR'] = d2018['DESERTOR'].astype(str)"
   ]
  },
  {
   "cell_type": "code",
   "execution_count": 4,
   "metadata": {},
   "outputs": [
    {
     "name": "stdout",
     "output_type": "stream",
     "text": [
      "<class 'pandas.core.frame.DataFrame'>\n",
      "RangeIndex: 79503 entries, 0 to 79502\n",
      "Data columns (total 36 columns):\n",
      " #   Column          Non-Null Count  Dtype \n",
      "---  ------          --------------  ----- \n",
      " 0   Unnamed: 0      79503 non-null  int64 \n",
      " 1   AGNO            79503 non-null  int64 \n",
      " 2   RBD             79503 non-null  object\n",
      " 3   DGV_RBD         79503 non-null  object\n",
      " 4   NOM_RBD         79503 non-null  object\n",
      " 5   COD_REG_RBD     79503 non-null  object\n",
      " 6   COD_PRO_RBD     79503 non-null  object\n",
      " 7   COD_COM_RBD     79503 non-null  object\n",
      " 8   NOM_COM_RBD     79503 non-null  object\n",
      " 9   COD_DEPROV_RBD  79503 non-null  object\n",
      " 10  NOM_DEPROV_RBD  79503 non-null  object\n",
      " 11  COD_DEPE        79503 non-null  object\n",
      " 12  COD_DEPE2       79503 non-null  object\n",
      " 13  RURAL_RBD       79503 non-null  object\n",
      " 14  ESTADO_ESTAB    79503 non-null  object\n",
      " 15  COD_ENSE        79503 non-null  object\n",
      " 16  COD_ENSE2       79503 non-null  object\n",
      " 17  COD_ENSE3       79503 non-null  object\n",
      " 18  COD_GRADO       79503 non-null  object\n",
      " 19  COD_GRADO2      79503 non-null  object\n",
      " 20  LET_CUR         79503 non-null  object\n",
      " 21  COD_JOR         79503 non-null  object\n",
      " 22  COD_TIP_CUR     79503 non-null  object\n",
      " 23  COD_DES_CUR     79503 non-null  object\n",
      " 24  MRUN            79503 non-null  object\n",
      " 25  GEN_ALU         79503 non-null  object\n",
      " 26  FEC_NAC_ALU     79503 non-null  int64 \n",
      " 27  EDAD_ALU        79503 non-null  int64 \n",
      " 28  COD_REG_ALU     79503 non-null  object\n",
      " 29  COD_COM_ALU     79503 non-null  object\n",
      " 30  NOM_COM_ALU     79503 non-null  object\n",
      " 31  COD_SEC         79503 non-null  object\n",
      " 32  COD_ESPE        79503 non-null  object\n",
      " 33  COD_RAMA        79503 non-null  object\n",
      " 34  ENS             79503 non-null  object\n",
      " 35  DESERTOR        79503 non-null  object\n",
      "dtypes: int64(4), object(32)\n",
      "memory usage: 21.8+ MB\n"
     ]
    }
   ],
   "source": [
    "# info\n",
    "d2018.info()"
   ]
  },
  {
   "cell_type": "code",
   "execution_count": 5,
   "metadata": {},
   "outputs": [],
   "source": [
    "# aliminar unnamed\n",
    "d2018 = d2018.drop(['Unnamed: 0'], axis=1)"
   ]
  },
  {
   "cell_type": "code",
   "execution_count": 6,
   "metadata": {},
   "outputs": [
    {
     "name": "stdout",
     "output_type": "stream",
     "text": [
      "[[19876]]\n",
      "              precision    recall  f1-score   support\n",
      "\n",
      "           1       1.00      1.00      1.00     19876\n",
      "\n",
      "    accuracy                           1.00     19876\n",
      "   macro avg       1.00      1.00      1.00     19876\n",
      "weighted avg       1.00      1.00      1.00     19876\n",
      "\n"
     ]
    }
   ],
   "source": [
    "# neuronal network d2018\n",
    "# importar libreria redes neuronales\n",
    "from sklearn.neural_network import MLPClassifier\n",
    "from sklearn.model_selection import train_test_split\n",
    "from sklearn.metrics import classification_report, confusion_matrix\n",
    "\n",
    "# variables\n",
    "X = d2018[['COD_REG_RBD', 'COD_PRO_RBD', 'COD_COM_RBD', 'COD_DEPROV_RBD', 'COD_DEPE', 'COD_ENSE', 'COD_GRADO', 'COD_JOR', 'COD_TIP_CUR', 'COD_DES_CUR', 'COD_REG_ALU', 'COD_COM_ALU', 'COD_SEC', 'COD_ESPE', 'COD_RAMA']]\n",
    "y = d2018['DESERTOR']\n",
    "\n",
    "# train test split\n",
    "X_train, X_test, y_train, y_test = train_test_split(X, y)\n",
    "\n",
    "# entrenar modelo\n",
    "mlp = MLPClassifier(hidden_layer_sizes=(30,30,30))\n",
    "mlp.fit(X_train,y_train)\n",
    "\n",
    "# prediccion\n",
    "predictions = mlp.predict(X_test)\n",
    "\n",
    "# metricas\n",
    "print(confusion_matrix(y_test,predictions))\n",
    "print(classification_report(y_test,predictions))\n"
   ]
  }
 ],
 "metadata": {
  "kernelspec": {
   "display_name": "Python 3",
   "language": "python",
   "name": "python3"
  },
  "language_info": {
   "codemirror_mode": {
    "name": "ipython",
    "version": 3
   },
   "file_extension": ".py",
   "mimetype": "text/x-python",
   "name": "python",
   "nbconvert_exporter": "python",
   "pygments_lexer": "ipython3",
   "version": "3.11.4"
  }
 },
 "nbformat": 4,
 "nbformat_minor": 2
}
