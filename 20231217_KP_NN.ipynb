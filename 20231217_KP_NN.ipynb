{
 "cells": [
  {
   "cell_type": "code",
   "execution_count": 2,
   "metadata": {},
   "outputs": [],
   "source": [
    "# Importar librerias\n",
    "import pandas as pd\n",
    "import numpy as np\n",
    "import matplotlib.pyplot as plt\n",
    "import seaborn as sns"
   ]
  },
  {
   "cell_type": "code",
   "execution_count": 5,
   "metadata": {},
   "outputs": [],
   "source": [
    "# Import module for data visualization\n",
    "from plotnine import *\n",
    "import plotnine\n",
    "# Import module for k-protoype cluster\n",
    "from kmodes.kprototypes import KPrototypes\n",
    "# Ignore warnings\n",
    "import warnings\n",
    "warnings.filterwarnings('ignore', category = FutureWarning)\n",
    "# Format scientific notation from Pandas\n",
    "pd.set_option('display.float_format', lambda x: '%.3f' % x)"
   ]
  },
  {
   "cell_type": "code",
   "execution_count": 6,
   "metadata": {},
   "outputs": [],
   "source": [
    "combinado2018 = pd.read_csv('data/tablas/combinado2018.csv', sep=';')"
   ]
  },
  {
   "cell_type": "code",
   "execution_count": 7,
   "metadata": {},
   "outputs": [
    {
     "name": "stdout",
     "output_type": "stream",
     "text": [
      "Dimension data: 2893200 rows and 39 columns\n"
     ]
    },
    {
     "data": {
      "text/html": [
       "<div>\n",
       "<style scoped>\n",
       "    .dataframe tbody tr th:only-of-type {\n",
       "        vertical-align: middle;\n",
       "    }\n",
       "\n",
       "    .dataframe tbody tr th {\n",
       "        vertical-align: top;\n",
       "    }\n",
       "\n",
       "    .dataframe thead th {\n",
       "        text-align: right;\n",
       "    }\n",
       "</style>\n",
       "<table border=\"1\" class=\"dataframe\">\n",
       "  <thead>\n",
       "    <tr style=\"text-align: right;\">\n",
       "      <th></th>\n",
       "      <th>Unnamed: 0</th>\n",
       "      <th>AGNO</th>\n",
       "      <th>RBD</th>\n",
       "      <th>DGV_RBD</th>\n",
       "      <th>NOM_RBD</th>\n",
       "      <th>COD_REG_RBD</th>\n",
       "      <th>NOM_REG_RBD_A</th>\n",
       "      <th>COD_PRO_RBD</th>\n",
       "      <th>COD_COM_RBD</th>\n",
       "      <th>NOM_COM_RBD</th>\n",
       "      <th>...</th>\n",
       "      <th>NOM_COM_ALU</th>\n",
       "      <th>COD_RAMA</th>\n",
       "      <th>COD_SEC</th>\n",
       "      <th>COD_ESPE</th>\n",
       "      <th>PROM_GRAL</th>\n",
       "      <th>ASISTENCIA</th>\n",
       "      <th>SIT_FIN</th>\n",
       "      <th>SIT_FIN_R</th>\n",
       "      <th>DESERTOR</th>\n",
       "      <th>COD_MEN</th>\n",
       "    </tr>\n",
       "  </thead>\n",
       "  <tbody>\n",
       "    <tr>\n",
       "      <th>0</th>\n",
       "      <td>25</td>\n",
       "      <td>2018</td>\n",
       "      <td>1</td>\n",
       "      <td>9</td>\n",
       "      <td>LICEO POLITECNICO ARICA</td>\n",
       "      <td>15</td>\n",
       "      <td>AYP</td>\n",
       "      <td>151</td>\n",
       "      <td>15101</td>\n",
       "      <td>ARICA</td>\n",
       "      <td>...</td>\n",
       "      <td>ARICA</td>\n",
       "      <td>0</td>\n",
       "      <td>0</td>\n",
       "      <td>0</td>\n",
       "      <td>4,3</td>\n",
       "      <td>76</td>\n",
       "      <td>R</td>\n",
       "      <td>R</td>\n",
       "      <td>1</td>\n",
       "      <td>NaN</td>\n",
       "    </tr>\n",
       "    <tr>\n",
       "      <th>1</th>\n",
       "      <td>26</td>\n",
       "      <td>2018</td>\n",
       "      <td>1</td>\n",
       "      <td>9</td>\n",
       "      <td>LICEO POLITECNICO ARICA</td>\n",
       "      <td>15</td>\n",
       "      <td>AYP</td>\n",
       "      <td>151</td>\n",
       "      <td>15101</td>\n",
       "      <td>ARICA</td>\n",
       "      <td>...</td>\n",
       "      <td>ARICA</td>\n",
       "      <td>0</td>\n",
       "      <td>0</td>\n",
       "      <td>0</td>\n",
       "      <td>0</td>\n",
       "      <td>0</td>\n",
       "      <td>Y</td>\n",
       "      <td>T</td>\n",
       "      <td>1</td>\n",
       "      <td>NaN</td>\n",
       "    </tr>\n",
       "    <tr>\n",
       "      <th>2</th>\n",
       "      <td>56</td>\n",
       "      <td>2018</td>\n",
       "      <td>1</td>\n",
       "      <td>9</td>\n",
       "      <td>LICEO POLITECNICO ARICA</td>\n",
       "      <td>15</td>\n",
       "      <td>AYP</td>\n",
       "      <td>151</td>\n",
       "      <td>15101</td>\n",
       "      <td>ARICA</td>\n",
       "      <td>...</td>\n",
       "      <td>ARICA</td>\n",
       "      <td>0</td>\n",
       "      <td>0</td>\n",
       "      <td>0</td>\n",
       "      <td>0</td>\n",
       "      <td>0</td>\n",
       "      <td>Y</td>\n",
       "      <td>T</td>\n",
       "      <td>1</td>\n",
       "      <td>NaN</td>\n",
       "    </tr>\n",
       "    <tr>\n",
       "      <th>3</th>\n",
       "      <td>59</td>\n",
       "      <td>2018</td>\n",
       "      <td>1</td>\n",
       "      <td>9</td>\n",
       "      <td>LICEO POLITECNICO ARICA</td>\n",
       "      <td>15</td>\n",
       "      <td>AYP</td>\n",
       "      <td>151</td>\n",
       "      <td>15101</td>\n",
       "      <td>ARICA</td>\n",
       "      <td>...</td>\n",
       "      <td>POZO ALMONTE</td>\n",
       "      <td>0</td>\n",
       "      <td>0</td>\n",
       "      <td>0</td>\n",
       "      <td>0</td>\n",
       "      <td>0</td>\n",
       "      <td>Y</td>\n",
       "      <td>Y</td>\n",
       "      <td>1</td>\n",
       "      <td>NaN</td>\n",
       "    </tr>\n",
       "    <tr>\n",
       "      <th>4</th>\n",
       "      <td>61</td>\n",
       "      <td>2018</td>\n",
       "      <td>1</td>\n",
       "      <td>9</td>\n",
       "      <td>LICEO POLITECNICO ARICA</td>\n",
       "      <td>15</td>\n",
       "      <td>AYP</td>\n",
       "      <td>151</td>\n",
       "      <td>15101</td>\n",
       "      <td>ARICA</td>\n",
       "      <td>...</td>\n",
       "      <td>ARICA</td>\n",
       "      <td>0</td>\n",
       "      <td>0</td>\n",
       "      <td>0</td>\n",
       "      <td>0</td>\n",
       "      <td>0</td>\n",
       "      <td>Y</td>\n",
       "      <td>Y</td>\n",
       "      <td>1</td>\n",
       "      <td>NaN</td>\n",
       "    </tr>\n",
       "  </tbody>\n",
       "</table>\n",
       "<p>5 rows × 39 columns</p>\n",
       "</div>"
      ],
      "text/plain": [
       "   Unnamed: 0  AGNO  RBD  DGV_RBD                  NOM_RBD  COD_REG_RBD  \\\n",
       "0          25  2018    1        9  LICEO POLITECNICO ARICA           15   \n",
       "1          26  2018    1        9  LICEO POLITECNICO ARICA           15   \n",
       "2          56  2018    1        9  LICEO POLITECNICO ARICA           15   \n",
       "3          59  2018    1        9  LICEO POLITECNICO ARICA           15   \n",
       "4          61  2018    1        9  LICEO POLITECNICO ARICA           15   \n",
       "\n",
       "  NOM_REG_RBD_A  COD_PRO_RBD  COD_COM_RBD NOM_COM_RBD  ...   NOM_COM_ALU  \\\n",
       "0           AYP          151        15101       ARICA  ...         ARICA   \n",
       "1           AYP          151        15101       ARICA  ...         ARICA   \n",
       "2           AYP          151        15101       ARICA  ...         ARICA   \n",
       "3           AYP          151        15101       ARICA  ...  POZO ALMONTE   \n",
       "4           AYP          151        15101       ARICA  ...         ARICA   \n",
       "\n",
       "  COD_RAMA  COD_SEC  COD_ESPE  PROM_GRAL  ASISTENCIA  SIT_FIN  SIT_FIN_R  \\\n",
       "0        0        0         0        4,3          76        R          R   \n",
       "1        0        0         0          0           0        Y          T   \n",
       "2        0        0         0          0           0        Y          T   \n",
       "3        0        0         0          0           0        Y          Y   \n",
       "4        0        0         0          0           0        Y          Y   \n",
       "\n",
       "   DESERTOR COD_MEN  \n",
       "0         1     NaN  \n",
       "1         1     NaN  \n",
       "2         1     NaN  \n",
       "3         1     NaN  \n",
       "4         1     NaN  \n",
       "\n",
       "[5 rows x 39 columns]"
      ]
     },
     "execution_count": 7,
     "metadata": {},
     "output_type": "execute_result"
    }
   ],
   "source": [
    "# The dimension of data\n",
    "print('Dimension data: {} rows and {} columns'.format(len(combinado2018), len(combinado2018.columns)))\n",
    "# Print the first 5 rows\n",
    "combinado2018.head()"
   ]
  },
  {
   "cell_type": "code",
   "execution_count": 8,
   "metadata": {},
   "outputs": [
    {
     "name": "stdout",
     "output_type": "stream",
     "text": [
      "<class 'pandas.core.frame.DataFrame'>\n",
      "RangeIndex: 2893200 entries, 0 to 2893199\n",
      "Data columns (total 39 columns):\n",
      " #   Column          Dtype  \n",
      "---  ------          -----  \n",
      " 0   Unnamed: 0      int64  \n",
      " 1   AGNO            int64  \n",
      " 2   RBD             int64  \n",
      " 3   DGV_RBD         int64  \n",
      " 4   NOM_RBD         object \n",
      " 5   COD_REG_RBD     int64  \n",
      " 6   NOM_REG_RBD_A   object \n",
      " 7   COD_PRO_RBD     int64  \n",
      " 8   COD_COM_RBD     int64  \n",
      " 9   NOM_COM_RBD     object \n",
      " 10  COD_DEPROV_RBD  int64  \n",
      " 11  NOM_DEPROV_RBD  object \n",
      " 12  COD_DEPE        int64  \n",
      " 13  COD_DEPE2       int64  \n",
      " 14  RURAL_RBD       int64  \n",
      " 15  ESTADO_ESTAB    int64  \n",
      " 16  COD_ENSE        int64  \n",
      " 17  COD_ENSE2       int64  \n",
      " 18  COD_GRADO       int64  \n",
      " 19  LET_CUR         object \n",
      " 20  COD_JOR         int64  \n",
      " 21  COD_TIP_CUR     int64  \n",
      " 22  COD_DES_CUR     int64  \n",
      " 23  MRUN            int64  \n",
      " 24  GEN_ALU         int64  \n",
      " 25  FEC_NAC_ALU     int64  \n",
      " 26  EDAD_ALU        int64  \n",
      " 27  COD_REG_ALU     int64  \n",
      " 28  COD_COM_ALU     int64  \n",
      " 29  NOM_COM_ALU     object \n",
      " 30  COD_RAMA        int64  \n",
      " 31  COD_SEC         int64  \n",
      " 32  COD_ESPE        int64  \n",
      " 33  PROM_GRAL       object \n",
      " 34  ASISTENCIA      int64  \n",
      " 35  SIT_FIN         object \n",
      " 36  SIT_FIN_R       object \n",
      " 37  DESERTOR        int64  \n",
      " 38  COD_MEN         float64\n",
      "dtypes: float64(1), int64(29), object(9)\n",
      "memory usage: 860.9+ MB\n"
     ]
    }
   ],
   "source": [
    "combinado2018.info()"
   ]
  },
  {
   "cell_type": "code",
   "execution_count": 9,
   "metadata": {},
   "outputs": [],
   "source": [
    "# PROM_GRAL change , for . the datatyope is float\n",
    "combinado2018['PROM_GRAL'] = combinado2018['PROM_GRAL'].str.replace(',', '.').astype(float)"
   ]
  },
  {
   "cell_type": "code",
   "execution_count": 10,
   "metadata": {},
   "outputs": [
    {
     "name": "stdout",
     "output_type": "stream",
     "text": [
      "<class 'pandas.core.frame.DataFrame'>\n",
      "RangeIndex: 2893200 entries, 0 to 2893199\n",
      "Data columns (total 39 columns):\n",
      " #   Column          Dtype  \n",
      "---  ------          -----  \n",
      " 0   Unnamed: 0      int64  \n",
      " 1   AGNO            int64  \n",
      " 2   RBD             int64  \n",
      " 3   DGV_RBD         int64  \n",
      " 4   NOM_RBD         object \n",
      " 5   COD_REG_RBD     int64  \n",
      " 6   NOM_REG_RBD_A   object \n",
      " 7   COD_PRO_RBD     int64  \n",
      " 8   COD_COM_RBD     int64  \n",
      " 9   NOM_COM_RBD     object \n",
      " 10  COD_DEPROV_RBD  int64  \n",
      " 11  NOM_DEPROV_RBD  object \n",
      " 12  COD_DEPE        int64  \n",
      " 13  COD_DEPE2       int64  \n",
      " 14  RURAL_RBD       int64  \n",
      " 15  ESTADO_ESTAB    int64  \n",
      " 16  COD_ENSE        int64  \n",
      " 17  COD_ENSE2       int64  \n",
      " 18  COD_GRADO       int64  \n",
      " 19  LET_CUR         object \n",
      " 20  COD_JOR         int64  \n",
      " 21  COD_TIP_CUR     int64  \n",
      " 22  COD_DES_CUR     int64  \n",
      " 23  MRUN            int64  \n",
      " 24  GEN_ALU         int64  \n",
      " 25  FEC_NAC_ALU     int64  \n",
      " 26  EDAD_ALU        int64  \n",
      " 27  COD_REG_ALU     int64  \n",
      " 28  COD_COM_ALU     int64  \n",
      " 29  NOM_COM_ALU     object \n",
      " 30  COD_RAMA        int64  \n",
      " 31  COD_SEC         int64  \n",
      " 32  COD_ESPE        int64  \n",
      " 33  PROM_GRAL       float64\n",
      " 34  ASISTENCIA      int64  \n",
      " 35  SIT_FIN         object \n",
      " 36  SIT_FIN_R       object \n",
      " 37  DESERTOR        int64  \n",
      " 38  COD_MEN         float64\n",
      "dtypes: float64(2), int64(29), object(8)\n",
      "memory usage: 860.9+ MB\n"
     ]
    }
   ],
   "source": [
    "combinado2018.info()"
   ]
  },
  {
   "cell_type": "code",
   "execution_count": 11,
   "metadata": {},
   "outputs": [
    {
     "data": {
      "text/plain": [
       "array([200104, 200004, 200109, 200105, 200107, 200008, 200110, 200011,\n",
       "       200208, 200108, 200202, 200207, 200206, 200102, 200009, 199809,\n",
       "       199907, 200006, 200303, 199905, 200101, 200002, 200010, 199912,\n",
       "       199808, 199811, 200212, 200012, 199904, 199911, 199906, 200103,\n",
       "       200203, 199910, 199801, 199812, 200111, 200308, 200106, 200005,\n",
       "       200007, 200001, 200403, 200311, 200310, 200306, 200302, 199909,\n",
       "       200204, 199908, 200305, 200209, 201106, 201010, 200904, 200804,\n",
       "       200707, 200407, 200609, 200601, 200211, 200405, 200201, 200112,\n",
       "       201203, 201102, 200805, 200710, 201108, 200712, 200907, 201107,\n",
       "       201101, 201001, 200809, 200901, 200312, 200410, 200909, 200902,\n",
       "       200408, 201009, 201006, 200808, 200704, 200404, 200603, 200506,\n",
       "       201112, 201205, 201201, 201202, 201105, 201109, 201003, 201007,\n",
       "       200910, 200905, 200812, 200702, 200612, 200605, 200504, 200411,\n",
       "       200412, 200409, 200503, 201111, 201012, 200604, 200608, 201110,\n",
       "       200711, 200505, 200406, 201011, 201104, 201002, 200705, 200611,\n",
       "       201008, 200912, 200903, 200706, 200509, 200501, 200304, 200205,\n",
       "       200401, 199903, 200502, 201005, 201004, 200701, 200602, 201103,\n",
       "       200906, 200802, 200806, 200511, 201301, 200803, 200307, 200003,\n",
       "       200610, 200607, 200709, 200807, 200507, 200508, 200811, 200606,\n",
       "       200510, 200301, 200210, 200908, 200703, 200309, 199711, 199806,\n",
       "       200402, 199807, 199702, 199710, 199902, 201212, 200512, 200911,\n",
       "       200708, 200801, 201204, 201206, 200810, 199709, 199703, 199810,\n",
       "       199805, 192601, 199804, 199901, 198912, 199802, 201307, 199704,\n",
       "       199803, 199611, 201303, 201802, 201412, 199601, 198303, 199705,\n",
       "       201310, 199311, 199111, 199712, 199708, 201311, 199309, 199706,\n",
       "       199610, 199707, 201305, 201403, 199511, 199512, 199412, 199603,\n",
       "       199503, 201312, 198212, 192103, 198004, 198006, 198407, 197909,\n",
       "       197906, 197806, 197802, 197405, 198509, 197707, 198101, 197411,\n",
       "       198406, 199608, 201306, 199604, 199701, 201211, 199606, 198312,\n",
       "       201309, 201209, 201402, 201210, 199202, 199612, 201401, 201706,\n",
       "       201207, 197112, 199008, 201308, 197312, 198301, 199506, 199303,\n",
       "       198906, 196808, 197603, 199007, 198610, 201208, 196206, 201302,\n",
       "       199607, 199411, 199505, 199409, 199405, 199609, 199406, 199509,\n",
       "       201304, 195810, 201406, 198401, 198909, 199504, 199605, 199510,\n",
       "       199403, 199308, 199312, 199209, 199310, 197606])"
      ]
     },
     "execution_count": 11,
     "metadata": {},
     "output_type": "execute_result"
    }
   ],
   "source": [
    "combinado2018['FEC_NAC_ALU'].unique()"
   ]
  },
  {
   "cell_type": "code",
   "execution_count": 12,
   "metadata": {},
   "outputs": [
    {
     "name": "stdout",
     "output_type": "stream",
     "text": [
      "0         2001-04-01\n",
      "1         2000-04-01\n",
      "2         2001-09-01\n",
      "3         2001-05-01\n",
      "4         2001-07-01\n",
      "             ...    \n",
      "2893195   2002-07-01\n",
      "2893196   2003-03-01\n",
      "2893197   2001-11-01\n",
      "2893198   2002-08-01\n",
      "2893199   2003-06-01\n",
      "Name: FEC_NAC_ALU, Length: 2893200, dtype: datetime64[ns]\n"
     ]
    }
   ],
   "source": [
    "# Convertir 'FEC_NAC_ALU' a una cadena\n",
    "combinado2018['FEC_NAC_ALU'] = combinado2018['FEC_NAC_ALU'].astype(str)\n",
    "\n",
    "# Asegurarse de que la cadena tiene el formato correcto (YYYYMM)\n",
    "combinado2018['FEC_NAC_ALU'] = combinado2018['FEC_NAC_ALU'].str.pad(width=6, side='left', fillchar='0')\n",
    "\n",
    "# Convertir la cadena a un formato de fecha\n",
    "combinado2018['FEC_NAC_ALU'] = pd.to_datetime(combinado2018['FEC_NAC_ALU'], format='%Y%m')\n",
    "\n",
    "print(combinado2018['FEC_NAC_ALU'])"
   ]
  },
  {
   "cell_type": "code",
   "execution_count": 17,
   "metadata": {},
   "outputs": [
    {
     "name": "stdout",
     "output_type": "stream",
     "text": [
      "<class 'pandas.core.frame.DataFrame'>\n",
      "RangeIndex: 2893200 entries, 0 to 2893199\n",
      "Data columns (total 39 columns):\n",
      " #   Column          Dtype         \n",
      "---  ------          -----         \n",
      " 0   Unnamed: 0      int64         \n",
      " 1   AGNO            int64         \n",
      " 2   RBD             int64         \n",
      " 3   DGV_RBD         int64         \n",
      " 4   NOM_RBD         object        \n",
      " 5   COD_REG_RBD     int64         \n",
      " 6   NOM_REG_RBD_A   object        \n",
      " 7   COD_PRO_RBD     int64         \n",
      " 8   COD_COM_RBD     int64         \n",
      " 9   NOM_COM_RBD     object        \n",
      " 10  COD_DEPROV_RBD  int64         \n",
      " 11  NOM_DEPROV_RBD  object        \n",
      " 12  COD_DEPE        int64         \n",
      " 13  COD_DEPE2       int64         \n",
      " 14  RURAL_RBD       int64         \n",
      " 15  ESTADO_ESTAB    int64         \n",
      " 16  COD_ENSE        int64         \n",
      " 17  COD_ENSE2       int64         \n",
      " 18  COD_GRADO       int64         \n",
      " 19  LET_CUR         object        \n",
      " 20  COD_JOR         int64         \n",
      " 21  COD_TIP_CUR     int64         \n",
      " 22  COD_DES_CUR     int64         \n",
      " 23  MRUN            int64         \n",
      " 24  GEN_ALU         int64         \n",
      " 25  FEC_NAC_ALU     datetime64[ns]\n",
      " 26  EDAD_ALU        int64         \n",
      " 27  COD_REG_ALU     int64         \n",
      " 28  COD_COM_ALU     int64         \n",
      " 29  NOM_COM_ALU     object        \n",
      " 30  COD_RAMA        int64         \n",
      " 31  COD_SEC         int64         \n",
      " 32  COD_ESPE        int64         \n",
      " 33  PROM_GRAL       float64       \n",
      " 34  ASISTENCIA      int64         \n",
      " 35  SIT_FIN         object        \n",
      " 36  SIT_FIN_R       object        \n",
      " 37  DESERTOR        int64         \n",
      " 38  COD_MEN         float64       \n",
      "dtypes: datetime64[ns](1), float64(2), int64(28), object(8)\n",
      "memory usage: 860.9+ MB\n"
     ]
    }
   ],
   "source": [
    "combinado2018.info()"
   ]
  },
  {
   "cell_type": "code",
   "execution_count": 18,
   "metadata": {},
   "outputs": [],
   "source": [
    "# Drop Unnamed: 0      \n",
    "combinado2018 = combinado2018.drop(['Unnamed: 0'], axis=1)"
   ]
  },
  {
   "cell_type": "code",
   "execution_count": 19,
   "metadata": {},
   "outputs": [
    {
     "name": "stdout",
     "output_type": "stream",
     "text": [
      "<class 'pandas.core.frame.DataFrame'>\n",
      "RangeIndex: 2893200 entries, 0 to 2893199\n",
      "Data columns (total 38 columns):\n",
      " #   Column          Dtype         \n",
      "---  ------          -----         \n",
      " 0   AGNO            int64         \n",
      " 1   RBD             int64         \n",
      " 2   DGV_RBD         int64         \n",
      " 3   NOM_RBD         object        \n",
      " 4   COD_REG_RBD     int64         \n",
      " 5   NOM_REG_RBD_A   object        \n",
      " 6   COD_PRO_RBD     int64         \n",
      " 7   COD_COM_RBD     int64         \n",
      " 8   NOM_COM_RBD     object        \n",
      " 9   COD_DEPROV_RBD  int64         \n",
      " 10  NOM_DEPROV_RBD  object        \n",
      " 11  COD_DEPE        int64         \n",
      " 12  COD_DEPE2       int64         \n",
      " 13  RURAL_RBD       int64         \n",
      " 14  ESTADO_ESTAB    int64         \n",
      " 15  COD_ENSE        int64         \n",
      " 16  COD_ENSE2       int64         \n",
      " 17  COD_GRADO       int64         \n",
      " 18  LET_CUR         object        \n",
      " 19  COD_JOR         int64         \n",
      " 20  COD_TIP_CUR     int64         \n",
      " 21  COD_DES_CUR     int64         \n",
      " 22  MRUN            int64         \n",
      " 23  GEN_ALU         int64         \n",
      " 24  FEC_NAC_ALU     datetime64[ns]\n",
      " 25  EDAD_ALU        int64         \n",
      " 26  COD_REG_ALU     int64         \n",
      " 27  COD_COM_ALU     int64         \n",
      " 28  NOM_COM_ALU     object        \n",
      " 29  COD_RAMA        int64         \n",
      " 30  COD_SEC         int64         \n",
      " 31  COD_ESPE        int64         \n",
      " 32  PROM_GRAL       float64       \n",
      " 33  ASISTENCIA      int64         \n",
      " 34  SIT_FIN         object        \n",
      " 35  SIT_FIN_R       object        \n",
      " 36  DESERTOR        int64         \n",
      " 37  COD_MEN         float64       \n",
      "dtypes: datetime64[ns](1), float64(2), int64(27), object(8)\n",
      "memory usage: 838.8+ MB\n"
     ]
    }
   ],
   "source": [
    "combinado2018.info()"
   ]
  },
  {
   "cell_type": "code",
   "execution_count": 44,
   "metadata": {},
   "outputs": [
    {
     "data": {
      "text/plain": [
       "AGNO                  0\n",
       "RBD                   0\n",
       "DGV_RBD               0\n",
       "NOM_RBD               0\n",
       "COD_REG_RBD           0\n",
       "NOM_REG_RBD_A         0\n",
       "COD_PRO_RBD           0\n",
       "COD_COM_RBD           0\n",
       "NOM_COM_RBD           0\n",
       "COD_DEPROV_RBD        0\n",
       "NOM_DEPROV_RBD        0\n",
       "COD_DEPE              0\n",
       "COD_DEPE2             0\n",
       "RURAL_RBD             0\n",
       "ESTADO_ESTAB          0\n",
       "COD_ENSE              0\n",
       "COD_ENSE2             0\n",
       "COD_GRADO             0\n",
       "LET_CUR               0\n",
       "COD_JOR               0\n",
       "COD_TIP_CUR           0\n",
       "COD_DES_CUR           0\n",
       "MRUN                  0\n",
       "GEN_ALU               0\n",
       "FEC_NAC_ALU           0\n",
       "EDAD_ALU              0\n",
       "COD_REG_ALU           0\n",
       "COD_COM_ALU           0\n",
       "NOM_COM_ALU           0\n",
       "COD_RAMA              0\n",
       "COD_SEC               0\n",
       "COD_ESPE              0\n",
       "PROM_GRAL             0\n",
       "ASISTENCIA            0\n",
       "SIT_FIN               0\n",
       "SIT_FIN_R             0\n",
       "DESERTOR              0\n",
       "COD_MEN           79315\n",
       "dtype: int64"
      ]
     },
     "execution_count": 44,
     "metadata": {},
     "output_type": "execute_result"
    }
   ],
   "source": [
    "# combinado2018 nulos\n",
    "combinado2018.isnull().sum()"
   ]
  },
  {
   "cell_type": "code",
   "execution_count": 45,
   "metadata": {},
   "outputs": [],
   "source": [
    "# Drop COD_MEN de combinado2018\n",
    "combinado2018 = combinado2018.drop(['COD_MEN'], axis=1)"
   ]
  },
  {
   "cell_type": "code",
   "execution_count": 46,
   "metadata": {},
   "outputs": [
    {
     "name": "stdout",
     "output_type": "stream",
     "text": [
      "<class 'pandas.core.frame.DataFrame'>\n",
      "RangeIndex: 2893200 entries, 0 to 2893199\n",
      "Data columns (total 37 columns):\n",
      " #   Column          Dtype         \n",
      "---  ------          -----         \n",
      " 0   AGNO            int64         \n",
      " 1   RBD             int64         \n",
      " 2   DGV_RBD         int64         \n",
      " 3   NOM_RBD         object        \n",
      " 4   COD_REG_RBD     int64         \n",
      " 5   NOM_REG_RBD_A   object        \n",
      " 6   COD_PRO_RBD     int64         \n",
      " 7   COD_COM_RBD     int64         \n",
      " 8   NOM_COM_RBD     object        \n",
      " 9   COD_DEPROV_RBD  int64         \n",
      " 10  NOM_DEPROV_RBD  object        \n",
      " 11  COD_DEPE        int64         \n",
      " 12  COD_DEPE2       int64         \n",
      " 13  RURAL_RBD       int64         \n",
      " 14  ESTADO_ESTAB    int64         \n",
      " 15  COD_ENSE        int64         \n",
      " 16  COD_ENSE2       int64         \n",
      " 17  COD_GRADO       int64         \n",
      " 18  LET_CUR         object        \n",
      " 19  COD_JOR         int64         \n",
      " 20  COD_TIP_CUR     int64         \n",
      " 21  COD_DES_CUR     int64         \n",
      " 22  MRUN            int64         \n",
      " 23  GEN_ALU         int64         \n",
      " 24  FEC_NAC_ALU     datetime64[ns]\n",
      " 25  EDAD_ALU        int64         \n",
      " 26  COD_REG_ALU     int64         \n",
      " 27  COD_COM_ALU     int64         \n",
      " 28  NOM_COM_ALU     object        \n",
      " 29  COD_RAMA        int64         \n",
      " 30  COD_SEC         int64         \n",
      " 31  COD_ESPE        int64         \n",
      " 32  PROM_GRAL       float64       \n",
      " 33  ASISTENCIA      int64         \n",
      " 34  SIT_FIN         object        \n",
      " 35  SIT_FIN_R       object        \n",
      " 36  DESERTOR        int64         \n",
      "dtypes: datetime64[ns](1), float64(1), int64(27), object(8)\n",
      "memory usage: 816.7+ MB\n"
     ]
    }
   ],
   "source": [
    "combinado2018.info()"
   ]
  },
  {
   "cell_type": "code",
   "execution_count": 47,
   "metadata": {},
   "outputs": [],
   "source": [
    "# Convertir dataframe a matrix\n",
    "dfMatrix = combinado2018.to_numpy()\n"
   ]
  },
  {
   "cell_type": "code",
   "execution_count": 48,
   "metadata": {},
   "outputs": [
    {
     "data": {
      "text/plain": [
       "array([[2018, 1, 9, ..., 'R', 'R', 1],\n",
       "       [2018, 1, 9, ..., 'Y', 'T', 1],\n",
       "       [2018, 1, 9, ..., 'Y', 'T', 1],\n",
       "       ...,\n",
       "       [2019, 41421, 2, ..., 'P', 'P', 0],\n",
       "       [2019, 41421, 2, ..., 'P', 'P', 0],\n",
       "       [2019, 41421, 2, ..., 'P', 'P', 0]], dtype=object)"
      ]
     },
     "execution_count": 48,
     "metadata": {},
     "output_type": "execute_result"
    }
   ],
   "source": [
    "dfMatrix"
   ]
  },
  {
   "cell_type": "code",
   "execution_count": 57,
   "metadata": {},
   "outputs": [],
   "source": [
    "catColumnsPos = [0,1,2,3,4,5,6,7,8,9,10,11,12,13,14, 15, 16, 17, 18, 19, 20, 21, 22, 23, 24, 25, 26, 27, 28, 29, 30, 31, 34, 35, 36]"
   ]
  },
  {
   "cell_type": "code",
   "execution_count": 56,
   "metadata": {},
   "outputs": [
    {
     "name": "stdout",
     "output_type": "stream",
     "text": [
      "0 2018\n",
      "1 1\n",
      "2 9\n",
      "3 LICEO POLITECNICO ARICA\n",
      "4 15\n",
      "5 AYP\n",
      "6 151\n",
      "7 15101\n",
      "8 ARICA\n",
      "9 151\n",
      "10 ARICA\n",
      "11 2\n",
      "12 1\n",
      "13 0\n",
      "14 1\n",
      "15 510\n",
      "16 7\n",
      "17 1\n",
      "18 A\n",
      "19 1\n",
      "20 0\n",
      "21 0\n",
      "22 3973743\n",
      "23 1\n",
      "24 2001-04-01 00:00:00\n",
      "25 17\n",
      "26 15\n",
      "27 15101\n",
      "28 ARICA\n",
      "29 0\n",
      "30 0\n",
      "31 0\n",
      "32 4.3\n",
      "33 76\n",
      "34 R\n",
      "35 R\n",
      "36 1\n"
     ]
    }
   ],
   "source": [
    "# imprimir columnas de dfMatrix con indices de cada columna\n",
    "for i, val in enumerate(dfMatrix[0]):\n",
    "    print(i, val)"
   ]
  },
  {
   "cell_type": "code",
   "execution_count": 38,
   "metadata": {},
   "outputs": [],
   "source": [
    "from sklearn.exceptions import *"
   ]
  },
  {
   "cell_type": "code",
   "execution_count": 67,
   "metadata": {},
   "outputs": [
    {
     "name": "stdout",
     "output_type": "stream",
     "text": [
      "Init: initializing centroids\n",
      "Init: initializing centroids\n",
      "Init: initializing centroids\n",
      "Init: initializing centroidsInit: initializing centroids\n",
      "\n",
      "Init: initializing clusters\n",
      "Init: initializing clusters\n",
      "Init: initializing clusters\n",
      "Init: initializing clusters\n",
      "Init: initializing clusters\n",
      "Starting iterations...\n",
      "Starting iterations...\n",
      "Starting iterations...\n",
      "Starting iterations...\n",
      "Starting iterations...\n",
      "Run: 3, iteration: 1/100, moves: 0, ncost: 2449688870.952694\n",
      "Run: 1, iteration: 1/100, moves: 0, ncost: 2449688870.952694\n",
      "Run: 2, iteration: 1/100, moves: 0, ncost: 2449688870.952694\n",
      "Run: 4, iteration: 1/100, moves: 0, ncost: 2449688870.952694\n",
      "Run: 5, iteration: 1/100, moves: 0, ncost: 2449688870.952694\n",
      "Best run was number 1\n",
      "Cluster initiation: 1\n"
     ]
    }
   ],
   "source": [
    "# Choose optimal K using Elbow method\n",
    "cost = []\n",
    "for cluster in range(1, 10):\n",
    "    try:\n",
    "        kprototype = KPrototypes(n_jobs = -1, n_clusters = cluster, init = 'Huang', random_state = 2023, n_init = 5, max_iter=100, verbose = 2)\n",
    "        kprototype.fit_predict(dfMatrix, categorical = catColumnsPos)\n",
    "        cost.append(kprototype.cost_)\n",
    "        print('Cluster initiation: {}'.format(cluster))\n",
    "    except ConvergenceWarning as e:\n",
    "        print(f\"Convergence Warning: {e}\")\n",
    "    except Exception as e:\n",
    "        print(f\"Error: {e}\")\n",
    "    break\n"
   ]
  },
  {
   "cell_type": "code",
   "execution_count": 68,
   "metadata": {},
   "outputs": [
    {
     "name": "stdout",
     "output_type": "stream",
     "text": [
      "5\n",
      "1\n"
     ]
    }
   ],
   "source": [
    "print(len(range(1, 6)))  # Debería ser 5\n",
    "print(len(cost))         # Verifica la longitud de tu lista cost"
   ]
  },
  {
   "cell_type": "code",
   "execution_count": 69,
   "metadata": {},
   "outputs": [
    {
     "name": "stdout",
     "output_type": "stream",
     "text": [
      "[2449688870.952694]\n"
     ]
    }
   ],
   "source": [
    "print(cost)"
   ]
  },
  {
   "cell_type": "code",
   "execution_count": 71,
   "metadata": {},
   "outputs": [],
   "source": [
    "# Converting the results into a dataframe and plotting them\n",
    "df_cost = pd.DataFrame({'Cluster': [1], 'Cost': cost})"
   ]
  },
  {
   "cell_type": "code",
   "execution_count": 65,
   "metadata": {},
   "outputs": [
    {
     "name": "stdout",
     "output_type": "stream",
     "text": [
      "[2449688870.952694]\n"
     ]
    }
   ],
   "source": [
    "print(cost)"
   ]
  },
  {
   "cell_type": "code",
   "execution_count": 66,
   "metadata": {},
   "outputs": [
    {
     "name": "stderr",
     "output_type": "stream",
     "text": [
      "/Library/Frameworks/Python.framework/Versions/3.11/lib/python3.11/site-packages/plotnine/geoms/geom_path.py:111: PlotnineWarning: geom_path: Each group consist of only one observation. Do you need to adjust the group aesthetic?\n"
     ]
    },
    {
     "data": {
      "image/png": "[encoded data removed]",
      "text/plain": [
       "<Figure size 800x480 with 1 Axes>"
      ]
     },
     "metadata": {
      "image/png": {
       "height": 480,
       "width": 800
      },
      "needs_background": "light"
     },
     "output_type": "display_data"
    },
    {
     "data": {
      "text/plain": [
       "<Figure Size: (800 x 480)>"
      ]
     },
     "execution_count": 66,
     "metadata": {},
     "output_type": "execute_result"
    }
   ],
   "source": [
    "# Data viz\n",
    "plotnine.options.figure_size = (8, 4.8)\n",
    "(\n",
    "    ggplot(data = df_cost)+\n",
    "    geom_line(aes(x = 'Cluster',\n",
    "                  y = 'Cost'))+\n",
    "    geom_point(aes(x = 'Cluster',\n",
    "                   y = 'Cost'))+\n",
    "    geom_label(aes(x = 'Cluster',\n",
    "                   y = 'Cost',\n",
    "                   label = 'Cluster'),\n",
    "               size = 10,\n",
    "               nudge_y = 1000) +\n",
    "    labs(title = 'Optimal number of cluster with Elbow Method')+\n",
    "    xlab('Number of Clusters k')+\n",
    "    ylab('Cost')+\n",
    "    theme_minimal()\n",
    ")"
   ]
  },
  {
   "cell_type": "code",
   "execution_count": 72,
   "metadata": {},
   "outputs": [
    {
     "name": "stdout",
     "output_type": "stream",
     "text": [
      "Initialization method and algorithm are deterministic. Setting n_init to 1.\n",
      "Init: initializing centroids\n",
      "Init: initializing centroids\n",
      "Init: initializing centroids\n",
      "Init: initializing centroids\n",
      "Init: initializing centroids\n",
      "Init: initializing clusters\n",
      "Init: initializing clusters\n",
      "Init: initializing clusters\n",
      "Init: initializing clusters\n",
      "Init: initializing clusters\n",
      "Starting iterations...\n",
      "Starting iterations...\n",
      "Starting iterations...\n",
      "Starting iterations...\n",
      "Starting iterations...\n",
      "Run: 1, iteration: 1/100, moves: 0, ncost: 2449688870.952694\n",
      "Run: 5, iteration: 1/100, moves: 0, ncost: 2449688870.952694\n",
      "Run: 3, iteration: 1/100, moves: 0, ncost: 2449688870.952694\n",
      "Run: 2, iteration: 1/100, moves: 0, ncost: 2449688870.952694\n",
      "Run: 4, iteration: 1/100, moves: 0, ncost: 2449688870.952694\n",
      "Best run was number 1\n",
      "Cluster initiation: 1\n"
     ]
    }
   ],
   "source": [
    "dfMatrix = combinado2018.to_numpy()\n",
    "\n",
    "# Choose optimal K using Elbow method\n",
    "cost = []\n",
    "for cluster in range(1, 10):\n",
    "    try:\n",
    "        kprototype = KPrototypes(n_jobs = -1, n_clusters = cluster, init = 'Cao', random_state = 2023, n_init = 5, max_iter=100, verbose = 2)\n",
    "        kprototype.fit_predict(dfMatrix, categorical = catColumnsPos)\n",
    "        cost.append(kprototype.cost_)\n",
    "        print('Cluster initiation: {}'.format(cluster))\n",
    "    except ConvergenceWarning as e:\n",
    "        print(f\"Convergence Warning: {e}\")\n",
    "    except Exception as e:\n",
    "        print(f\"Error: {e}\")\n",
    "    break"
   ]
  },
  {
   "cell_type": "code",
   "execution_count": 74,
   "metadata": {},
   "outputs": [
    {
     "name": "stdout",
     "output_type": "stream",
     "text": [
      "[2449688870.952694]\n"
     ]
    }
   ],
   "source": [
    "print(cost)"
   ]
  },
  {
   "cell_type": "code",
   "execution_count": 77,
   "metadata": {},
   "outputs": [
    {
     "name": "stderr",
     "output_type": "stream",
     "text": [
      "/Library/Frameworks/Python.framework/Versions/3.11/lib/python3.11/site-packages/plotnine/geoms/geom_path.py:111: PlotnineWarning: geom_path: Each group consist of only one observation. Do you need to adjust the group aesthetic?\n"
     ]
    },
    {
     "data": {
      "image/png": "[encoded data removed]",
      "text/plain": [
       "<Figure size 800x480 with 1 Axes>"
      ]
     },
     "metadata": {
      "image/png": {
       "height": 480,
       "width": 800
      },
      "needs_background": "light"
     },
     "output_type": "display_data"
    },
    {
     "data": {
      "text/plain": [
       "<Figure Size: (800 x 480)>"
      ]
     },
     "execution_count": 77,
     "metadata": {},
     "output_type": "execute_result"
    }
   ],
   "source": [
    "# Converting the results into a dataframe and plotting them\n",
    "df_cost = pd.DataFrame({'Cluster': [1], 'Cost': cost})\n",
    "\n",
    "# Data viz\n",
    "plotnine.options.figure_size = (8, 4.8)\n",
    "(\n",
    "    ggplot(data = df_cost)+\n",
    "    geom_line(aes(x = 'Cluster',\n",
    "                  y = 'Cost'))+\n",
    "    geom_point(aes(x = 'Cluster',\n",
    "                   y = 'Cost'))+\n",
    "    geom_label(aes(x = 'Cluster',\n",
    "                   y = 'Cost',\n",
    "                   label = 'Cluster'),\n",
    "               size = 10,\n",
    "               nudge_y = 1000) +\n",
    "    labs(title = 'Optimal number of cluster with Elbow Method')+\n",
    "    xlab('Number of Clusters k')+\n",
    "    ylab('Cost')+\n",
    "    theme_minimal()\n",
    ")"
   ]
  },
  {
   "cell_type": "code",
   "execution_count": 79,
   "metadata": {},
   "outputs": [],
   "source": [
    "# Fit the cluster\n",
    "kprototype = KPrototypes(n_jobs = -1, n_clusters = 3, init = 'Cao', random_state = 2023)\n",
    "kprototype.fit_predict(dfMatrix, categorical = catColumnsPos)"
   ]
  }
 ],
 "metadata": {
  "kernelspec": {
   "display_name": "Python 3",
   "language": "python",
   "name": "python3"
  },
  "language_info": {
   "codemirror_mode": {
    "name": "ipython",
    "version": 3
   },
   "file_extension": ".py",
   "mimetype": "text/x-python",
   "name": "python",
   "nbconvert_exporter": "python",
   "pygments_lexer": "ipython3",
   "version": "3.11.4"
  }
 },
 "nbformat": 4,
 "nbformat_minor": 2
}
