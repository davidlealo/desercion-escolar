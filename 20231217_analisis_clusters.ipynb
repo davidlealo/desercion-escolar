{
 "cells": [
  {
   "cell_type": "code",
   "execution_count": 2,
   "metadata": {},
   "outputs": [],
   "source": [
    "# Importar librerias\n",
    "import pandas as pd\n",
    "import numpy as np\n",
    "import matplotlib.pyplot as plt\n",
    "import seaborn as sns"
   ]
  },
  {
   "cell_type": "code",
   "execution_count": 4,
   "metadata": {},
   "outputs": [
    {
     "name": "stderr",
     "output_type": "stream",
     "text": [
      "/var/folders/v5/8__wxdkj3j713bygpr1tsw_80000gn/T/ipykernel_3150/3288260513.py:2: DtypeWarning: Columns (25) have mixed types. Specify dtype option on import or set low_memory=False.\n",
      "  r2018 = pd.read_csv('data/rendimiento/2018/r2018.csv', sep=';')\n",
      "/var/folders/v5/8__wxdkj3j713bygpr1tsw_80000gn/T/ipykernel_3150/3288260513.py:3: DtypeWarning: Columns (25) have mixed types. Specify dtype option on import or set low_memory=False.\n",
      "  r2019 = pd.read_csv('data/rendimiento/2019/r2019.csv', sep=';')\n"
     ]
    }
   ],
   "source": [
    "# Importar datos de rendimiento\n",
    "r2018 = pd.read_csv('data/rendimiento/2018/r2018.csv', sep=';')\n",
    "r2019 = pd.read_csv('data/rendimiento/2019/r2019.csv', sep=';')"
   ]
  },
  {
   "cell_type": "code",
   "execution_count": 5,
   "metadata": {},
   "outputs": [],
   "source": [
    "# Función de tablas combinadas con variable DESERTOR\n",
    "\n",
    "def desertores(df_anterior, df_posterior):\n",
    "    # Filtrar los estudiantes que no son prebásica o de educación para adultos\n",
    "    desertores = df_anterior[(~df_anterior['COD_ENSE2'].isin([1, 3, 4, 6, 8]))]\n",
    "    # print(\"Estudiantes regulares sin prebasica y adultos año anterior\",desertores.shape)\n",
    "\n",
    "\n",
    "    # Filtrar los estudiantes que no asisten a 4to medio el año a analizar\n",
    "    desertores = desertores[~((desertores['COD_GRADO'] == 4) & (df_anterior['COD_ENSE2'].isin([5, 7])))]\n",
    "    # print(\"Desertores sin 4to medio año anterior\", desertores.shape)\n",
    "\n",
    "    # Filtrar a los estudiantes df_posterior que no están en 'COD_ENSE2' 1, 3, 4, 6 y 8\n",
    "    df_posterior = df_posterior[(~df_posterior['COD_ENSE2'].isin([1, 3, 4, 6, 8]))]\n",
    "    # print(\"Estudiantes sistema regular año posterior\",df_posterior.shape)\n",
    "\n",
    "    # Verificar si los estudiantes están presentes en el archivo actual\n",
    "    desertores = desertores[~desertores['MRUN'].isin(df_posterior['MRUN'].unique())]\n",
    "    # print(\"Desertores año a analizar\", desertores.shape)\n",
    "    \n",
    "    # Estudiantes que se mantienen en el sistema regular\n",
    "    estudiantes_regulares = df_posterior[df_posterior['MRUN'].isin(df_anterior['MRUN'].unique())]\n",
    "    # print(\"Estudiantes regulares año a analizar\", estudiantes_regulares.shape)\n",
    "\n",
    "    # Nueva columna que indica si el estudiante es desertor o no\n",
    "    desertores['DESERTOR'] = 1\n",
    "    estudiantes_regulares['DESERTOR'] = 0\n",
    "\n",
    "    # Eliminar registros con valores ' ' en EDAD_ALU en df_anterior\n",
    "    desertores = desertores[desertores['EDAD_ALU'] != ' ']\n",
    "    estudiantes_regulares = estudiantes_regulares[estudiantes_regulares['EDAD_ALU'] != ' ']\n",
    "\n",
    "    # Convertir EDAD_ALU a int\n",
    "    desertores['EDAD_ALU'] = desertores['EDAD_ALU'].astype(int)\n",
    "    estudiantes_regulares['EDAD_ALU'] = estudiantes_regulares['EDAD_ALU'].astype(int)\n",
    "\n",
    "    # Combinar los dataframes de desertores y estudiantes regulares\n",
    "    df_combinado = pd.concat([desertores, estudiantes_regulares])\n",
    "\n",
    "    \n",
    "    # Año de df_anterior\n",
    "    year = str(df_anterior['AGNO'].unique()[0])\n",
    "\n",
    "    # Exportar en carpeta data/tablas el dataframe combinado a csv identificando el AGNO del df_anterior con separador ;\n",
    "    df_combinado.to_csv('data/tablas/combinado' + year + '.csv', sep=';')\n"
   ]
  },
  {
   "cell_type": "code",
   "execution_count": 6,
   "metadata": {},
   "outputs": [
    {
     "name": "stderr",
     "output_type": "stream",
     "text": [
      "/var/folders/v5/8__wxdkj3j713bygpr1tsw_80000gn/T/ipykernel_3150/283906077.py:10: UserWarning: Boolean Series key will be reindexed to match DataFrame index.\n",
      "  desertores = desertores[~((desertores['COD_GRADO'] == 4) & (df_anterior['COD_ENSE2'].isin([5, 7])))]\n",
      "/var/folders/v5/8__wxdkj3j713bygpr1tsw_80000gn/T/ipykernel_3150/283906077.py:27: SettingWithCopyWarning: \n",
      "A value is trying to be set on a copy of a slice from a DataFrame.\n",
      "Try using .loc[row_indexer,col_indexer] = value instead\n",
      "\n",
      "See the caveats in the documentation: https://pandas.pydata.org/pandas-docs/stable/user_guide/indexing.html#returning-a-view-versus-a-copy\n",
      "  estudiantes_regulares['DESERTOR'] = 0\n"
     ]
    }
   ],
   "source": [
    "desertores(r2018, r2019)"
   ]
  }
 ],
 "metadata": {
  "kernelspec": {
   "display_name": "Python 3",
   "language": "python",
   "name": "python3"
  },
  "language_info": {
   "codemirror_mode": {
    "name": "ipython",
    "version": 3
   },
   "file_extension": ".py",
   "mimetype": "text/x-python",
   "name": "python",
   "nbconvert_exporter": "python",
   "pygments_lexer": "ipython3",
   "version": "3.11.4"
  }
 },
 "nbformat": 4,
 "nbformat_minor": 2
}
