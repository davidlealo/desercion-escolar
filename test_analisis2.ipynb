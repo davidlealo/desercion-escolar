{
 "cells": [
  {
   "cell_type": "code",
   "execution_count": 1,
   "metadata": {},
   "outputs": [],
   "source": [
    "# Importar librerias\n",
    "import pandas as pd\n",
    "import numpy as np\n",
    "import matplotlib.pyplot as plt\n",
    "import seaborn as sns"
   ]
  },
  {
   "cell_type": "code",
   "execution_count": 2,
   "metadata": {},
   "outputs": [],
   "source": [
    "from analisis import desertores"
   ]
  },
  {
   "cell_type": "code",
   "execution_count": 3,
   "metadata": {},
   "outputs": [
    {
     "name": "stderr",
     "output_type": "stream",
     "text": [
      "/var/folders/v5/8__wxdkj3j713bygpr1tsw_80000gn/T/ipykernel_86211/3969867569.py:1: DtypeWarning: Columns (26) have mixed types. Specify dtype option on import or set low_memory=False.\n",
      "  m2018 = pd.read_csv('data/matriculas/2018/m2018.csv', sep=';')\n",
      "/var/folders/v5/8__wxdkj3j713bygpr1tsw_80000gn/T/ipykernel_86211/3969867569.py:2: DtypeWarning: Columns (27) have mixed types. Specify dtype option on import or set low_memory=False.\n",
      "  m2019 = pd.read_csv('data/matriculas/2019/m2019.csv', sep=';')\n"
     ]
    }
   ],
   "source": [
    "m2018 = pd.read_csv('data/matriculas/2018/m2018.csv', sep=';')\n",
    "m2019 = pd.read_csv('data/matriculas/2019/m2019.csv', sep=';')"
   ]
  },
  {
   "cell_type": "code",
   "execution_count": 4,
   "metadata": {},
   "outputs": [
    {
     "name": "stderr",
     "output_type": "stream",
     "text": [
      "/Users/davidlealolivares/Library/Mobile Documents/com~apple~CloudDocs/Talleres y ayudantias Diplomado DataScience UC2023/desercion-escolar/analisis.py:13: UserWarning: Boolean Series key will be reindexed to match DataFrame index.\n",
      "  desertores = desertores[~((desertores['COD_GRADO'] == 4) & (df_anterior['COD_ENSE2'].isin([5, 7])))]\n",
      "/Users/davidlealolivares/Library/Mobile Documents/com~apple~CloudDocs/Talleres y ayudantias Diplomado DataScience UC2023/desercion-escolar/analisis.py:30: SettingWithCopyWarning: \n",
      "A value is trying to be set on a copy of a slice from a DataFrame.\n",
      "Try using .loc[row_indexer,col_indexer] = value instead\n",
      "\n",
      "See the caveats in the documentation: https://pandas.pydata.org/pandas-docs/stable/user_guide/indexing.html#returning-a-view-versus-a-copy\n",
      "  estudiantes_regulares['DESERTOR'] = 0\n"
     ]
    }
   ],
   "source": [
    "desertores(m2018, m2019)"
   ]
  },
  {
   "cell_type": "code",
   "execution_count": 5,
   "metadata": {},
   "outputs": [
    {
     "name": "stdout",
     "output_type": "stream",
     "text": [
      "HEAD DESERTORES 2018\n",
      "Shape DESERTORES 2018\n",
      "INFO DESERTORES 2018\n",
      "<class 'pandas.core.frame.DataFrame'>\n",
      "RangeIndex: 79503 entries, 0 to 79502\n",
      "Data columns (total 36 columns):\n",
      " #   Column          Non-Null Count  Dtype \n",
      "---  ------          --------------  ----- \n",
      " 0   Unnamed: 0      79503 non-null  int64 \n",
      " 1   AGNO            79503 non-null  int64 \n",
      " 2   RBD             79503 non-null  int64 \n",
      " 3   DGV_RBD         79503 non-null  int64 \n",
      " 4   NOM_RBD         79503 non-null  object\n",
      " 5   COD_REG_RBD     79503 non-null  int64 \n",
      " 6   COD_PRO_RBD     79503 non-null  int64 \n",
      " 7   COD_COM_RBD     79503 non-null  int64 \n",
      " 8   NOM_COM_RBD     79503 non-null  object\n",
      " 9   COD_DEPROV_RBD  79503 non-null  int64 \n",
      " 10  NOM_DEPROV_RBD  79503 non-null  object\n",
      " 11  COD_DEPE        79503 non-null  int64 \n",
      " 12  COD_DEPE2       79503 non-null  int64 \n",
      " 13  RURAL_RBD       79503 non-null  int64 \n",
      " 14  ESTADO_ESTAB    79503 non-null  int64 \n",
      " 15  COD_ENSE        79503 non-null  int64 \n",
      " 16  COD_ENSE2       79503 non-null  int64 \n",
      " 17  COD_ENSE3       79503 non-null  int64 \n",
      " 18  COD_GRADO       79503 non-null  int64 \n",
      " 19  COD_GRADO2      79503 non-null  int64 \n",
      " 20  LET_CUR         79503 non-null  object\n",
      " 21  COD_JOR         79503 non-null  int64 \n",
      " 22  COD_TIP_CUR     79503 non-null  int64 \n",
      " 23  COD_DES_CUR     79503 non-null  int64 \n",
      " 24  MRUN            79503 non-null  int64 \n",
      " 25  GEN_ALU         79503 non-null  int64 \n",
      " 26  FEC_NAC_ALU     79503 non-null  int64 \n",
      " 27  EDAD_ALU        79503 non-null  int64 \n",
      " 28  COD_REG_ALU     79503 non-null  int64 \n",
      " 29  COD_COM_ALU     79503 non-null  int64 \n",
      " 30  NOM_COM_ALU     79503 non-null  object\n",
      " 31  COD_SEC         79503 non-null  int64 \n",
      " 32  COD_ESPE        79503 non-null  int64 \n",
      " 33  COD_RAMA        79503 non-null  int64 \n",
      " 34  ENS             79503 non-null  int64 \n",
      " 35  DESERTOR        79503 non-null  int64 \n",
      "dtypes: int64(31), object(5)\n",
      "memory usage: 21.8+ MB\n"
     ]
    }
   ],
   "source": [
    "# importar desertores de 2018\n",
    "d2018 = pd.read_csv('data/tablas/desertores2018.csv', sep=';')\n",
    "print('HEAD DESERTORES 2018')\n",
    "d2018.head()\n",
    "print('Shape DESERTORES 2018')\n",
    "d2018.shape\n",
    "print('INFO DESERTORES 2018')\n",
    "d2018.info()"
   ]
  },
  {
   "cell_type": "code",
   "execution_count": 6,
   "metadata": {},
   "outputs": [
    {
     "name": "stdout",
     "output_type": "stream",
     "text": [
      "HEAD REGULARES 2018\n",
      "Shape REGULARES 2018\n",
      "INFO REGULARES 2018\n",
      "<class 'pandas.core.frame.DataFrame'>\n",
      "RangeIndex: 2834989 entries, 0 to 2834988\n",
      "Data columns (total 37 columns):\n",
      " #   Column          Dtype \n",
      "---  ------          ----- \n",
      " 0   Unnamed: 0      int64 \n",
      " 1   AGNO            int64 \n",
      " 2   RBD             int64 \n",
      " 3   DGV_RBD         int64 \n",
      " 4   NOM_RBD         object\n",
      " 5   COD_REG_RBD     int64 \n",
      " 6   NOM_REG_RBD_A   object\n",
      " 7   COD_PRO_RBD     int64 \n",
      " 8   COD_COM_RBD     int64 \n",
      " 9   NOM_COM_RBD     object\n",
      " 10  COD_DEPROV_RBD  int64 \n",
      " 11  NOM_DEPROV_RBD  object\n",
      " 12  COD_DEPE        int64 \n",
      " 13  COD_DEPE2       int64 \n",
      " 14  RURAL_RBD       int64 \n",
      " 15  ESTADO_ESTAB    int64 \n",
      " 16  COD_ENSE        int64 \n",
      " 17  COD_ENSE2       int64 \n",
      " 18  COD_ENSE3       int64 \n",
      " 19  COD_GRADO       int64 \n",
      " 20  COD_GRADO2      int64 \n",
      " 21  LET_CUR         object\n",
      " 22  COD_JOR         int64 \n",
      " 23  COD_TIP_CUR     int64 \n",
      " 24  COD_DES_CUR     int64 \n",
      " 25  MRUN            int64 \n",
      " 26  GEN_ALU         int64 \n",
      " 27  FEC_NAC_ALU     int64 \n",
      " 28  EDAD_ALU        int64 \n",
      " 29  COD_REG_ALU     int64 \n",
      " 30  COD_COM_ALU     int64 \n",
      " 31  NOM_COM_ALU     object\n",
      " 32  COD_SEC         int64 \n",
      " 33  COD_ESPE        int64 \n",
      " 34  COD_RAMA        int64 \n",
      " 35  ENS             int64 \n",
      " 36  DESERTOR        int64 \n",
      "dtypes: int64(31), object(6)\n",
      "memory usage: 800.3+ MB\n"
     ]
    }
   ],
   "source": [
    "# importar regulares de 2018\n",
    "r2018 = pd.read_csv('data/tablas/regulares2018.csv', sep=';')\n",
    "print('HEAD REGULARES 2018')\n",
    "r2018.head()\n",
    "print('Shape REGULARES 2018')\n",
    "r2018.shape\n",
    "print('INFO REGULARES 2018')\n",
    "r2018.info()"
   ]
  }
 ],
 "metadata": {
  "kernelspec": {
   "display_name": "Python 3",
   "language": "python",
   "name": "python3"
  },
  "language_info": {
   "codemirror_mode": {
    "name": "ipython",
    "version": 3
   },
   "file_extension": ".py",
   "mimetype": "text/x-python",
   "name": "python",
   "nbconvert_exporter": "python",
   "pygments_lexer": "ipython3",
   "version": "3.11.4"
  }
 },
 "nbformat": 4,
 "nbformat_minor": 2
}
