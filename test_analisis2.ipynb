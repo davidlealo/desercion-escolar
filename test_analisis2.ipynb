{
 "cells": [
  {
   "cell_type": "code",
   "execution_count": 1,
   "metadata": {},
   "outputs": [],
   "source": [
    "# Importar librerias\n",
    "import pandas as pd\n",
    "import numpy as np\n",
    "import matplotlib.pyplot as plt\n",
    "import seaborn as sns"
   ]
  },
  {
   "cell_type": "code",
   "execution_count": 2,
   "metadata": {},
   "outputs": [],
   "source": [
    "from analisis import desertores"
   ]
  },
  {
   "cell_type": "code",
   "execution_count": 3,
   "metadata": {},
   "outputs": [
    {
     "name": "stderr",
     "output_type": "stream",
     "text": [
      "/var/folders/v5/8__wxdkj3j713bygpr1tsw_80000gn/T/ipykernel_86211/3969867569.py:1: DtypeWarning: Columns (26) have mixed types. Specify dtype option on import or set low_memory=False.\n",
      "  m2018 = pd.read_csv('data/matriculas/2018/m2018.csv', sep=';')\n",
      "/var/folders/v5/8__wxdkj3j713bygpr1tsw_80000gn/T/ipykernel_86211/3969867569.py:2: DtypeWarning: Columns (27) have mixed types. Specify dtype option on import or set low_memory=False.\n",
      "  m2019 = pd.read_csv('data/matriculas/2019/m2019.csv', sep=';')\n"
     ]
    }
   ],
   "source": [
    "m2018 = pd.read_csv('data/matriculas/2018/m2018.csv', sep=';')\n",
    "m2019 = pd.read_csv('data/matriculas/2019/m2019.csv', sep=';')"
   ]
  },
  {
   "cell_type": "code",
   "execution_count": 4,
   "metadata": {},
   "outputs": [
    {
     "name": "stderr",
     "output_type": "stream",
     "text": [
      "/Users/davidlealolivares/Library/Mobile Documents/com~apple~CloudDocs/Talleres y ayudantias Diplomado DataScience UC2023/desercion-escolar/analisis.py:13: UserWarning: Boolean Series key will be reindexed to match DataFrame index.\n",
      "  desertores = desertores[~((desertores['COD_GRADO'] == 4) & (df_anterior['COD_ENSE2'].isin([5, 7])))]\n",
      "/Users/davidlealolivares/Library/Mobile Documents/com~apple~CloudDocs/Talleres y ayudantias Diplomado DataScience UC2023/desercion-escolar/analisis.py:30: SettingWithCopyWarning: \n",
      "A value is trying to be set on a copy of a slice from a DataFrame.\n",
      "Try using .loc[row_indexer,col_indexer] = value instead\n",
      "\n",
      "See the caveats in the documentation: https://pandas.pydata.org/pandas-docs/stable/user_guide/indexing.html#returning-a-view-versus-a-copy\n",
      "  estudiantes_regulares['DESERTOR'] = 0\n"
     ]
    }
   ],
   "source": [
    "desertores(m2018, m2019)"
   ]
  },
  {
   "cell_type": "code",
   "execution_count": 5,
   "metadata": {},
   "outputs": [
    {
     "name": "stdout",
     "output_type": "stream",
     "text": [
      "HEAD DESERTORES 2018\n",
      "Shape DESERTORES 2018\n",
      "INFO DESERTORES 2018\n",
      "<class 'pandas.core.frame.DataFrame'>\n",
      "RangeIndex: 79503 entries, 0 to 79502\n",
      "Data columns (total 36 columns):\n",
      " #   Column          Non-Null Count  Dtype \n",
      "---  ------          --------------  ----- \n",
      " 0   Unnamed: 0      79503 non-null  int64 \n",
      " 1   AGNO            79503 non-null  int64 \n",
      " 2   RBD             79503 non-null  int64 \n",
      " 3   DGV_RBD         79503 non-null  int64 \n",
      " 4   NOM_RBD         79503 non-null  object\n",
      " 5   COD_REG_RBD     79503 non-null  int64 \n",
      " 6   COD_PRO_RBD     79503 non-null  int64 \n",
      " 7   COD_COM_RBD     79503 non-null  int64 \n",
      " 8   NOM_COM_RBD     79503 non-null  object\n",
      " 9   COD_DEPROV_RBD  79503 non-null  int64 \n",
      " 10  NOM_DEPROV_RBD  79503 non-null  object\n",
      " 11  COD_DEPE        79503 non-null  int64 \n",
      " 12  COD_DEPE2       79503 non-null  int64 \n",
      " 13  RURAL_RBD       79503 non-null  int64 \n",
      " 14  ESTADO_ESTAB    79503 non-null  int64 \n",
      " 15  COD_ENSE        79503 non-null  int64 \n",
      " 16  COD_ENSE2       79503 non-null  int64 \n",
      " 17  COD_ENSE3       79503 non-null  int64 \n",
      " 18  COD_GRADO       79503 non-null  int64 \n",
      " 19  COD_GRADO2      79503 non-null  int64 \n",
      " 20  LET_CUR         79503 non-null  object\n",
      " 21  COD_JOR         79503 non-null  int64 \n",
      " 22  COD_TIP_CUR     79503 non-null  int64 \n",
      " 23  COD_DES_CUR     79503 non-null  int64 \n",
      " 24  MRUN            79503 non-null  int64 \n",
      " 25  GEN_ALU         79503 non-null  int64 \n",
      " 26  FEC_NAC_ALU     79503 non-null  int64 \n",
      " 27  EDAD_ALU        79503 non-null  int64 \n",
      " 28  COD_REG_ALU     79503 non-null  int64 \n",
      " 29  COD_COM_ALU     79503 non-null  int64 \n",
      " 30  NOM_COM_ALU     79503 non-null  object\n",
      " 31  COD_SEC         79503 non-null  int64 \n",
      " 32  COD_ESPE        79503 non-null  int64 \n",
      " 33  COD_RAMA        79503 non-null  int64 \n",
      " 34  ENS             79503 non-null  int64 \n",
      " 35  DESERTOR        79503 non-null  int64 \n",
      "dtypes: int64(31), object(5)\n",
      "memory usage: 21.8+ MB\n"
     ]
    }
   ],
   "source": [
    "# importar desertores de 2018\n",
    "d2018 = pd.read_csv('data/tablas/desertores2018.csv', sep=';')\n",
    "print('HEAD DESERTORES 2018')\n",
    "d2018.head()\n",
    "print('Shape DESERTORES 2018')\n",
    "d2018.shape\n",
    "print('INFO DESERTORES 2018')\n",
    "d2018.info()"
   ]
  },
  {
   "cell_type": "code",
   "execution_count": 6,
   "metadata": {},
   "outputs": [
    {
     "name": "stdout",
     "output_type": "stream",
     "text": [
      "HEAD REGULARES 2018\n",
      "Shape REGULARES 2018\n",
      "INFO REGULARES 2018\n",
      "<class 'pandas.core.frame.DataFrame'>\n",
      "RangeIndex: 2834989 entries, 0 to 2834988\n",
      "Data columns (total 37 columns):\n",
      " #   Column          Dtype \n",
      "---  ------          ----- \n",
      " 0   Unnamed: 0      int64 \n",
      " 1   AGNO            int64 \n",
      " 2   RBD             int64 \n",
      " 3   DGV_RBD         int64 \n",
      " 4   NOM_RBD         object\n",
      " 5   COD_REG_RBD     int64 \n",
      " 6   NOM_REG_RBD_A   object\n",
      " 7   COD_PRO_RBD     int64 \n",
      " 8   COD_COM_RBD     int64 \n",
      " 9   NOM_COM_RBD     object\n",
      " 10  COD_DEPROV_RBD  int64 \n",
      " 11  NOM_DEPROV_RBD  object\n",
      " 12  COD_DEPE        int64 \n",
      " 13  COD_DEPE2       int64 \n",
      " 14  RURAL_RBD       int64 \n",
      " 15  ESTADO_ESTAB    int64 \n",
      " 16  COD_ENSE        int64 \n",
      " 17  COD_ENSE2       int64 \n",
      " 18  COD_ENSE3       int64 \n",
      " 19  COD_GRADO       int64 \n",
      " 20  COD_GRADO2      int64 \n",
      " 21  LET_CUR         object\n",
      " 22  COD_JOR         int64 \n",
      " 23  COD_TIP_CUR     int64 \n",
      " 24  COD_DES_CUR     int64 \n",
      " 25  MRUN            int64 \n",
      " 26  GEN_ALU         int64 \n",
      " 27  FEC_NAC_ALU     int64 \n",
      " 28  EDAD_ALU        int64 \n",
      " 29  COD_REG_ALU     int64 \n",
      " 30  COD_COM_ALU     int64 \n",
      " 31  NOM_COM_ALU     object\n",
      " 32  COD_SEC         int64 \n",
      " 33  COD_ESPE        int64 \n",
      " 34  COD_RAMA        int64 \n",
      " 35  ENS             int64 \n",
      " 36  DESERTOR        int64 \n",
      "dtypes: int64(31), object(6)\n",
      "memory usage: 800.3+ MB\n"
     ]
    }
   ],
   "source": [
    "# importar regulares de 2018\n",
    "r2018 = pd.read_csv('data/tablas/regulares2018.csv', sep=';')\n",
    "print('HEAD REGULARES 2018')\n",
    "r2018.head()\n",
    "print('Shape REGULARES 2018')\n",
    "r2018.shape\n",
    "print('INFO REGULARES 2018')\n",
    "r2018.info()"
   ]
  },
  {
   "cell_type": "code",
   "execution_count": 9,
   "metadata": {},
   "outputs": [],
   "source": [
    "# Convertir a string las variables: 'RBD', 'DGV_RBD', 'NOM_RBD', 'COD_REG_RBD', 'COD_PRO_RBD', 'COD_COM_RBD', 'NOM_COM_RBD', 'COD_DEPROV_RBD', 'NOM_DEPROV_RBD', 'COD_DEPE', 'COD_DEPE2', 'RURAL_RBD', 'ESTADO_ESTAB', 'COD_ENSE', 'COD_ENSE2', 'COD_ENSE3', 'COD_GRADO', 'COD_GRADO2', 'LET_CUR', 'COD_JOR', 'COD_TIP_CUR', 'COD_DES_CUR', 'MRUN', 'GEN_ALU', 'COD_REG_ALU', 'COD_COM_ALU', 'NOM_COM_ALU', 'COD_SEC', 'COD_ESPE', 'COD_RAMA', 'ENS', 'DESERTOR'\n",
    "d2018['RBD'] = d2018['RBD'].astype(str)\n",
    "d2018['DGV_RBD'] = d2018['DGV_RBD'].astype(str)\n",
    "d2018['NOM_RBD'] = d2018['NOM_RBD'].astype(str)\n",
    "d2018['COD_REG_RBD'] = d2018['COD_REG_RBD'].astype(str)\n",
    "d2018['COD_PRO_RBD'] = d2018['COD_PRO_RBD'].astype(str)\n",
    "d2018['COD_COM_RBD'] = d2018['COD_COM_RBD'].astype(str)\n",
    "d2018['NOM_COM_RBD'] = d2018['NOM_COM_RBD'].astype(str)\n",
    "d2018['COD_DEPROV_RBD'] = d2018['COD_DEPROV_RBD'].astype(str)\n",
    "d2018['NOM_DEPROV_RBD'] = d2018['NOM_DEPROV_RBD'].astype(str)\n",
    "d2018['COD_DEPE'] = d2018['COD_DEPE'].astype(str)\n",
    "d2018['COD_DEPE2'] = d2018['COD_DEPE2'].astype(str)\n",
    "d2018['RURAL_RBD'] = d2018['RURAL_RBD'].astype(str)\n",
    "d2018['ESTADO_ESTAB'] = d2018['ESTADO_ESTAB'].astype(str)\n",
    "d2018['COD_ENSE'] = d2018['COD_ENSE'].astype(str)\n",
    "d2018['COD_ENSE2'] = d2018['COD_ENSE2'].astype(str)\n",
    "d2018['COD_ENSE3'] = d2018['COD_ENSE3'].astype(str)\n",
    "d2018['COD_GRADO'] = d2018['COD_GRADO'].astype(str)\n",
    "d2018['COD_GRADO2'] = d2018['COD_GRADO2'].astype(str)\n",
    "d2018['LET_CUR'] = d2018['LET_CUR'].astype(str)\n",
    "d2018['COD_JOR'] = d2018['COD_JOR'].astype(str)\n",
    "d2018['COD_TIP_CUR'] = d2018['COD_TIP_CUR'].astype(str)\n",
    "d2018['COD_DES_CUR'] = d2018['COD_DES_CUR'].astype(str)\n",
    "d2018['MRUN'] = d2018['MRUN'].astype(str)\n",
    "d2018['GEN_ALU'] = d2018['GEN_ALU'].astype(str)\n",
    "d2018['COD_REG_ALU'] = d2018['COD_REG_ALU'].astype(str)\n",
    "d2018['COD_COM_ALU'] = d2018['COD_COM_ALU'].astype(str)\n",
    "d2018['NOM_COM_ALU'] = d2018['NOM_COM_ALU'].astype(str)\n",
    "d2018['COD_SEC'] = d2018['COD_SEC'].astype(str)\n",
    "d2018['COD_ESPE'] = d2018['COD_ESPE'].astype(str)\n",
    "d2018['COD_RAMA'] = d2018['COD_RAMA'].astype(str)\n",
    "d2018['ENS'] = d2018['ENS'].astype(str)\n",
    "d2018['DESERTOR'] = d2018['DESERTOR'].astype(str)\n"
   ]
  },
  {
   "cell_type": "code",
   "execution_count": 10,
   "metadata": {},
   "outputs": [
    {
     "name": "stdout",
     "output_type": "stream",
     "text": [
      "<class 'pandas.core.frame.DataFrame'>\n",
      "RangeIndex: 79503 entries, 0 to 79502\n",
      "Data columns (total 36 columns):\n",
      " #   Column          Non-Null Count  Dtype \n",
      "---  ------          --------------  ----- \n",
      " 0   Unnamed: 0      79503 non-null  int64 \n",
      " 1   AGNO            79503 non-null  int64 \n",
      " 2   RBD             79503 non-null  object\n",
      " 3   DGV_RBD         79503 non-null  object\n",
      " 4   NOM_RBD         79503 non-null  object\n",
      " 5   COD_REG_RBD     79503 non-null  object\n",
      " 6   COD_PRO_RBD     79503 non-null  object\n",
      " 7   COD_COM_RBD     79503 non-null  object\n",
      " 8   NOM_COM_RBD     79503 non-null  object\n",
      " 9   COD_DEPROV_RBD  79503 non-null  object\n",
      " 10  NOM_DEPROV_RBD  79503 non-null  object\n",
      " 11  COD_DEPE        79503 non-null  object\n",
      " 12  COD_DEPE2       79503 non-null  object\n",
      " 13  RURAL_RBD       79503 non-null  object\n",
      " 14  ESTADO_ESTAB    79503 non-null  object\n",
      " 15  COD_ENSE        79503 non-null  object\n",
      " 16  COD_ENSE2       79503 non-null  object\n",
      " 17  COD_ENSE3       79503 non-null  object\n",
      " 18  COD_GRADO       79503 non-null  object\n",
      " 19  COD_GRADO2      79503 non-null  object\n",
      " 20  LET_CUR         79503 non-null  object\n",
      " 21  COD_JOR         79503 non-null  object\n",
      " 22  COD_TIP_CUR     79503 non-null  object\n",
      " 23  COD_DES_CUR     79503 non-null  object\n",
      " 24  MRUN            79503 non-null  object\n",
      " 25  GEN_ALU         79503 non-null  object\n",
      " 26  FEC_NAC_ALU     79503 non-null  int64 \n",
      " 27  EDAD_ALU        79503 non-null  int64 \n",
      " 28  COD_REG_ALU     79503 non-null  object\n",
      " 29  COD_COM_ALU     79503 non-null  object\n",
      " 30  NOM_COM_ALU     79503 non-null  object\n",
      " 31  COD_SEC         79503 non-null  object\n",
      " 32  COD_ESPE        79503 non-null  object\n",
      " 33  COD_RAMA        79503 non-null  object\n",
      " 34  ENS             79503 non-null  object\n",
      " 35  DESERTOR        79503 non-null  object\n",
      "dtypes: int64(4), object(32)\n",
      "memory usage: 21.8+ MB\n"
     ]
    }
   ],
   "source": [
    "# d2018 info\n",
    "d2018.info()"
   ]
  },
  {
   "cell_type": "code",
   "execution_count": 11,
   "metadata": {},
   "outputs": [],
   "source": [
    "# Eliminar Unnamed\n",
    "d2018 = d2018.drop(['Unnamed: 0'], axis=1)"
   ]
  },
  {
   "cell_type": "code",
   "execution_count": 13,
   "metadata": {},
   "outputs": [
    {
     "name": "stdout",
     "output_type": "stream",
     "text": [
      "Silhouette: 0.612\n"
     ]
    },
    {
     "data": {
      "image/png": "[encoded data removed]",
      "text/plain": [
       "<Figure size 640x480 with 1 Axes>"
      ]
     },
     "metadata": {},
     "output_type": "display_data"
    }
   ],
   "source": [
    "# kprototypes de d2018\n",
    "from kmodes.kprototypes import KPrototypes\n",
    "# importar librerias\n",
    "import matplotlib.pyplot as plt\n",
    "import seaborn as sns\n",
    "from sklearn.preprocessing import StandardScaler\n",
    "from sklearn.decomposition import PCA\n",
    "from sklearn.metrics import silhouette_score\n",
    "from sklearn.cluster import KMeans\n",
    "\n",
    "# Eliminar variables no numericas\n",
    "d2018_num = d2018.drop(['RBD', 'DGV_RBD', 'NOM_RBD', 'COD_REG_RBD', 'COD_PRO_RBD', 'COD_COM_RBD', 'NOM_COM_RBD', 'COD_DEPROV_RBD', 'NOM_DEPROV_RBD', 'COD_DEPE', 'COD_DEPE2', 'RURAL_RBD', 'ESTADO_ESTAB', 'COD_ENSE', 'COD_ENSE2', 'COD_ENSE3', 'COD_GRADO', 'COD_GRADO2', 'LET_CUR', 'COD_JOR', 'COD_TIP_CUR', 'COD_DES_CUR', 'MRUN', 'GEN_ALU', 'COD_REG_ALU', 'COD_COM_ALU', 'NOM_COM_ALU', 'COD_SEC', 'COD_ESPE', 'COD_RAMA', 'ENS', 'DESERTOR'], axis=1)\n",
    "\n",
    "# Normalizar\n",
    "scaler = StandardScaler()\n",
    "d2018_num = scaler.fit_transform(d2018_num)\n",
    "\n",
    "# PCA\n",
    "pca = PCA(n_components=2)\n",
    "d2018_pca = pca.fit_transform(d2018_num)\n",
    "\n",
    "# Kprototypes\n",
    "kproto = KPrototypes(n_clusters=3, init='Cao')\n",
    "clusters = kproto.fit_predict(d2018_num, categorical=[0])\n",
    "\n",
    "# Silhouette\n",
    "score = silhouette_score(d2018_num, clusters)\n",
    "print('Silhouette: %.3f' % score)\n",
    "\n",
    "# Visualizar\n",
    "plt.scatter(d2018_pca[:, 0], d2018_pca[:, 1], c=clusters, s=50, cmap='viridis')\n",
    "plt.show()\n",
    "\n"
   ]
  }
 ],
 "metadata": {
  "kernelspec": {
   "display_name": "Python 3",
   "language": "python",
   "name": "python3"
  },
  "language_info": {
   "codemirror_mode": {
    "name": "ipython",
    "version": 3
   },
   "file_extension": ".py",
   "mimetype": "text/x-python",
   "name": "python",
   "nbconvert_exporter": "python",
   "pygments_lexer": "ipython3",
   "version": "3.11.4"
  }
 },
 "nbformat": 4,
 "nbformat_minor": 2
}
