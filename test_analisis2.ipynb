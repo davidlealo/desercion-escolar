{
 "cells": [
  {
   "cell_type": "code",
   "execution_count": 1,
   "metadata": {},
   "outputs": [],
   "source": [
    "# Importar librerias\n",
    "import pandas as pd\n",
    "import numpy as np\n",
    "import matplotlib.pyplot as plt\n",
    "import seaborn as sns"
   ]
  },
  {
   "cell_type": "code",
   "execution_count": 2,
   "metadata": {},
   "outputs": [],
   "source": [
    "from analisis import desertores"
   ]
  },
  {
   "cell_type": "code",
   "execution_count": 3,
   "metadata": {},
   "outputs": [
    {
     "name": "stderr",
     "output_type": "stream",
     "text": [
      "/var/folders/v5/8__wxdkj3j713bygpr1tsw_80000gn/T/ipykernel_86211/3969867569.py:1: DtypeWarning: Columns (26) have mixed types. Specify dtype option on import or set low_memory=False.\n",
      "  m2018 = pd.read_csv('data/matriculas/2018/m2018.csv', sep=';')\n",
      "/var/folders/v5/8__wxdkj3j713bygpr1tsw_80000gn/T/ipykernel_86211/3969867569.py:2: DtypeWarning: Columns (27) have mixed types. Specify dtype option on import or set low_memory=False.\n",
      "  m2019 = pd.read_csv('data/matriculas/2019/m2019.csv', sep=';')\n"
     ]
    }
   ],
   "source": [
    "m2018 = pd.read_csv('data/matriculas/2018/m2018.csv', sep=';')\n",
    "m2019 = pd.read_csv('data/matriculas/2019/m2019.csv', sep=';')"
   ]
  },
  {
   "cell_type": "code",
   "execution_count": 4,
   "metadata": {},
   "outputs": [
    {
     "name": "stderr",
     "output_type": "stream",
     "text": [
      "/Users/davidlealolivares/Library/Mobile Documents/com~apple~CloudDocs/Talleres y ayudantias Diplomado DataScience UC2023/desercion-escolar/analisis.py:13: UserWarning: Boolean Series key will be reindexed to match DataFrame index.\n",
      "  desertores = desertores[~((desertores['COD_GRADO'] == 4) & (df_anterior['COD_ENSE2'].isin([5, 7])))]\n",
      "/Users/davidlealolivares/Library/Mobile Documents/com~apple~CloudDocs/Talleres y ayudantias Diplomado DataScience UC2023/desercion-escolar/analisis.py:30: SettingWithCopyWarning: \n",
      "A value is trying to be set on a copy of a slice from a DataFrame.\n",
      "Try using .loc[row_indexer,col_indexer] = value instead\n",
      "\n",
      "See the caveats in the documentation: https://pandas.pydata.org/pandas-docs/stable/user_guide/indexing.html#returning-a-view-versus-a-copy\n",
      "  estudiantes_regulares['DESERTOR'] = 0\n"
     ]
    }
   ],
   "source": [
    "desertores(m2018, m2019)"
   ]
  },
  {
   "cell_type": "code",
   "execution_count": 5,
   "metadata": {},
   "outputs": [
    {
     "name": "stdout",
     "output_type": "stream",
     "text": [
      "HEAD DESERTORES 2018\n",
      "Shape DESERTORES 2018\n",
      "INFO DESERTORES 2018\n",
      "<class 'pandas.core.frame.DataFrame'>\n",
      "RangeIndex: 79503 entries, 0 to 79502\n",
      "Data columns (total 36 columns):\n",
      " #   Column          Non-Null Count  Dtype \n",
      "---  ------          --------------  ----- \n",
      " 0   Unnamed: 0      79503 non-null  int64 \n",
      " 1   AGNO            79503 non-null  int64 \n",
      " 2   RBD             79503 non-null  int64 \n",
      " 3   DGV_RBD         79503 non-null  int64 \n",
      " 4   NOM_RBD         79503 non-null  object\n",
      " 5   COD_REG_RBD     79503 non-null  int64 \n",
      " 6   COD_PRO_RBD     79503 non-null  int64 \n",
      " 7   COD_COM_RBD     79503 non-null  int64 \n",
      " 8   NOM_COM_RBD     79503 non-null  object\n",
      " 9   COD_DEPROV_RBD  79503 non-null  int64 \n",
      " 10  NOM_DEPROV_RBD  79503 non-null  object\n",
      " 11  COD_DEPE        79503 non-null  int64 \n",
      " 12  COD_DEPE2       79503 non-null  int64 \n",
      " 13  RURAL_RBD       79503 non-null  int64 \n",
      " 14  ESTADO_ESTAB    79503 non-null  int64 \n",
      " 15  COD_ENSE        79503 non-null  int64 \n",
      " 16  COD_ENSE2       79503 non-null  int64 \n",
      " 17  COD_ENSE3       79503 non-null  int64 \n",
      " 18  COD_GRADO       79503 non-null  int64 \n",
      " 19  COD_GRADO2      79503 non-null  int64 \n",
      " 20  LET_CUR         79503 non-null  object\n",
      " 21  COD_JOR         79503 non-null  int64 \n",
      " 22  COD_TIP_CUR     79503 non-null  int64 \n",
      " 23  COD_DES_CUR     79503 non-null  int64 \n",
      " 24  MRUN            79503 non-null  int64 \n",
      " 25  GEN_ALU         79503 non-null  int64 \n",
      " 26  FEC_NAC_ALU     79503 non-null  int64 \n",
      " 27  EDAD_ALU        79503 non-null  int64 \n",
      " 28  COD_REG_ALU     79503 non-null  int64 \n",
      " 29  COD_COM_ALU     79503 non-null  int64 \n",
      " 30  NOM_COM_ALU     79503 non-null  object\n",
      " 31  COD_SEC         79503 non-null  int64 \n",
      " 32  COD_ESPE        79503 non-null  int64 \n",
      " 33  COD_RAMA        79503 non-null  int64 \n",
      " 34  ENS             79503 non-null  int64 \n",
      " 35  DESERTOR        79503 non-null  int64 \n",
      "dtypes: int64(31), object(5)\n",
      "memory usage: 21.8+ MB\n"
     ]
    }
   ],
   "source": [
    "# importar desertores de 2018\n",
    "d2018 = pd.read_csv('data/tablas/desertores2018.csv', sep=';')\n",
    "print('HEAD DESERTORES 2018')\n",
    "d2018.head()\n",
    "print('Shape DESERTORES 2018')\n",
    "d2018.shape\n",
    "print('INFO DESERTORES 2018')\n",
    "d2018.info()"
   ]
  },
  {
   "cell_type": "code",
   "execution_count": 6,
   "metadata": {},
   "outputs": [
    {
     "name": "stdout",
     "output_type": "stream",
     "text": [
      "HEAD REGULARES 2018\n",
      "Shape REGULARES 2018\n",
      "INFO REGULARES 2018\n",
      "<class 'pandas.core.frame.DataFrame'>\n",
      "RangeIndex: 2834989 entries, 0 to 2834988\n",
      "Data columns (total 37 columns):\n",
      " #   Column          Dtype \n",
      "---  ------          ----- \n",
      " 0   Unnamed: 0      int64 \n",
      " 1   AGNO            int64 \n",
      " 2   RBD             int64 \n",
      " 3   DGV_RBD         int64 \n",
      " 4   NOM_RBD         object\n",
      " 5   COD_REG_RBD     int64 \n",
      " 6   NOM_REG_RBD_A   object\n",
      " 7   COD_PRO_RBD     int64 \n",
      " 8   COD_COM_RBD     int64 \n",
      " 9   NOM_COM_RBD     object\n",
      " 10  COD_DEPROV_RBD  int64 \n",
      " 11  NOM_DEPROV_RBD  object\n",
      " 12  COD_DEPE        int64 \n",
      " 13  COD_DEPE2       int64 \n",
      " 14  RURAL_RBD       int64 \n",
      " 15  ESTADO_ESTAB    int64 \n",
      " 16  COD_ENSE        int64 \n",
      " 17  COD_ENSE2       int64 \n",
      " 18  COD_ENSE3       int64 \n",
      " 19  COD_GRADO       int64 \n",
      " 20  COD_GRADO2      int64 \n",
      " 21  LET_CUR         object\n",
      " 22  COD_JOR         int64 \n",
      " 23  COD_TIP_CUR     int64 \n",
      " 24  COD_DES_CUR     int64 \n",
      " 25  MRUN            int64 \n",
      " 26  GEN_ALU         int64 \n",
      " 27  FEC_NAC_ALU     int64 \n",
      " 28  EDAD_ALU        int64 \n",
      " 29  COD_REG_ALU     int64 \n",
      " 30  COD_COM_ALU     int64 \n",
      " 31  NOM_COM_ALU     object\n",
      " 32  COD_SEC         int64 \n",
      " 33  COD_ESPE        int64 \n",
      " 34  COD_RAMA        int64 \n",
      " 35  ENS             int64 \n",
      " 36  DESERTOR        int64 \n",
      "dtypes: int64(31), object(6)\n",
      "memory usage: 800.3+ MB\n"
     ]
    }
   ],
   "source": [
    "# importar regulares de 2018\n",
    "r2018 = pd.read_csv('data/tablas/regulares2018.csv', sep=';')\n",
    "print('HEAD REGULARES 2018')\n",
    "r2018.head()\n",
    "print('Shape REGULARES 2018')\n",
    "r2018.shape\n",
    "print('INFO REGULARES 2018')\n",
    "r2018.info()"
   ]
  },
  {
   "cell_type": "code",
   "execution_count": 8,
   "metadata": {},
   "outputs": [
    {
     "name": "stdout",
     "output_type": "stream",
     "text": [
      "Initialization method and algorithm are deterministic. Setting n_init to 1.\n"
     ]
    },
    {
     "ename": "ValueError",
     "evalue": "could not convert string to float: 'A'",
     "output_type": "error",
     "traceback": [
      "\u001b[0;31m---------------------------------------------------------------------------\u001b[0m",
      "\u001b[0;31mValueError\u001b[0m                                Traceback (most recent call last)",
      "\u001b[1;32m/Users/davidlealolivares/Library/Mobile Documents/com~apple~CloudDocs/Talleres y ayudantias Diplomado DataScience UC2023/desercion-escolar/test_analisis2.ipynb Cell 7\u001b[0m line \u001b[0;36m4\n\u001b[1;32m      <a href='vscode-notebook-cell:/Users/davidlealolivares/Library/Mobile%20Documents/com~apple~CloudDocs/Talleres%20y%20ayudantias%20Diplomado%20DataScience%20UC2023/desercion-escolar/test_analisis2.ipynb#W6sZmlsZQ%3D%3D?line=1'>2</a>\u001b[0m \u001b[39mfrom\u001b[39;00m \u001b[39mkmodes\u001b[39;00m\u001b[39m.\u001b[39;00m\u001b[39mkprototypes\u001b[39;00m \u001b[39mimport\u001b[39;00m KPrototypes\n\u001b[1;32m      <a href='vscode-notebook-cell:/Users/davidlealolivares/Library/Mobile%20Documents/com~apple~CloudDocs/Talleres%20y%20ayudantias%20Diplomado%20DataScience%20UC2023/desercion-escolar/test_analisis2.ipynb#W6sZmlsZQ%3D%3D?line=2'>3</a>\u001b[0m kproto \u001b[39m=\u001b[39m KPrototypes(n_clusters\u001b[39m=\u001b[39m\u001b[39m4\u001b[39m, init\u001b[39m=\u001b[39m\u001b[39m'\u001b[39m\u001b[39mCao\u001b[39m\u001b[39m'\u001b[39m, verbose\u001b[39m=\u001b[39m\u001b[39m2\u001b[39m)\n\u001b[0;32m----> <a href='vscode-notebook-cell:/Users/davidlealolivares/Library/Mobile%20Documents/com~apple~CloudDocs/Talleres%20y%20ayudantias%20Diplomado%20DataScience%20UC2023/desercion-escolar/test_analisis2.ipynb#W6sZmlsZQ%3D%3D?line=3'>4</a>\u001b[0m clusters \u001b[39m=\u001b[39m kproto\u001b[39m.\u001b[39;49mfit_predict(d2018, categorical\u001b[39m=\u001b[39;49m[\u001b[39m0\u001b[39;49m,\u001b[39m1\u001b[39;49m,\u001b[39m2\u001b[39;49m,\u001b[39m3\u001b[39;49m,\u001b[39m4\u001b[39;49m,\u001b[39m5\u001b[39;49m,\u001b[39m6\u001b[39;49m,\u001b[39m7\u001b[39;49m,\u001b[39m8\u001b[39;49m,\u001b[39m9\u001b[39;49m,\u001b[39m10\u001b[39;49m,\u001b[39m11\u001b[39;49m,\u001b[39m12\u001b[39;49m,\u001b[39m13\u001b[39;49m])\n\u001b[1;32m      <a href='vscode-notebook-cell:/Users/davidlealolivares/Library/Mobile%20Documents/com~apple~CloudDocs/Talleres%20y%20ayudantias%20Diplomado%20DataScience%20UC2023/desercion-escolar/test_analisis2.ipynb#W6sZmlsZQ%3D%3D?line=4'>5</a>\u001b[0m \u001b[39m# Print cluster centroids of the trained model.\u001b[39;00m\n\u001b[1;32m      <a href='vscode-notebook-cell:/Users/davidlealolivares/Library/Mobile%20Documents/com~apple~CloudDocs/Talleres%20y%20ayudantias%20Diplomado%20DataScience%20UC2023/desercion-escolar/test_analisis2.ipynb#W6sZmlsZQ%3D%3D?line=5'>6</a>\u001b[0m \u001b[39mprint\u001b[39m(kproto\u001b[39m.\u001b[39mcluster_centroids_)\n",
      "File \u001b[0;32m/Library/Frameworks/Python.framework/Versions/3.11/lib/python3.11/site-packages/kmodes/kmodes.py:154\u001b[0m, in \u001b[0;36mKModes.fit_predict\u001b[0;34m(self, X, y, **kwargs)\u001b[0m\n\u001b[1;32m    148\u001b[0m \u001b[39mdef\u001b[39;00m \u001b[39mfit_predict\u001b[39m(\u001b[39mself\u001b[39m, X, y\u001b[39m=\u001b[39m\u001b[39mNone\u001b[39;00m, \u001b[39m*\u001b[39m\u001b[39m*\u001b[39mkwargs):\n\u001b[1;32m    149\u001b[0m \u001b[39m    \u001b[39m\u001b[39m\"\"\"Compute cluster centroids and predict cluster index for each sample.\u001b[39;00m\n\u001b[1;32m    150\u001b[0m \n\u001b[1;32m    151\u001b[0m \u001b[39m    Convenience method; equivalent to calling fit(X) followed by\u001b[39;00m\n\u001b[1;32m    152\u001b[0m \u001b[39m    predict(X).\u001b[39;00m\n\u001b[1;32m    153\u001b[0m \u001b[39m    \"\"\"\u001b[39;00m\n\u001b[0;32m--> 154\u001b[0m     \u001b[39mreturn\u001b[39;00m \u001b[39mself\u001b[39;49m\u001b[39m.\u001b[39;49mfit(X, \u001b[39m*\u001b[39;49m\u001b[39m*\u001b[39;49mkwargs)\u001b[39m.\u001b[39mpredict(X, \u001b[39m*\u001b[39m\u001b[39m*\u001b[39mkwargs)\n",
      "File \u001b[0;32m/Library/Frameworks/Python.framework/Versions/3.11/lib/python3.11/site-packages/kmodes/kprototypes.py:161\u001b[0m, in \u001b[0;36mKPrototypes.fit\u001b[0;34m(self, X, y, categorical, sample_weight)\u001b[0m\n\u001b[1;32m    155\u001b[0m kmodes\u001b[39m.\u001b[39m_validate_sample_weight(sample_weight, n_samples\u001b[39m=\u001b[39mX\u001b[39m.\u001b[39mshape[\u001b[39m0\u001b[39m],\n\u001b[1;32m    156\u001b[0m                                n_clusters\u001b[39m=\u001b[39m\u001b[39mself\u001b[39m\u001b[39m.\u001b[39mn_clusters)\n\u001b[1;32m    158\u001b[0m \u001b[39m# If self.gamma is None, gamma will be automatically determined from\u001b[39;00m\n\u001b[1;32m    159\u001b[0m \u001b[39m# the data. The function below returns its value.\u001b[39;00m\n\u001b[1;32m    160\u001b[0m \u001b[39mself\u001b[39m\u001b[39m.\u001b[39m_enc_cluster_centroids, \u001b[39mself\u001b[39m\u001b[39m.\u001b[39m_enc_map, \u001b[39mself\u001b[39m\u001b[39m.\u001b[39mlabels_, \u001b[39mself\u001b[39m\u001b[39m.\u001b[39mcost_, \\\n\u001b[0;32m--> 161\u001b[0m \u001b[39mself\u001b[39m\u001b[39m.\u001b[39mn_iter_, \u001b[39mself\u001b[39m\u001b[39m.\u001b[39mepoch_costs_, \u001b[39mself\u001b[39m\u001b[39m.\u001b[39mgamma \u001b[39m=\u001b[39m k_prototypes(\n\u001b[1;32m    162\u001b[0m     X,\n\u001b[1;32m    163\u001b[0m     categorical,\n\u001b[1;32m    164\u001b[0m     \u001b[39mself\u001b[39;49m\u001b[39m.\u001b[39;49mn_clusters,\n\u001b[1;32m    165\u001b[0m     \u001b[39mself\u001b[39;49m\u001b[39m.\u001b[39;49mmax_iter,\n\u001b[1;32m    166\u001b[0m     \u001b[39mself\u001b[39;49m\u001b[39m.\u001b[39;49mnum_dissim,\n\u001b[1;32m    167\u001b[0m     \u001b[39mself\u001b[39;49m\u001b[39m.\u001b[39;49mcat_dissim,\n\u001b[1;32m    168\u001b[0m     \u001b[39mself\u001b[39;49m\u001b[39m.\u001b[39;49mgamma,\n\u001b[1;32m    169\u001b[0m     \u001b[39mself\u001b[39;49m\u001b[39m.\u001b[39;49minit,\n\u001b[1;32m    170\u001b[0m     \u001b[39mself\u001b[39;49m\u001b[39m.\u001b[39;49mn_init,\n\u001b[1;32m    171\u001b[0m     \u001b[39mself\u001b[39;49m\u001b[39m.\u001b[39;49mverbose,\n\u001b[1;32m    172\u001b[0m     random_state,\n\u001b[1;32m    173\u001b[0m     \u001b[39mself\u001b[39;49m\u001b[39m.\u001b[39;49mn_jobs,\n\u001b[1;32m    174\u001b[0m     sample_weight,\n\u001b[1;32m    175\u001b[0m )\n\u001b[1;32m    177\u001b[0m \u001b[39mreturn\u001b[39;00m \u001b[39mself\u001b[39m\n",
      "File \u001b[0;32m/Library/Frameworks/Python.framework/Versions/3.11/lib/python3.11/site-packages/kmodes/kprototypes.py:272\u001b[0m, in \u001b[0;36mk_prototypes\u001b[0;34m(X, categorical, n_clusters, max_iter, num_dissim, cat_dissim, gamma, init, n_init, verbose, random_state, n_jobs, sample_weight)\u001b[0m\n\u001b[1;32m    268\u001b[0m n_points \u001b[39m=\u001b[39m X\u001b[39m.\u001b[39mshape[\u001b[39m0\u001b[39m]\n\u001b[1;32m    269\u001b[0m \u001b[39massert\u001b[39;00m n_clusters \u001b[39m<\u001b[39m\u001b[39m=\u001b[39m n_points, \u001b[39mf\u001b[39m\u001b[39m\"\u001b[39m\u001b[39mCannot have more clusters (\u001b[39m\u001b[39m{\u001b[39;00mn_clusters\u001b[39m}\u001b[39;00m\u001b[39m) \u001b[39m\u001b[39m\"\u001b[39m \\\n\u001b[1;32m    270\u001b[0m                                \u001b[39mf\u001b[39m\u001b[39m\"\u001b[39m\u001b[39mthan data points (\u001b[39m\u001b[39m{\u001b[39;00mn_points\u001b[39m}\u001b[39;00m\u001b[39m).\u001b[39m\u001b[39m\"\u001b[39m\n\u001b[0;32m--> 272\u001b[0m Xnum, Xcat \u001b[39m=\u001b[39m _split_num_cat(X, categorical)\n\u001b[1;32m    273\u001b[0m Xnum, Xcat \u001b[39m=\u001b[39m check_array(Xnum), check_array(Xcat, dtype\u001b[39m=\u001b[39m\u001b[39mNone\u001b[39;00m)\n\u001b[1;32m    275\u001b[0m \u001b[39m# Convert the categorical values in Xcat to integers for speed.\u001b[39;00m\n\u001b[1;32m    276\u001b[0m \u001b[39m# Based on the unique values in Xcat, we can make a mapping to achieve this.\u001b[39;00m\n",
      "File \u001b[0;32m/Library/Frameworks/Python.framework/Versions/3.11/lib/python3.11/site-packages/kmodes/kprototypes.py:530\u001b[0m, in \u001b[0;36m_split_num_cat\u001b[0;34m(X, categorical)\u001b[0m\n\u001b[1;32m    522\u001b[0m \u001b[39mdef\u001b[39;00m \u001b[39m_split_num_cat\u001b[39m(X, categorical):\n\u001b[1;32m    523\u001b[0m \u001b[39m    \u001b[39m\u001b[39m\"\"\"Extract numerical and categorical columns.\u001b[39;00m\n\u001b[1;32m    524\u001b[0m \u001b[39m    Convert to numpy arrays, if needed.\u001b[39;00m\n\u001b[1;32m    525\u001b[0m \n\u001b[1;32m    526\u001b[0m \u001b[39m    :param X: Feature matrix\u001b[39;00m\n\u001b[1;32m    527\u001b[0m \u001b[39m    :param categorical: Indices of categorical columns\u001b[39;00m\n\u001b[1;32m    528\u001b[0m \u001b[39m    \"\"\"\u001b[39;00m\n\u001b[1;32m    529\u001b[0m     Xnum \u001b[39m=\u001b[39m np\u001b[39m.\u001b[39;49masanyarray(X[:, [ii \u001b[39mfor\u001b[39;49;00m ii \u001b[39min\u001b[39;49;00m \u001b[39mrange\u001b[39;49m(X\u001b[39m.\u001b[39;49mshape[\u001b[39m1\u001b[39;49m])\n\u001b[0;32m--> 530\u001b[0m                                \u001b[39mif\u001b[39;49;00m ii \u001b[39mnot\u001b[39;49;00m \u001b[39min\u001b[39;49;00m categorical]])\u001b[39m.\u001b[39;49mastype(np\u001b[39m.\u001b[39;49mfloat64)\n\u001b[1;32m    531\u001b[0m     Xcat \u001b[39m=\u001b[39m np\u001b[39m.\u001b[39masanyarray(X[:, categorical])\n\u001b[1;32m    532\u001b[0m     \u001b[39mreturn\u001b[39;00m Xnum, Xcat\n",
      "\u001b[0;31mValueError\u001b[0m: could not convert string to float: 'A'"
     ]
    }
   ],
   "source": [
    "# kprototypes de d2018\n",
    "from kmodes.kprototypes import KPrototypes\n",
    "kproto = KPrototypes(n_clusters=4, init='Cao', verbose=2)\n",
    "clusters = kproto.fit_predict(d2018, categorical=[0,1,2,3,4,5,6,7,8,9,10,11,12,13])\n",
    "# Print cluster centroids of the trained model.\n",
    "print(kproto.cluster_centroids_)\n",
    "# Print training statistics\n",
    "print(kproto.cost_)\n",
    "print(kproto.n_iter_)\n",
    "# Predict clusters using trained model\n",
    "cluster = kproto.predict(d2018, categorical=[0,1,2,3,4,5,6,7,8,9,10,11,12,13])\n",
    "# Print cluster centroids of the trained model.\n",
    "print(kproto.cluster_centroids_)\n",
    "# Print training statistics\n",
    "print(kproto.cost_)\n",
    "print(kproto.n_iter_)\n",
    "\n"
   ]
  }
 ],
 "metadata": {
  "kernelspec": {
   "display_name": "Python 3",
   "language": "python",
   "name": "python3"
  },
  "language_info": {
   "codemirror_mode": {
    "name": "ipython",
    "version": 3
   },
   "file_extension": ".py",
   "mimetype": "text/x-python",
   "name": "python",
   "nbconvert_exporter": "python",
   "pygments_lexer": "ipython3",
   "version": "3.11.4"
  }
 },
 "nbformat": 4,
 "nbformat_minor": 2
}
