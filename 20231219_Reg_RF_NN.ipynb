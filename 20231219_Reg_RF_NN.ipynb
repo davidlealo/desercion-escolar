{
 "cells": [
  {
   "cell_type": "code",
   "execution_count": 307,
   "metadata": {},
   "outputs": [],
   "source": [
    "import pandas as pd\n",
    "import numpy as np\n",
    "from sklearn.ensemble import RandomForestClassifier, RandomForestRegressor\n",
    "from sklearn.model_selection import train_test_split\n",
    "from sklearn.metrics import classification_report, confusion_matrix"
   ]
  },
  {
   "cell_type": "code",
   "execution_count": 308,
   "metadata": {},
   "outputs": [],
   "source": [
    "combinado2018 = pd.read_csv('data/tablas/combinado2018.csv', sep=';')"
   ]
  },
  {
   "cell_type": "code",
   "execution_count": 309,
   "metadata": {},
   "outputs": [],
   "source": [
    "# PROM_GRAL change , for . the datatyope is float\n",
    "combinado2018['PROM_GRAL'] = combinado2018['PROM_GRAL'].str.replace(',', '.').astype(float)"
   ]
  },
  {
   "cell_type": "code",
   "execution_count": 310,
   "metadata": {},
   "outputs": [
    {
     "name": "stdout",
     "output_type": "stream",
     "text": [
      "0         2001-04-01\n",
      "1         2000-04-01\n",
      "2         2001-09-01\n",
      "3         2001-05-01\n",
      "4         2001-07-01\n",
      "             ...    \n",
      "2893195   2002-07-01\n",
      "2893196   2003-03-01\n",
      "2893197   2001-11-01\n",
      "2893198   2002-08-01\n",
      "2893199   2003-06-01\n",
      "Name: FEC_NAC_ALU, Length: 2893200, dtype: datetime64[ns]\n"
     ]
    }
   ],
   "source": [
    "# Convertir 'FEC_NAC_ALU' a una cadena\n",
    "combinado2018['FEC_NAC_ALU'] = combinado2018['FEC_NAC_ALU'].astype(str)\n",
    "\n",
    "# Asegurarse de que la cadena tiene el formato correcto (YYYYMM)\n",
    "combinado2018['FEC_NAC_ALU'] = combinado2018['FEC_NAC_ALU'].str.pad(width=6, side='left', fillchar='0')\n",
    "\n",
    "# Convertir la cadena a un formato de fecha\n",
    "combinado2018['FEC_NAC_ALU'] = pd.to_datetime(combinado2018['FEC_NAC_ALU'], format='%Y%m')\n",
    "\n",
    "print(combinado2018['FEC_NAC_ALU'])"
   ]
  },
  {
   "cell_type": "code",
   "execution_count": 311,
   "metadata": {},
   "outputs": [
    {
     "name": "stdout",
     "output_type": "stream",
     "text": [
      "<class 'pandas.core.frame.DataFrame'>\n",
      "RangeIndex: 2893200 entries, 0 to 2893199\n",
      "Data columns (total 39 columns):\n",
      " #   Column          Dtype         \n",
      "---  ------          -----         \n",
      " 0   Unnamed: 0      int64         \n",
      " 1   AGNO            int64         \n",
      " 2   RBD             int64         \n",
      " 3   DGV_RBD         int64         \n",
      " 4   NOM_RBD         object        \n",
      " 5   COD_REG_RBD     int64         \n",
      " 6   NOM_REG_RBD_A   object        \n",
      " 7   COD_PRO_RBD     int64         \n",
      " 8   COD_COM_RBD     int64         \n",
      " 9   NOM_COM_RBD     object        \n",
      " 10  COD_DEPROV_RBD  int64         \n",
      " 11  NOM_DEPROV_RBD  object        \n",
      " 12  COD_DEPE        int64         \n",
      " 13  COD_DEPE2       int64         \n",
      " 14  RURAL_RBD       int64         \n",
      " 15  ESTADO_ESTAB    int64         \n",
      " 16  COD_ENSE        int64         \n",
      " 17  COD_ENSE2       int64         \n",
      " 18  COD_GRADO       int64         \n",
      " 19  LET_CUR         object        \n",
      " 20  COD_JOR         int64         \n",
      " 21  COD_TIP_CUR     int64         \n",
      " 22  COD_DES_CUR     int64         \n",
      " 23  MRUN            int64         \n",
      " 24  GEN_ALU         int64         \n",
      " 25  FEC_NAC_ALU     datetime64[ns]\n",
      " 26  EDAD_ALU        int64         \n",
      " 27  COD_REG_ALU     int64         \n",
      " 28  COD_COM_ALU     int64         \n",
      " 29  NOM_COM_ALU     object        \n",
      " 30  COD_RAMA        int64         \n",
      " 31  COD_SEC         int64         \n",
      " 32  COD_ESPE        int64         \n",
      " 33  PROM_GRAL       float64       \n",
      " 34  ASISTENCIA      int64         \n",
      " 35  SIT_FIN         object        \n",
      " 36  SIT_FIN_R       object        \n",
      " 37  DESERTOR        int64         \n",
      " 38  COD_MEN         float64       \n",
      "dtypes: datetime64[ns](1), float64(2), int64(28), object(8)\n",
      "memory usage: 860.9+ MB\n"
     ]
    }
   ],
   "source": [
    "combinado2018.info()"
   ]
  },
  {
   "cell_type": "code",
   "execution_count": 312,
   "metadata": {},
   "outputs": [],
   "source": [
    "# Drop Unnamed: 0      \n",
    "combinado2018 = combinado2018.drop(['Unnamed: 0'], axis=1)"
   ]
  },
  {
   "cell_type": "code",
   "execution_count": 313,
   "metadata": {},
   "outputs": [],
   "source": [
    "# Drop \"NOM_RBD\", \"NOM_REG_RBD_A\", \"NOM_COM_RBD\", \"NOM_DEPROV_RBD\", \"LET_CUR\", \"NOM_COM_ALU\", \"SIT_FIN\"\n",
    "combinado2018 = combinado2018.drop([\"NOM_RBD\", \"NOM_REG_RBD_A\", \"NOM_COM_RBD\", \"NOM_DEPROV_RBD\", \"LET_CUR\", \"NOM_COM_ALU\", \"SIT_FIN\" ], axis=1)"
   ]
  },
  {
   "cell_type": "code",
   "execution_count": 314,
   "metadata": {},
   "outputs": [
    {
     "name": "stdout",
     "output_type": "stream",
     "text": [
      "<class 'pandas.core.frame.DataFrame'>\n",
      "RangeIndex: 2893200 entries, 0 to 2893199\n",
      "Data columns (total 31 columns):\n",
      " #   Column          Dtype         \n",
      "---  ------          -----         \n",
      " 0   AGNO            int64         \n",
      " 1   RBD             int64         \n",
      " 2   DGV_RBD         int64         \n",
      " 3   COD_REG_RBD     int64         \n",
      " 4   COD_PRO_RBD     int64         \n",
      " 5   COD_COM_RBD     int64         \n",
      " 6   COD_DEPROV_RBD  int64         \n",
      " 7   COD_DEPE        int64         \n",
      " 8   COD_DEPE2       int64         \n",
      " 9   RURAL_RBD       int64         \n",
      " 10  ESTADO_ESTAB    int64         \n",
      " 11  COD_ENSE        int64         \n",
      " 12  COD_ENSE2       int64         \n",
      " 13  COD_GRADO       int64         \n",
      " 14  COD_JOR         int64         \n",
      " 15  COD_TIP_CUR     int64         \n",
      " 16  COD_DES_CUR     int64         \n",
      " 17  MRUN            int64         \n",
      " 18  GEN_ALU         int64         \n",
      " 19  FEC_NAC_ALU     datetime64[ns]\n",
      " 20  EDAD_ALU        int64         \n",
      " 21  COD_REG_ALU     int64         \n",
      " 22  COD_COM_ALU     int64         \n",
      " 23  COD_RAMA        int64         \n",
      " 24  COD_SEC         int64         \n",
      " 25  COD_ESPE        int64         \n",
      " 26  PROM_GRAL       float64       \n",
      " 27  ASISTENCIA      int64         \n",
      " 28  SIT_FIN_R       object        \n",
      " 29  DESERTOR        int64         \n",
      " 30  COD_MEN         float64       \n",
      "dtypes: datetime64[ns](1), float64(2), int64(27), object(1)\n",
      "memory usage: 684.3+ MB\n"
     ]
    }
   ],
   "source": [
    "combinado2018.info()"
   ]
  },
  {
   "cell_type": "code",
   "execution_count": 315,
   "metadata": {},
   "outputs": [],
   "source": [
    "# Crear nuevas columnas para el año y el mes\n",
    "combinado2018['AGNO_NAC_ALU'] = combinado2018['FEC_NAC_ALU'].dt.year\n",
    "combinado2018['MES_NAC_ALU'] = combinado2018['FEC_NAC_ALU'].dt.month\n",
    "\n",
    "# Eliminar la columna del día\n",
    "combinado2018['FEC_NAC_ALU'] = combinado2018['FEC_NAC_ALU'].dt.to_period('M')"
   ]
  },
  {
   "cell_type": "code",
   "execution_count": 316,
   "metadata": {},
   "outputs": [
    {
     "name": "stdout",
     "output_type": "stream",
     "text": [
      "<class 'pandas.core.frame.DataFrame'>\n",
      "RangeIndex: 2893200 entries, 0 to 2893199\n",
      "Data columns (total 33 columns):\n",
      " #   Column          Dtype    \n",
      "---  ------          -----    \n",
      " 0   AGNO            int64    \n",
      " 1   RBD             int64    \n",
      " 2   DGV_RBD         int64    \n",
      " 3   COD_REG_RBD     int64    \n",
      " 4   COD_PRO_RBD     int64    \n",
      " 5   COD_COM_RBD     int64    \n",
      " 6   COD_DEPROV_RBD  int64    \n",
      " 7   COD_DEPE        int64    \n",
      " 8   COD_DEPE2       int64    \n",
      " 9   RURAL_RBD       int64    \n",
      " 10  ESTADO_ESTAB    int64    \n",
      " 11  COD_ENSE        int64    \n",
      " 12  COD_ENSE2       int64    \n",
      " 13  COD_GRADO       int64    \n",
      " 14  COD_JOR         int64    \n",
      " 15  COD_TIP_CUR     int64    \n",
      " 16  COD_DES_CUR     int64    \n",
      " 17  MRUN            int64    \n",
      " 18  GEN_ALU         int64    \n",
      " 19  FEC_NAC_ALU     period[M]\n",
      " 20  EDAD_ALU        int64    \n",
      " 21  COD_REG_ALU     int64    \n",
      " 22  COD_COM_ALU     int64    \n",
      " 23  COD_RAMA        int64    \n",
      " 24  COD_SEC         int64    \n",
      " 25  COD_ESPE        int64    \n",
      " 26  PROM_GRAL       float64  \n",
      " 27  ASISTENCIA      int64    \n",
      " 28  SIT_FIN_R       object   \n",
      " 29  DESERTOR        int64    \n",
      " 30  COD_MEN         float64  \n",
      " 31  AGNO_NAC_ALU    int32    \n",
      " 32  MES_NAC_ALU     int32    \n",
      "dtypes: float64(2), int32(2), int64(27), object(1), period[M](1)\n",
      "memory usage: 706.3+ MB\n"
     ]
    }
   ],
   "source": [
    "combinado2018.info()"
   ]
  },
  {
   "cell_type": "code",
   "execution_count": 317,
   "metadata": {},
   "outputs": [
    {
     "data": {
      "text/plain": [
       "0          2001-04\n",
       "1          2000-04\n",
       "2          2001-09\n",
       "3          2001-05\n",
       "4          2001-07\n",
       "            ...   \n",
       "2893195    2002-07\n",
       "2893196    2003-03\n",
       "2893197    2001-11\n",
       "2893198    2002-08\n",
       "2893199    2003-06\n",
       "Name: FEC_NAC_ALU, Length: 2893200, dtype: period[M]"
      ]
     },
     "execution_count": 317,
     "metadata": {},
     "output_type": "execute_result"
    }
   ],
   "source": [
    "combinado2018['FEC_NAC_ALU']"
   ]
  },
  {
   "cell_type": "code",
   "execution_count": 318,
   "metadata": {},
   "outputs": [],
   "source": [
    "# Drop FEC_NAC_ALU\n",
    "combinado2018 = combinado2018.drop(['FEC_NAC_ALU'], axis=1)"
   ]
  },
  {
   "cell_type": "code",
   "execution_count": 319,
   "metadata": {},
   "outputs": [
    {
     "name": "stdout",
     "output_type": "stream",
     "text": [
      "<class 'pandas.core.frame.DataFrame'>\n",
      "RangeIndex: 2893200 entries, 0 to 2893199\n",
      "Data columns (total 32 columns):\n",
      " #   Column          Dtype  \n",
      "---  ------          -----  \n",
      " 0   AGNO            int64  \n",
      " 1   RBD             int64  \n",
      " 2   DGV_RBD         int64  \n",
      " 3   COD_REG_RBD     int64  \n",
      " 4   COD_PRO_RBD     int64  \n",
      " 5   COD_COM_RBD     int64  \n",
      " 6   COD_DEPROV_RBD  int64  \n",
      " 7   COD_DEPE        int64  \n",
      " 8   COD_DEPE2       int64  \n",
      " 9   RURAL_RBD       int64  \n",
      " 10  ESTADO_ESTAB    int64  \n",
      " 11  COD_ENSE        int64  \n",
      " 12  COD_ENSE2       int64  \n",
      " 13  COD_GRADO       int64  \n",
      " 14  COD_JOR         int64  \n",
      " 15  COD_TIP_CUR     int64  \n",
      " 16  COD_DES_CUR     int64  \n",
      " 17  MRUN            int64  \n",
      " 18  GEN_ALU         int64  \n",
      " 19  EDAD_ALU        int64  \n",
      " 20  COD_REG_ALU     int64  \n",
      " 21  COD_COM_ALU     int64  \n",
      " 22  COD_RAMA        int64  \n",
      " 23  COD_SEC         int64  \n",
      " 24  COD_ESPE        int64  \n",
      " 25  PROM_GRAL       float64\n",
      " 26  ASISTENCIA      int64  \n",
      " 27  SIT_FIN_R       object \n",
      " 28  DESERTOR        int64  \n",
      " 29  COD_MEN         float64\n",
      " 30  AGNO_NAC_ALU    int32  \n",
      " 31  MES_NAC_ALU     int32  \n",
      "dtypes: float64(2), int32(2), int64(27), object(1)\n",
      "memory usage: 684.3+ MB\n"
     ]
    }
   ],
   "source": [
    "combinado2018.info()"
   ]
  },
  {
   "cell_type": "code",
   "execution_count": 320,
   "metadata": {},
   "outputs": [
    {
     "data": {
      "text/plain": [
       "array(['R', 'T', 'Y', 'P', ' '], dtype=object)"
      ]
     },
     "execution_count": 320,
     "metadata": {},
     "output_type": "execute_result"
    }
   ],
   "source": [
    "combinado2018['SIT_FIN_R'].unique()"
   ]
  },
  {
   "cell_type": "code",
   "execution_count": 321,
   "metadata": {},
   "outputs": [
    {
     "data": {
      "text/plain": [
       "SIT_FIN_R\n",
       "P    2569757\n",
       "T     189897\n",
       "R      79319\n",
       "Y      53805\n",
       "         422\n",
       "Name: count, dtype: int64"
      ]
     },
     "execution_count": 321,
     "metadata": {},
     "output_type": "execute_result"
    }
   ],
   "source": [
    "combinado2018['SIT_FIN_R'].value_counts()"
   ]
  },
  {
   "cell_type": "code",
   "execution_count": 322,
   "metadata": {},
   "outputs": [],
   "source": [
    "# Eliminar valores nulos de 'SIT_FIN_R'\n",
    "combinado2018 = combinado2018.dropna(subset=['SIT_FIN_R'])"
   ]
  },
  {
   "cell_type": "code",
   "execution_count": 323,
   "metadata": {},
   "outputs": [
    {
     "data": {
      "text/plain": [
       "array(['R', 'T', 'Y', 'P', ' '], dtype=object)"
      ]
     },
     "execution_count": 323,
     "metadata": {},
     "output_type": "execute_result"
    }
   ],
   "source": [
    "combinado2018['SIT_FIN_R'].unique()"
   ]
  },
  {
   "cell_type": "code",
   "execution_count": 324,
   "metadata": {},
   "outputs": [],
   "source": [
    "import numpy as np\n",
    "\n",
    "combinado2018['SIT_FIN_R'].replace(' ', np.nan, inplace=True)"
   ]
  },
  {
   "cell_type": "code",
   "execution_count": 325,
   "metadata": {},
   "outputs": [],
   "source": [
    "most_common = combinado2018['SIT_FIN_R'].mode()[0]\n",
    "combinado2018['SIT_FIN_R'] = combinado2018['SIT_FIN_R'].fillna(most_common)"
   ]
  },
  {
   "cell_type": "code",
   "execution_count": 326,
   "metadata": {},
   "outputs": [],
   "source": [
    "combinado2018['SIT_FIN_R'] = combinado2018['SIT_FIN_R'].fillna('Unknown')"
   ]
  },
  {
   "cell_type": "code",
   "execution_count": 327,
   "metadata": {},
   "outputs": [
    {
     "data": {
      "text/plain": [
       "AGNO                  0\n",
       "RBD                   0\n",
       "DGV_RBD               0\n",
       "COD_REG_RBD           0\n",
       "COD_PRO_RBD           0\n",
       "COD_COM_RBD           0\n",
       "COD_DEPROV_RBD        0\n",
       "COD_DEPE              0\n",
       "COD_DEPE2             0\n",
       "RURAL_RBD             0\n",
       "ESTADO_ESTAB          0\n",
       "COD_ENSE              0\n",
       "COD_ENSE2             0\n",
       "COD_GRADO             0\n",
       "COD_JOR               0\n",
       "COD_TIP_CUR           0\n",
       "COD_DES_CUR           0\n",
       "MRUN                  0\n",
       "GEN_ALU               0\n",
       "EDAD_ALU              0\n",
       "COD_REG_ALU           0\n",
       "COD_COM_ALU           0\n",
       "COD_RAMA              0\n",
       "COD_SEC               0\n",
       "COD_ESPE              0\n",
       "PROM_GRAL             0\n",
       "ASISTENCIA            0\n",
       "SIT_FIN_R             0\n",
       "DESERTOR              0\n",
       "COD_MEN           79315\n",
       "AGNO_NAC_ALU          0\n",
       "MES_NAC_ALU           0\n",
       "dtype: int64"
      ]
     },
     "execution_count": 327,
     "metadata": {},
     "output_type": "execute_result"
    }
   ],
   "source": [
    "# Verificar valores nulos\n",
    "combinado2018.isnull().sum()"
   ]
  },
  {
   "cell_type": "code",
   "execution_count": 328,
   "metadata": {},
   "outputs": [],
   "source": [
    "# Drop COD_MEN\n",
    "combinado2018 = combinado2018.drop(['COD_MEN'], axis=1)"
   ]
  },
  {
   "cell_type": "code",
   "execution_count": 329,
   "metadata": {},
   "outputs": [],
   "source": [
    "# Dummies  de variable SIT_FIN_R\n",
    "combinado2018 = pd.get_dummies(combinado2018, columns=['SIT_FIN_R'])"
   ]
  },
  {
   "cell_type": "code",
   "execution_count": 330,
   "metadata": {},
   "outputs": [
    {
     "name": "stdout",
     "output_type": "stream",
     "text": [
      "<class 'pandas.core.frame.DataFrame'>\n",
      "RangeIndex: 2893200 entries, 0 to 2893199\n",
      "Data columns (total 34 columns):\n",
      " #   Column          Dtype  \n",
      "---  ------          -----  \n",
      " 0   AGNO            int64  \n",
      " 1   RBD             int64  \n",
      " 2   DGV_RBD         int64  \n",
      " 3   COD_REG_RBD     int64  \n",
      " 4   COD_PRO_RBD     int64  \n",
      " 5   COD_COM_RBD     int64  \n",
      " 6   COD_DEPROV_RBD  int64  \n",
      " 7   COD_DEPE        int64  \n",
      " 8   COD_DEPE2       int64  \n",
      " 9   RURAL_RBD       int64  \n",
      " 10  ESTADO_ESTAB    int64  \n",
      " 11  COD_ENSE        int64  \n",
      " 12  COD_ENSE2       int64  \n",
      " 13  COD_GRADO       int64  \n",
      " 14  COD_JOR         int64  \n",
      " 15  COD_TIP_CUR     int64  \n",
      " 16  COD_DES_CUR     int64  \n",
      " 17  MRUN            int64  \n",
      " 18  GEN_ALU         int64  \n",
      " 19  EDAD_ALU        int64  \n",
      " 20  COD_REG_ALU     int64  \n",
      " 21  COD_COM_ALU     int64  \n",
      " 22  COD_RAMA        int64  \n",
      " 23  COD_SEC         int64  \n",
      " 24  COD_ESPE        int64  \n",
      " 25  PROM_GRAL       float64\n",
      " 26  ASISTENCIA      int64  \n",
      " 27  DESERTOR        int64  \n",
      " 28  AGNO_NAC_ALU    int32  \n",
      " 29  MES_NAC_ALU     int32  \n",
      " 30  SIT_FIN_R_P     bool   \n",
      " 31  SIT_FIN_R_R     bool   \n",
      " 32  SIT_FIN_R_T     bool   \n",
      " 33  SIT_FIN_R_Y     bool   \n",
      "dtypes: bool(4), float64(1), int32(2), int64(27)\n",
      "memory usage: 651.2 MB\n"
     ]
    }
   ],
   "source": [
    "combinado2018.info()"
   ]
  },
  {
   "cell_type": "code",
   "execution_count": 331,
   "metadata": {},
   "outputs": [],
   "source": [
    "from sklearn.preprocessing import StandardScaler, OneHotEncoder\n",
    "from sklearn.compose import ColumnTransformer\n",
    "from sklearn.pipeline import Pipeline\n",
    "from sklearn.ensemble import RandomForestClassifier\n",
    "from sklearn.model_selection import train_test_split"
   ]
  },
  {
   "cell_type": "code",
   "execution_count": 332,
   "metadata": {},
   "outputs": [],
   "source": [
    "X = combinado2018.drop('DESERTOR', axis=1)\n",
    "y = combinado2018['DESERTOR']\n",
    "\n",
    "X_train, X_test, y_train, y_test = train_test_split(X, y, test_size=0.3, random_state=42)"
   ]
  },
  {
   "cell_type": "code",
   "execution_count": 333,
   "metadata": {},
   "outputs": [],
   "source": [
    "numeric_features = ['AGNO', 'RBD', 'DGV_RBD', 'COD_REG_RBD', 'COD_PRO_RBD', 'COD_COM_RBD', 'COD_DEPROV_RBD', 'COD_DEPE', 'COD_DEPE2', 'RURAL_RBD', 'ESTADO_ESTAB', 'COD_ENSE', 'COD_ENSE2', 'COD_GRADO', 'COD_JOR', 'COD_TIP_CUR', 'COD_DES_CUR', 'MRUN', 'GEN_ALU', 'COD_REG_ALU', 'COD_COM_ALU', 'COD_RAMA', 'COD_SEC', 'COD_ESPE','EDAD_ALU', 'PROM_GRAL', 'ASISTENCIA','AGNO_NAC_ALU', 'MES_NAC_ALU']  \n",
    "categorical_features = ['SIT_FIN_R_P', 'SIT_FIN_R_R', 'SIT_FIN_R_T', 'SIT_FIN_R_Y']  "
   ]
  },
  {
   "cell_type": "code",
   "execution_count": 334,
   "metadata": {},
   "outputs": [],
   "source": [
    "preprocessor = ColumnTransformer(\n",
    "    transformers=[\n",
    "        ('num', StandardScaler(), numeric_features),\n",
    "        ('cat', OneHotEncoder(), categorical_features)\n",
    "    ])"
   ]
  },
  {
   "cell_type": "code",
   "execution_count": 335,
   "metadata": {},
   "outputs": [
    {
     "data": {
      "text/plain": [
       "Index(['AGNO', 'RBD', 'DGV_RBD', 'COD_REG_RBD', 'COD_PRO_RBD', 'COD_COM_RBD',\n",
       "       'COD_DEPROV_RBD', 'COD_DEPE', 'COD_DEPE2', 'RURAL_RBD', 'ESTADO_ESTAB',\n",
       "       'COD_ENSE', 'COD_ENSE2', 'COD_GRADO', 'COD_JOR', 'COD_TIP_CUR',\n",
       "       'COD_DES_CUR', 'MRUN', 'GEN_ALU', 'EDAD_ALU', 'COD_REG_ALU',\n",
       "       'COD_COM_ALU', 'COD_RAMA', 'COD_SEC', 'COD_ESPE', 'PROM_GRAL',\n",
       "       'ASISTENCIA', 'AGNO_NAC_ALU', 'MES_NAC_ALU', 'SIT_FIN_R_P',\n",
       "       'SIT_FIN_R_R', 'SIT_FIN_R_T', 'SIT_FIN_R_Y'],\n",
       "      dtype='object')"
      ]
     },
     "execution_count": 335,
     "metadata": {},
     "output_type": "execute_result"
    }
   ],
   "source": [
    "X.columns"
   ]
  },
  {
   "cell_type": "code",
   "execution_count": 336,
   "metadata": {},
   "outputs": [],
   "source": [
    "clf = Pipeline(steps=[('preprocessor', preprocessor),\n",
    "                      ('classifier', RandomForestClassifier())])"
   ]
  },
  {
   "cell_type": "code",
   "execution_count": 337,
   "metadata": {},
   "outputs": [
    {
     "name": "stdout",
     "output_type": "stream",
     "text": [
      "<class 'pandas.core.frame.DataFrame'>\n",
      "Index: 2025240 entries, 1381675 to 2219110\n",
      "Data columns (total 33 columns):\n",
      " #   Column          Dtype  \n",
      "---  ------          -----  \n",
      " 0   AGNO            int64  \n",
      " 1   RBD             int64  \n",
      " 2   DGV_RBD         int64  \n",
      " 3   COD_REG_RBD     int64  \n",
      " 4   COD_PRO_RBD     int64  \n",
      " 5   COD_COM_RBD     int64  \n",
      " 6   COD_DEPROV_RBD  int64  \n",
      " 7   COD_DEPE        int64  \n",
      " 8   COD_DEPE2       int64  \n",
      " 9   RURAL_RBD       int64  \n",
      " 10  ESTADO_ESTAB    int64  \n",
      " 11  COD_ENSE        int64  \n",
      " 12  COD_ENSE2       int64  \n",
      " 13  COD_GRADO       int64  \n",
      " 14  COD_JOR         int64  \n",
      " 15  COD_TIP_CUR     int64  \n",
      " 16  COD_DES_CUR     int64  \n",
      " 17  MRUN            int64  \n",
      " 18  GEN_ALU         int64  \n",
      " 19  EDAD_ALU        int64  \n",
      " 20  COD_REG_ALU     int64  \n",
      " 21  COD_COM_ALU     int64  \n",
      " 22  COD_RAMA        int64  \n",
      " 23  COD_SEC         int64  \n",
      " 24  COD_ESPE        int64  \n",
      " 25  PROM_GRAL       float64\n",
      " 26  ASISTENCIA      int64  \n",
      " 27  AGNO_NAC_ALU    int32  \n",
      " 28  MES_NAC_ALU     int32  \n",
      " 29  SIT_FIN_R_P     bool   \n",
      " 30  SIT_FIN_R_R     bool   \n",
      " 31  SIT_FIN_R_T     bool   \n",
      " 32  SIT_FIN_R_Y     bool   \n",
      "dtypes: bool(4), float64(1), int32(2), int64(26)\n",
      "memory usage: 455.8 MB\n"
     ]
    }
   ],
   "source": [
    "X_train.info()"
   ]
  },
  {
   "cell_type": "code",
   "execution_count": 338,
   "metadata": {},
   "outputs": [
    {
     "name": "stdout",
     "output_type": "stream",
     "text": [
      "<class 'pandas.core.series.Series'>\n",
      "Index: 2025240 entries, 1381675 to 2219110\n",
      "Series name: DESERTOR\n",
      "Non-Null Count    Dtype\n",
      "--------------    -----\n",
      "2025240 non-null  int64\n",
      "dtypes: int64(1)\n",
      "memory usage: 30.9 MB\n"
     ]
    }
   ],
   "source": [
    "y_train.info()"
   ]
  },
  {
   "cell_type": "code",
   "execution_count": 339,
   "metadata": {},
   "outputs": [
    {
     "data": {
      "text/html": [
       "<style>#sk-container-id-3 {color: black;}#sk-container-id-3 pre{padding: 0;}#sk-container-id-3 div.sk-toggleable {background-color: white;}#sk-container-id-3 label.sk-toggleable__label {cursor: pointer;display: block;width: 100%;margin-bottom: 0;padding: 0.3em;box-sizing: border-box;text-align: center;}#sk-container-id-3 label.sk-toggleable__label-arrow:before {content: \"▸\";float: left;margin-right: 0.25em;color: #696969;}#sk-container-id-3 label.sk-toggleable__label-arrow:hover:before {color: black;}#sk-container-id-3 div.sk-estimator:hover label.sk-toggleable__label-arrow:before {color: black;}#sk-container-id-3 div.sk-toggleable__content {max-height: 0;max-width: 0;overflow: hidden;text-align: left;background-color: #f0f8ff;}#sk-container-id-3 div.sk-toggleable__content pre {margin: 0.2em;color: black;border-radius: 0.25em;background-color: #f0f8ff;}#sk-container-id-3 input.sk-toggleable__control:checked~div.sk-toggleable__content {max-height: 200px;max-width: 100%;overflow: auto;}#sk-container-id-3 input.sk-toggleable__control:checked~label.sk-toggleable__label-arrow:before {content: \"▾\";}#sk-container-id-3 div.sk-estimator input.sk-toggleable__control:checked~label.sk-toggleable__label {background-color: #d4ebff;}#sk-container-id-3 div.sk-label input.sk-toggleable__control:checked~label.sk-toggleable__label {background-color: #d4ebff;}#sk-container-id-3 input.sk-hidden--visually {border: 0;clip: rect(1px 1px 1px 1px);clip: rect(1px, 1px, 1px, 1px);height: 1px;margin: -1px;overflow: hidden;padding: 0;position: absolute;width: 1px;}#sk-container-id-3 div.sk-estimator {font-family: monospace;background-color: #f0f8ff;border: 1px dotted black;border-radius: 0.25em;box-sizing: border-box;margin-bottom: 0.5em;}#sk-container-id-3 div.sk-estimator:hover {background-color: #d4ebff;}#sk-container-id-3 div.sk-parallel-item::after {content: \"\";width: 100%;border-bottom: 1px solid gray;flex-grow: 1;}#sk-container-id-3 div.sk-label:hover label.sk-toggleable__label {background-color: #d4ebff;}#sk-container-id-3 div.sk-serial::before {content: \"\";position: absolute;border-left: 1px solid gray;box-sizing: border-box;top: 0;bottom: 0;left: 50%;z-index: 0;}#sk-container-id-3 div.sk-serial {display: flex;flex-direction: column;align-items: center;background-color: white;padding-right: 0.2em;padding-left: 0.2em;position: relative;}#sk-container-id-3 div.sk-item {position: relative;z-index: 1;}#sk-container-id-3 div.sk-parallel {display: flex;align-items: stretch;justify-content: center;background-color: white;position: relative;}#sk-container-id-3 div.sk-item::before, #sk-container-id-3 div.sk-parallel-item::before {content: \"\";position: absolute;border-left: 1px solid gray;box-sizing: border-box;top: 0;bottom: 0;left: 50%;z-index: -1;}#sk-container-id-3 div.sk-parallel-item {display: flex;flex-direction: column;z-index: 1;position: relative;background-color: white;}#sk-container-id-3 div.sk-parallel-item:first-child::after {align-self: flex-end;width: 50%;}#sk-container-id-3 div.sk-parallel-item:last-child::after {align-self: flex-start;width: 50%;}#sk-container-id-3 div.sk-parallel-item:only-child::after {width: 0;}#sk-container-id-3 div.sk-dashed-wrapped {border: 1px dashed gray;margin: 0 0.4em 0.5em 0.4em;box-sizing: border-box;padding-bottom: 0.4em;background-color: white;}#sk-container-id-3 div.sk-label label {font-family: monospace;font-weight: bold;display: inline-block;line-height: 1.2em;}#sk-container-id-3 div.sk-label-container {text-align: center;}#sk-container-id-3 div.sk-container {/* jupyter's `normalize.less` sets `[hidden] { display: none; }` but bootstrap.min.css set `[hidden] { display: none !important; }` so we also need the `!important` here to be able to override the default hidden behavior on the sphinx rendered scikit-learn.org. See: https://github.com/scikit-learn/scikit-learn/issues/21755 */display: inline-block !important;position: relative;}#sk-container-id-3 div.sk-text-repr-fallback {display: none;}</style><div id=\"sk-container-id-3\" class=\"sk-top-container\"><div class=\"sk-text-repr-fallback\"><pre>Pipeline(steps=[(&#x27;preprocessor&#x27;,\n",
       "                 ColumnTransformer(transformers=[(&#x27;num&#x27;, StandardScaler(),\n",
       "                                                  [&#x27;AGNO&#x27;, &#x27;RBD&#x27;, &#x27;DGV_RBD&#x27;,\n",
       "                                                   &#x27;COD_REG_RBD&#x27;, &#x27;COD_PRO_RBD&#x27;,\n",
       "                                                   &#x27;COD_COM_RBD&#x27;,\n",
       "                                                   &#x27;COD_DEPROV_RBD&#x27;, &#x27;COD_DEPE&#x27;,\n",
       "                                                   &#x27;COD_DEPE2&#x27;, &#x27;RURAL_RBD&#x27;,\n",
       "                                                   &#x27;ESTADO_ESTAB&#x27;, &#x27;COD_ENSE&#x27;,\n",
       "                                                   &#x27;COD_ENSE2&#x27;, &#x27;COD_GRADO&#x27;,\n",
       "                                                   &#x27;COD_JOR&#x27;, &#x27;COD_TIP_CUR&#x27;,\n",
       "                                                   &#x27;COD_DES_CUR&#x27;, &#x27;MRUN&#x27;,\n",
       "                                                   &#x27;GEN_ALU&#x27;, &#x27;COD_REG_ALU&#x27;,\n",
       "                                                   &#x27;COD_COM_ALU&#x27;, &#x27;COD_RAMA&#x27;,\n",
       "                                                   &#x27;COD_SEC&#x27;, &#x27;COD_ESPE&#x27;,\n",
       "                                                   &#x27;EDAD_ALU&#x27;, &#x27;PROM_GRAL&#x27;,\n",
       "                                                   &#x27;ASISTENCIA&#x27;, &#x27;AGNO_NAC_ALU&#x27;,\n",
       "                                                   &#x27;MES_NAC_ALU&#x27;]),\n",
       "                                                 (&#x27;cat&#x27;, OneHotEncoder(),\n",
       "                                                  [&#x27;SIT_FIN_R_P&#x27;, &#x27;SIT_FIN_R_R&#x27;,\n",
       "                                                   &#x27;SIT_FIN_R_T&#x27;,\n",
       "                                                   &#x27;SIT_FIN_R_Y&#x27;])])),\n",
       "                (&#x27;classifier&#x27;, RandomForestClassifier())])</pre><b>In a Jupyter environment, please rerun this cell to show the HTML representation or trust the notebook. <br />On GitHub, the HTML representation is unable to render, please try loading this page with nbviewer.org.</b></div><div class=\"sk-container\" hidden><div class=\"sk-item sk-dashed-wrapped\"><div class=\"sk-label-container\"><div class=\"sk-label sk-toggleable\"><input class=\"sk-toggleable__control sk-hidden--visually\" id=\"sk-estimator-id-15\" type=\"checkbox\" ><label for=\"sk-estimator-id-15\" class=\"sk-toggleable__label sk-toggleable__label-arrow\">Pipeline</label><div class=\"sk-toggleable__content\"><pre>Pipeline(steps=[(&#x27;preprocessor&#x27;,\n",
       "                 ColumnTransformer(transformers=[(&#x27;num&#x27;, StandardScaler(),\n",
       "                                                  [&#x27;AGNO&#x27;, &#x27;RBD&#x27;, &#x27;DGV_RBD&#x27;,\n",
       "                                                   &#x27;COD_REG_RBD&#x27;, &#x27;COD_PRO_RBD&#x27;,\n",
       "                                                   &#x27;COD_COM_RBD&#x27;,\n",
       "                                                   &#x27;COD_DEPROV_RBD&#x27;, &#x27;COD_DEPE&#x27;,\n",
       "                                                   &#x27;COD_DEPE2&#x27;, &#x27;RURAL_RBD&#x27;,\n",
       "                                                   &#x27;ESTADO_ESTAB&#x27;, &#x27;COD_ENSE&#x27;,\n",
       "                                                   &#x27;COD_ENSE2&#x27;, &#x27;COD_GRADO&#x27;,\n",
       "                                                   &#x27;COD_JOR&#x27;, &#x27;COD_TIP_CUR&#x27;,\n",
       "                                                   &#x27;COD_DES_CUR&#x27;, &#x27;MRUN&#x27;,\n",
       "                                                   &#x27;GEN_ALU&#x27;, &#x27;COD_REG_ALU&#x27;,\n",
       "                                                   &#x27;COD_COM_ALU&#x27;, &#x27;COD_RAMA&#x27;,\n",
       "                                                   &#x27;COD_SEC&#x27;, &#x27;COD_ESPE&#x27;,\n",
       "                                                   &#x27;EDAD_ALU&#x27;, &#x27;PROM_GRAL&#x27;,\n",
       "                                                   &#x27;ASISTENCIA&#x27;, &#x27;AGNO_NAC_ALU&#x27;,\n",
       "                                                   &#x27;MES_NAC_ALU&#x27;]),\n",
       "                                                 (&#x27;cat&#x27;, OneHotEncoder(),\n",
       "                                                  [&#x27;SIT_FIN_R_P&#x27;, &#x27;SIT_FIN_R_R&#x27;,\n",
       "                                                   &#x27;SIT_FIN_R_T&#x27;,\n",
       "                                                   &#x27;SIT_FIN_R_Y&#x27;])])),\n",
       "                (&#x27;classifier&#x27;, RandomForestClassifier())])</pre></div></div></div><div class=\"sk-serial\"><div class=\"sk-item sk-dashed-wrapped\"><div class=\"sk-label-container\"><div class=\"sk-label sk-toggleable\"><input class=\"sk-toggleable__control sk-hidden--visually\" id=\"sk-estimator-id-16\" type=\"checkbox\" ><label for=\"sk-estimator-id-16\" class=\"sk-toggleable__label sk-toggleable__label-arrow\">preprocessor: ColumnTransformer</label><div class=\"sk-toggleable__content\"><pre>ColumnTransformer(transformers=[(&#x27;num&#x27;, StandardScaler(),\n",
       "                                 [&#x27;AGNO&#x27;, &#x27;RBD&#x27;, &#x27;DGV_RBD&#x27;, &#x27;COD_REG_RBD&#x27;,\n",
       "                                  &#x27;COD_PRO_RBD&#x27;, &#x27;COD_COM_RBD&#x27;,\n",
       "                                  &#x27;COD_DEPROV_RBD&#x27;, &#x27;COD_DEPE&#x27;, &#x27;COD_DEPE2&#x27;,\n",
       "                                  &#x27;RURAL_RBD&#x27;, &#x27;ESTADO_ESTAB&#x27;, &#x27;COD_ENSE&#x27;,\n",
       "                                  &#x27;COD_ENSE2&#x27;, &#x27;COD_GRADO&#x27;, &#x27;COD_JOR&#x27;,\n",
       "                                  &#x27;COD_TIP_CUR&#x27;, &#x27;COD_DES_CUR&#x27;, &#x27;MRUN&#x27;,\n",
       "                                  &#x27;GEN_ALU&#x27;, &#x27;COD_REG_ALU&#x27;, &#x27;COD_COM_ALU&#x27;,\n",
       "                                  &#x27;COD_RAMA&#x27;, &#x27;COD_SEC&#x27;, &#x27;COD_ESPE&#x27;, &#x27;EDAD_ALU&#x27;,\n",
       "                                  &#x27;PROM_GRAL&#x27;, &#x27;ASISTENCIA&#x27;, &#x27;AGNO_NAC_ALU&#x27;,\n",
       "                                  &#x27;MES_NAC_ALU&#x27;]),\n",
       "                                (&#x27;cat&#x27;, OneHotEncoder(),\n",
       "                                 [&#x27;SIT_FIN_R_P&#x27;, &#x27;SIT_FIN_R_R&#x27;, &#x27;SIT_FIN_R_T&#x27;,\n",
       "                                  &#x27;SIT_FIN_R_Y&#x27;])])</pre></div></div></div><div class=\"sk-parallel\"><div class=\"sk-parallel-item\"><div class=\"sk-item\"><div class=\"sk-label-container\"><div class=\"sk-label sk-toggleable\"><input class=\"sk-toggleable__control sk-hidden--visually\" id=\"sk-estimator-id-17\" type=\"checkbox\" ><label for=\"sk-estimator-id-17\" class=\"sk-toggleable__label sk-toggleable__label-arrow\">num</label><div class=\"sk-toggleable__content\"><pre>[&#x27;AGNO&#x27;, &#x27;RBD&#x27;, &#x27;DGV_RBD&#x27;, &#x27;COD_REG_RBD&#x27;, &#x27;COD_PRO_RBD&#x27;, &#x27;COD_COM_RBD&#x27;, &#x27;COD_DEPROV_RBD&#x27;, &#x27;COD_DEPE&#x27;, &#x27;COD_DEPE2&#x27;, &#x27;RURAL_RBD&#x27;, &#x27;ESTADO_ESTAB&#x27;, &#x27;COD_ENSE&#x27;, &#x27;COD_ENSE2&#x27;, &#x27;COD_GRADO&#x27;, &#x27;COD_JOR&#x27;, &#x27;COD_TIP_CUR&#x27;, &#x27;COD_DES_CUR&#x27;, &#x27;MRUN&#x27;, &#x27;GEN_ALU&#x27;, &#x27;COD_REG_ALU&#x27;, &#x27;COD_COM_ALU&#x27;, &#x27;COD_RAMA&#x27;, &#x27;COD_SEC&#x27;, &#x27;COD_ESPE&#x27;, &#x27;EDAD_ALU&#x27;, &#x27;PROM_GRAL&#x27;, &#x27;ASISTENCIA&#x27;, &#x27;AGNO_NAC_ALU&#x27;, &#x27;MES_NAC_ALU&#x27;]</pre></div></div></div><div class=\"sk-serial\"><div class=\"sk-item\"><div class=\"sk-estimator sk-toggleable\"><input class=\"sk-toggleable__control sk-hidden--visually\" id=\"sk-estimator-id-18\" type=\"checkbox\" ><label for=\"sk-estimator-id-18\" class=\"sk-toggleable__label sk-toggleable__label-arrow\">StandardScaler</label><div class=\"sk-toggleable__content\"><pre>StandardScaler()</pre></div></div></div></div></div></div><div class=\"sk-parallel-item\"><div class=\"sk-item\"><div class=\"sk-label-container\"><div class=\"sk-label sk-toggleable\"><input class=\"sk-toggleable__control sk-hidden--visually\" id=\"sk-estimator-id-19\" type=\"checkbox\" ><label for=\"sk-estimator-id-19\" class=\"sk-toggleable__label sk-toggleable__label-arrow\">cat</label><div class=\"sk-toggleable__content\"><pre>[&#x27;SIT_FIN_R_P&#x27;, &#x27;SIT_FIN_R_R&#x27;, &#x27;SIT_FIN_R_T&#x27;, &#x27;SIT_FIN_R_Y&#x27;]</pre></div></div></div><div class=\"sk-serial\"><div class=\"sk-item\"><div class=\"sk-estimator sk-toggleable\"><input class=\"sk-toggleable__control sk-hidden--visually\" id=\"sk-estimator-id-20\" type=\"checkbox\" ><label for=\"sk-estimator-id-20\" class=\"sk-toggleable__label sk-toggleable__label-arrow\">OneHotEncoder</label><div class=\"sk-toggleable__content\"><pre>OneHotEncoder()</pre></div></div></div></div></div></div></div></div><div class=\"sk-item\"><div class=\"sk-estimator sk-toggleable\"><input class=\"sk-toggleable__control sk-hidden--visually\" id=\"sk-estimator-id-21\" type=\"checkbox\" ><label for=\"sk-estimator-id-21\" class=\"sk-toggleable__label sk-toggleable__label-arrow\">RandomForestClassifier</label><div class=\"sk-toggleable__content\"><pre>RandomForestClassifier()</pre></div></div></div></div></div></div></div>"
      ],
      "text/plain": [
       "Pipeline(steps=[('preprocessor',\n",
       "                 ColumnTransformer(transformers=[('num', StandardScaler(),\n",
       "                                                  ['AGNO', 'RBD', 'DGV_RBD',\n",
       "                                                   'COD_REG_RBD', 'COD_PRO_RBD',\n",
       "                                                   'COD_COM_RBD',\n",
       "                                                   'COD_DEPROV_RBD', 'COD_DEPE',\n",
       "                                                   'COD_DEPE2', 'RURAL_RBD',\n",
       "                                                   'ESTADO_ESTAB', 'COD_ENSE',\n",
       "                                                   'COD_ENSE2', 'COD_GRADO',\n",
       "                                                   'COD_JOR', 'COD_TIP_CUR',\n",
       "                                                   'COD_DES_CUR', 'MRUN',\n",
       "                                                   'GEN_ALU', 'COD_REG_ALU',\n",
       "                                                   'COD_COM_ALU', 'COD_RAMA',\n",
       "                                                   'COD_SEC', 'COD_ESPE',\n",
       "                                                   'EDAD_ALU', 'PROM_GRAL',\n",
       "                                                   'ASISTENCIA', 'AGNO_NAC_ALU',\n",
       "                                                   'MES_NAC_ALU']),\n",
       "                                                 ('cat', OneHotEncoder(),\n",
       "                                                  ['SIT_FIN_R_P', 'SIT_FIN_R_R',\n",
       "                                                   'SIT_FIN_R_T',\n",
       "                                                   'SIT_FIN_R_Y'])])),\n",
       "                ('classifier', RandomForestClassifier())])"
      ]
     },
     "execution_count": 339,
     "metadata": {},
     "output_type": "execute_result"
    }
   ],
   "source": [
    "clf.fit(X_train, y_train)"
   ]
  },
  {
   "cell_type": "code",
   "execution_count": 340,
   "metadata": {},
   "outputs": [],
   "source": [
    "import matplotlib.pyplot as plt"
   ]
  },
  {
   "cell_type": "code",
   "execution_count": 341,
   "metadata": {},
   "outputs": [
    {
     "data": {
      "text/plain": [
       "Index(['AGNO', 'RBD', 'DGV_RBD', 'COD_REG_RBD', 'COD_PRO_RBD', 'COD_COM_RBD',\n",
       "       'COD_DEPROV_RBD', 'COD_DEPE', 'COD_DEPE2', 'RURAL_RBD', 'ESTADO_ESTAB',\n",
       "       'COD_ENSE', 'COD_ENSE2', 'COD_GRADO', 'COD_JOR', 'COD_TIP_CUR',\n",
       "       'COD_DES_CUR', 'MRUN', 'GEN_ALU', 'EDAD_ALU', 'COD_REG_ALU',\n",
       "       'COD_COM_ALU', 'COD_RAMA', 'COD_SEC', 'COD_ESPE', 'PROM_GRAL',\n",
       "       'ASISTENCIA', 'AGNO_NAC_ALU', 'MES_NAC_ALU', 'SIT_FIN_R_P',\n",
       "       'SIT_FIN_R_R', 'SIT_FIN_R_T', 'SIT_FIN_R_Y'],\n",
       "      dtype='object')"
      ]
     },
     "execution_count": 341,
     "metadata": {},
     "output_type": "execute_result"
    }
   ],
   "source": [
    "X_train.columns"
   ]
  },
  {
   "cell_type": "code",
   "execution_count": 342,
   "metadata": {},
   "outputs": [
    {
     "data": {
      "text/plain": [
       "Index(['AGNO', 'RBD', 'DGV_RBD', 'COD_REG_RBD', 'COD_PRO_RBD', 'COD_COM_RBD',\n",
       "       'COD_DEPROV_RBD', 'COD_DEPE', 'COD_DEPE2', 'RURAL_RBD', 'ESTADO_ESTAB',\n",
       "       'COD_ENSE', 'COD_ENSE2', 'COD_GRADO', 'COD_JOR', 'COD_TIP_CUR',\n",
       "       'COD_DES_CUR', 'MRUN', 'GEN_ALU', 'EDAD_ALU', 'COD_REG_ALU',\n",
       "       'COD_COM_ALU', 'COD_RAMA', 'COD_SEC', 'COD_ESPE', 'PROM_GRAL',\n",
       "       'ASISTENCIA', 'AGNO_NAC_ALU', 'MES_NAC_ALU', 'SIT_FIN_R_P',\n",
       "       'SIT_FIN_R_R', 'SIT_FIN_R_T', 'SIT_FIN_R_Y'],\n",
       "      dtype='object')"
      ]
     },
     "execution_count": 342,
     "metadata": {},
     "output_type": "execute_result"
    }
   ],
   "source": [
    "X_test.columns"
   ]
  },
  {
   "cell_type": "code",
   "execution_count": 344,
   "metadata": {},
   "outputs": [
    {
     "name": "stdout",
     "output_type": "stream",
     "text": [
      "[[844603      0]\n",
      " [     0  23357]]\n",
      "              precision    recall  f1-score   support\n",
      "\n",
      "           0       1.00      1.00      1.00    844603\n",
      "           1       1.00      1.00      1.00     23357\n",
      "\n",
      "    accuracy                           1.00    867960\n",
      "   macro avg       1.00      1.00      1.00    867960\n",
      "weighted avg       1.00      1.00      1.00    867960\n",
      "\n"
     ]
    }
   ],
   "source": [
    "# Prediccion\n",
    "y_pred = clf.predict(X_test)\n",
    "\n",
    "# Matriz de confusion\n",
    "print(confusion_matrix(y_test, y_pred))\n",
    "\n",
    "# Reporte de clasificacion\n",
    "print(classification_report(y_test, y_pred))\n",
    "\n"
   ]
  },
  {
   "cell_type": "code",
   "execution_count": 346,
   "metadata": {},
   "outputs": [],
   "source": [
    "# Importancia de las variables\n",
    "feature_names = X.columns\n",
    "importances = clf.named_steps['classifier'].feature_importances_"
   ]
  },
  {
   "cell_type": "code",
   "execution_count": 350,
   "metadata": {},
   "outputs": [
    {
     "name": "stdout",
     "output_type": "stream",
     "text": [
      "RandomForestClassifier()\n"
     ]
    }
   ],
   "source": [
    "print(clf.named_steps['classifier'])"
   ]
  },
  {
   "cell_type": "code",
   "execution_count": 351,
   "metadata": {},
   "outputs": [
    {
     "name": "stdout",
     "output_type": "stream",
     "text": [
      "Pipeline(steps=[('preprocessor',\n",
      "                 ColumnTransformer(transformers=[('num', StandardScaler(),\n",
      "                                                  ['AGNO', 'RBD', 'DGV_RBD',\n",
      "                                                   'COD_REG_RBD', 'COD_PRO_RBD',\n",
      "                                                   'COD_COM_RBD',\n",
      "                                                   'COD_DEPROV_RBD', 'COD_DEPE',\n",
      "                                                   'COD_DEPE2', 'RURAL_RBD',\n",
      "                                                   'ESTADO_ESTAB', 'COD_ENSE',\n",
      "                                                   'COD_ENSE2', 'COD_GRADO',\n",
      "                                                   'COD_JOR', 'COD_TIP_CUR',\n",
      "                                                   'COD_DES_CUR', 'MRUN',\n",
      "                                                   'GEN_ALU', 'COD_REG_ALU',\n",
      "                                                   'COD_COM_ALU', 'COD_RAMA',\n",
      "                                                   'COD_SEC', 'COD_ESPE',\n",
      "                                                   'EDAD_ALU', 'PROM_GRAL',\n",
      "                                                   'ASISTENCIA', 'AGNO_NAC_ALU',\n",
      "                                                   'MES_NAC_ALU']),\n",
      "                                                 ('cat', OneHotEncoder(),\n",
      "                                                  ['SIT_FIN_R_P', 'SIT_FIN_R_R',\n",
      "                                                   'SIT_FIN_R_T',\n",
      "                                                   'SIT_FIN_R_Y'])])),\n",
      "                ('classifier', RandomForestClassifier())])\n"
     ]
    }
   ],
   "source": [
    "print(clf)"
   ]
  },
  {
   "cell_type": "code",
   "execution_count": 355,
   "metadata": {},
   "outputs": [
    {
     "name": "stdout",
     "output_type": "stream",
     "text": [
      "[7.39963121e-01 2.44877094e-03 1.17090981e-03 4.60112581e-04\n",
      " 8.45264620e-04 1.47916216e-03 1.15510763e-03 9.95077676e-04\n",
      " 8.53401538e-04 1.71603714e-04 1.63627021e-04 3.17526510e-03\n",
      " 3.81284378e-03 1.18404820e-02 3.98446552e-04 8.06306852e-05\n",
      " 4.34165600e-04 1.98391145e-02 3.96084378e-04 5.24032593e-04\n",
      " 1.64087444e-03 4.12165534e-04 4.35013540e-04 6.43635121e-04\n",
      " 3.46745767e-02 8.81747804e-03 9.54568982e-03 5.36472944e-02\n",
      " 5.50797803e-03 1.22712855e-02 1.55872461e-02 2.64104803e-03\n",
      " 3.80037903e-03 2.92069791e-03 2.21373112e-03 2.74648499e-02\n",
      " 2.75688334e-02]\n"
     ]
    }
   ],
   "source": [
    "print(clf.named_steps['classifier'].feature_importances_)"
   ]
  },
  {
   "cell_type": "code",
   "execution_count": 347,
   "metadata": {},
   "outputs": [
    {
     "name": "stdout",
     "output_type": "stream",
     "text": [
      "[7.39963121e-01 2.44877094e-03 1.17090981e-03 4.60112581e-04\n",
      " 8.45264620e-04 1.47916216e-03 1.15510763e-03 9.95077676e-04\n",
      " 8.53401538e-04 1.71603714e-04 1.63627021e-04 3.17526510e-03\n",
      " 3.81284378e-03 1.18404820e-02 3.98446552e-04 8.06306852e-05\n",
      " 4.34165600e-04 1.98391145e-02 3.96084378e-04 5.24032593e-04\n",
      " 1.64087444e-03 4.12165534e-04 4.35013540e-04 6.43635121e-04\n",
      " 3.46745767e-02 8.81747804e-03 9.54568982e-03 5.36472944e-02\n",
      " 5.50797803e-03 1.22712855e-02 1.55872461e-02 2.64104803e-03\n",
      " 3.80037903e-03 2.92069791e-03 2.21373112e-03 2.74648499e-02\n",
      " 2.75688334e-02]\n",
      "Index(['AGNO', 'RBD', 'DGV_RBD', 'COD_REG_RBD', 'COD_PRO_RBD', 'COD_COM_RBD',\n",
      "       'COD_DEPROV_RBD', 'COD_DEPE', 'COD_DEPE2', 'RURAL_RBD', 'ESTADO_ESTAB',\n",
      "       'COD_ENSE', 'COD_ENSE2', 'COD_GRADO', 'COD_JOR', 'COD_TIP_CUR',\n",
      "       'COD_DES_CUR', 'MRUN', 'GEN_ALU', 'EDAD_ALU', 'COD_REG_ALU',\n",
      "       'COD_COM_ALU', 'COD_RAMA', 'COD_SEC', 'COD_ESPE', 'PROM_GRAL',\n",
      "       'ASISTENCIA', 'AGNO_NAC_ALU', 'MES_NAC_ALU', 'SIT_FIN_R_P',\n",
      "       'SIT_FIN_R_R', 'SIT_FIN_R_T', 'SIT_FIN_R_Y'],\n",
      "      dtype='object')\n"
     ]
    }
   ],
   "source": [
    "print(importances)\n",
    "print(feature_names)"
   ]
  },
  {
   "cell_type": "code",
   "execution_count": 348,
   "metadata": {},
   "outputs": [],
   "source": [
    "feature_names = ['AGNO', 'RBD', 'DGV_RBD', 'COD_REG_RBD', 'COD_PRO_RBD', 'COD_COM_RBD', 'COD_DEPROV_RBD', 'COD_DEPE', 'COD_DEPE2', 'RURAL_RBD', 'ESTADO_ESTAB', 'COD_ENSE', 'COD_ENSE2', 'COD_GRADO', 'COD_JOR', 'COD_TIP_CUR', 'COD_DES_CUR', 'MRUN', 'GEN_ALU', 'EDAD_ALU', 'COD_REG_ALU', 'COD_COM_ALU', 'COD_RAMA', 'COD_SEC', 'COD_ESPE', 'PROM_GRAL', 'ASISTENCIA', 'AGNO_NAC_ALU', 'MES_NAC_ALU', 'SIT_FIN_R_P', 'SIT_FIN_R_R', 'SIT_FIN_R_T', 'SIT_FIN_R_Y']"
   ]
  },
  {
   "cell_type": "code",
   "execution_count": 349,
   "metadata": {},
   "outputs": [
    {
     "ename": "ValueError",
     "evalue": "Length of values (37) does not match length of index (33)",
     "output_type": "error",
     "traceback": [
      "\u001b[0;31m---------------------------------------------------------------------------\u001b[0m",
      "\u001b[0;31mValueError\u001b[0m                                Traceback (most recent call last)",
      "Cell \u001b[0;32mIn[349], line 1\u001b[0m\n\u001b[0;32m----> 1\u001b[0m forest_importances \u001b[38;5;241m=\u001b[39m \u001b[43mpd\u001b[49m\u001b[38;5;241;43m.\u001b[39;49m\u001b[43mSeries\u001b[49m\u001b[43m(\u001b[49m\u001b[43mimportances\u001b[49m\u001b[43m,\u001b[49m\u001b[43m \u001b[49m\u001b[43mindex\u001b[49m\u001b[38;5;241;43m=\u001b[39;49m\u001b[43mfeature_names\u001b[49m\u001b[43m)\u001b[49m\n",
      "File \u001b[0;32m/Library/Frameworks/Python.framework/Versions/3.11/lib/python3.11/site-packages/pandas/core/series.py:500\u001b[0m, in \u001b[0;36mSeries.__init__\u001b[0;34m(self, data, index, dtype, name, copy, fastpath)\u001b[0m\n\u001b[1;32m    498\u001b[0m     index \u001b[38;5;241m=\u001b[39m default_index(\u001b[38;5;28mlen\u001b[39m(data))\n\u001b[1;32m    499\u001b[0m \u001b[38;5;28;01melif\u001b[39;00m is_list_like(data):\n\u001b[0;32m--> 500\u001b[0m     \u001b[43mcom\u001b[49m\u001b[38;5;241;43m.\u001b[39;49m\u001b[43mrequire_length_match\u001b[49m\u001b[43m(\u001b[49m\u001b[43mdata\u001b[49m\u001b[43m,\u001b[49m\u001b[43m \u001b[49m\u001b[43mindex\u001b[49m\u001b[43m)\u001b[49m\n\u001b[1;32m    502\u001b[0m \u001b[38;5;66;03m# create/copy the manager\u001b[39;00m\n\u001b[1;32m    503\u001b[0m \u001b[38;5;28;01mif\u001b[39;00m \u001b[38;5;28misinstance\u001b[39m(data, (SingleBlockManager, SingleArrayManager)):\n",
      "File \u001b[0;32m/Library/Frameworks/Python.framework/Versions/3.11/lib/python3.11/site-packages/pandas/core/common.py:576\u001b[0m, in \u001b[0;36mrequire_length_match\u001b[0;34m(data, index)\u001b[0m\n\u001b[1;32m    572\u001b[0m \u001b[38;5;250m\u001b[39m\u001b[38;5;124;03m\"\"\"\u001b[39;00m\n\u001b[1;32m    573\u001b[0m \u001b[38;5;124;03mCheck the length of data matches the length of the index.\u001b[39;00m\n\u001b[1;32m    574\u001b[0m \u001b[38;5;124;03m\"\"\"\u001b[39;00m\n\u001b[1;32m    575\u001b[0m \u001b[38;5;28;01mif\u001b[39;00m \u001b[38;5;28mlen\u001b[39m(data) \u001b[38;5;241m!=\u001b[39m \u001b[38;5;28mlen\u001b[39m(index):\n\u001b[0;32m--> 576\u001b[0m     \u001b[38;5;28;01mraise\u001b[39;00m \u001b[38;5;167;01mValueError\u001b[39;00m(\n\u001b[1;32m    577\u001b[0m         \u001b[38;5;124m\"\u001b[39m\u001b[38;5;124mLength of values \u001b[39m\u001b[38;5;124m\"\u001b[39m\n\u001b[1;32m    578\u001b[0m         \u001b[38;5;124mf\u001b[39m\u001b[38;5;124m\"\u001b[39m\u001b[38;5;124m(\u001b[39m\u001b[38;5;132;01m{\u001b[39;00m\u001b[38;5;28mlen\u001b[39m(data)\u001b[38;5;132;01m}\u001b[39;00m\u001b[38;5;124m) \u001b[39m\u001b[38;5;124m\"\u001b[39m\n\u001b[1;32m    579\u001b[0m         \u001b[38;5;124m\"\u001b[39m\u001b[38;5;124mdoes not match length of index \u001b[39m\u001b[38;5;124m\"\u001b[39m\n\u001b[1;32m    580\u001b[0m         \u001b[38;5;124mf\u001b[39m\u001b[38;5;124m\"\u001b[39m\u001b[38;5;124m(\u001b[39m\u001b[38;5;132;01m{\u001b[39;00m\u001b[38;5;28mlen\u001b[39m(index)\u001b[38;5;132;01m}\u001b[39;00m\u001b[38;5;124m)\u001b[39m\u001b[38;5;124m\"\u001b[39m\n\u001b[1;32m    581\u001b[0m     )\n",
      "\u001b[0;31mValueError\u001b[0m: Length of values (37) does not match length of index (33)"
     ]
    }
   ],
   "source": [
    "\n",
    "forest_importances = pd.Series(importances, index=feature_names)"
   ]
  },
  {
   "cell_type": "code",
   "execution_count": null,
   "metadata": {},
   "outputs": [],
   "source": [
    "\n",
    "\n",
    "# Grafico de barras\n",
    "fig, ax = plt.subplots()\n",
    "forest_importances.plot.bar(ax=ax)\n",
    "ax.set_title(\"Importancia de las variables\")\n",
    "ax.set_ylabel(\"Importancia\")\n",
    "fig.tight_layout()\n",
    "\n",
    "'''\n",
    "# Guardar grafico\n",
    "plt.savefig('graficos/variables_importancia.png')\n",
    "\n",
    "# Guardar modelo\n",
    "import pickle\n",
    "pickle.dump(clf, open('modelos/modelo.pkl', 'wb'))\n",
    "'''"
   ]
  },
  {
   "cell_type": "code",
   "execution_count": null,
   "metadata": {},
   "outputs": [],
   "source": [
    "# Regresion logistica\n",
    "from sklearn.linear_model import LogisticRegression\n",
    "\n",
    "clf = Pipeline(steps=[('preprocessor', preprocessor),\n",
    "                        ('classifier', LogisticRegression())])\n",
    "\n",
    "clf.fit(X_train, y_train)\n",
    "\n",
    "# Prediccion\n",
    "y_pred = clf.predict(X_test)\n",
    "\n",
    "# Matriz de confusion\n",
    "print(confusion_matrix(y_test, y_pred))\n",
    "\n",
    "# Reporte de clasificacion\n",
    "print(classification_report(y_test, y_pred))\n",
    "\n",
    "# Importancia de las variables\n",
    "feature_names = X.columns\n",
    "importances = clf.named_steps['classifier'].coef_[0]\n",
    "forest_importances = pd.Series(importances, index=feature_names)\n",
    "\n",
    "# Grafico de barras\n",
    "fig, ax = plt.subplots()\n",
    "forest_importances.plot.bar(ax=ax)\n",
    "ax.set_title(\"Importancia de las variables\")\n",
    "ax.set_ylabel(\"Importancia\")\n",
    "fig.tight_layout()\n"
   ]
  },
  {
   "cell_type": "code",
   "execution_count": null,
   "metadata": {},
   "outputs": [],
   "source": [
    "# Redes neuronales\n",
    "from sklearn.neural_network import MLPClassifier\n",
    "\n",
    "clf = Pipeline(steps=[('preprocessor', preprocessor),\n",
    "                        ('classifier', MLPClassifier())])\n",
    "\n",
    "clf.fit(X_train, y_train)\n",
    "\n",
    "# Prediccion\n",
    "y_pred = clf.predict(X_test)\n",
    "\n",
    "# Matriz de confusion\n",
    "print(confusion_matrix(y_test, y_pred))\n",
    "\n",
    "# Reporte de clasificacion\n",
    "print(classification_report(y_test, y_pred))\n",
    "\n",
    "# Importancia de las variables\n",
    "feature_names = X.columns\n",
    "importances = clf.named_steps['classifier'].coefs_[0]\n",
    "forest_importances = pd.Series(importances, index=feature_names)\n",
    "\n",
    "# Grafico de barras\n",
    "fig, ax = plt.subplots()\n",
    "forest_importances.plot.bar(ax=ax)\n",
    "ax.set_title(\"Importancia de las variables\")\n",
    "ax.set_ylabel(\"Importancia\")\n",
    "fig.tight_layout()\n"
   ]
  }
 ],
 "metadata": {
  "kernelspec": {
   "display_name": "Python 3",
   "language": "python",
   "name": "python3"
  },
  "language_info": {
   "codemirror_mode": {
    "name": "ipython",
    "version": 3
   },
   "file_extension": ".py",
   "mimetype": "text/x-python",
   "name": "python",
   "nbconvert_exporter": "python",
   "pygments_lexer": "ipython3",
   "version": "3.11.4"
  }
 },
 "nbformat": 4,
 "nbformat_minor": 2
}
