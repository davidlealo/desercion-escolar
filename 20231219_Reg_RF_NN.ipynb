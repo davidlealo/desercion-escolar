{
 "cells": [
  {
   "cell_type": "code",
   "execution_count": 199,
   "metadata": {},
   "outputs": [],
   "source": [
    "import pandas as pd\n",
    "import numpy as np\n",
    "from sklearn.ensemble import RandomForestClassifier, RandomForestRegressor\n",
    "from sklearn.model_selection import train_test_split\n",
    "from sklearn.metrics import classification_report, confusion_matrix"
   ]
  },
  {
   "cell_type": "code",
   "execution_count": 200,
   "metadata": {},
   "outputs": [],
   "source": [
    "combinado2018 = pd.read_csv('data/tablas/combinado2018.csv', sep=';')"
   ]
  },
  {
   "cell_type": "code",
   "execution_count": 201,
   "metadata": {},
   "outputs": [],
   "source": [
    "# PROM_GRAL change , for . the datatyope is float\n",
    "combinado2018['PROM_GRAL'] = combinado2018['PROM_GRAL'].str.replace(',', '.').astype(float)"
   ]
  },
  {
   "cell_type": "code",
   "execution_count": 202,
   "metadata": {},
   "outputs": [
    {
     "name": "stdout",
     "output_type": "stream",
     "text": [
      "0         2001-04-01\n",
      "1         2000-04-01\n",
      "2         2001-09-01\n",
      "3         2001-05-01\n",
      "4         2001-07-01\n",
      "             ...    \n",
      "2893195   2002-07-01\n",
      "2893196   2003-03-01\n",
      "2893197   2001-11-01\n",
      "2893198   2002-08-01\n",
      "2893199   2003-06-01\n",
      "Name: FEC_NAC_ALU, Length: 2893200, dtype: datetime64[ns]\n"
     ]
    }
   ],
   "source": [
    "# Convertir 'FEC_NAC_ALU' a una cadena\n",
    "combinado2018['FEC_NAC_ALU'] = combinado2018['FEC_NAC_ALU'].astype(str)\n",
    "\n",
    "# Asegurarse de que la cadena tiene el formato correcto (YYYYMM)\n",
    "combinado2018['FEC_NAC_ALU'] = combinado2018['FEC_NAC_ALU'].str.pad(width=6, side='left', fillchar='0')\n",
    "\n",
    "# Convertir la cadena a un formato de fecha\n",
    "combinado2018['FEC_NAC_ALU'] = pd.to_datetime(combinado2018['FEC_NAC_ALU'], format='%Y%m')\n",
    "\n",
    "print(combinado2018['FEC_NAC_ALU'])"
   ]
  },
  {
   "cell_type": "code",
   "execution_count": 203,
   "metadata": {},
   "outputs": [
    {
     "name": "stdout",
     "output_type": "stream",
     "text": [
      "<class 'pandas.core.frame.DataFrame'>\n",
      "RangeIndex: 2893200 entries, 0 to 2893199\n",
      "Data columns (total 39 columns):\n",
      " #   Column          Dtype         \n",
      "---  ------          -----         \n",
      " 0   Unnamed: 0      int64         \n",
      " 1   AGNO            int64         \n",
      " 2   RBD             int64         \n",
      " 3   DGV_RBD         int64         \n",
      " 4   NOM_RBD         object        \n",
      " 5   COD_REG_RBD     int64         \n",
      " 6   NOM_REG_RBD_A   object        \n",
      " 7   COD_PRO_RBD     int64         \n",
      " 8   COD_COM_RBD     int64         \n",
      " 9   NOM_COM_RBD     object        \n",
      " 10  COD_DEPROV_RBD  int64         \n",
      " 11  NOM_DEPROV_RBD  object        \n",
      " 12  COD_DEPE        int64         \n",
      " 13  COD_DEPE2       int64         \n",
      " 14  RURAL_RBD       int64         \n",
      " 15  ESTADO_ESTAB    int64         \n",
      " 16  COD_ENSE        int64         \n",
      " 17  COD_ENSE2       int64         \n",
      " 18  COD_GRADO       int64         \n",
      " 19  LET_CUR         object        \n",
      " 20  COD_JOR         int64         \n",
      " 21  COD_TIP_CUR     int64         \n",
      " 22  COD_DES_CUR     int64         \n",
      " 23  MRUN            int64         \n",
      " 24  GEN_ALU         int64         \n",
      " 25  FEC_NAC_ALU     datetime64[ns]\n",
      " 26  EDAD_ALU        int64         \n",
      " 27  COD_REG_ALU     int64         \n",
      " 28  COD_COM_ALU     int64         \n",
      " 29  NOM_COM_ALU     object        \n",
      " 30  COD_RAMA        int64         \n",
      " 31  COD_SEC         int64         \n",
      " 32  COD_ESPE        int64         \n",
      " 33  PROM_GRAL       float64       \n",
      " 34  ASISTENCIA      int64         \n",
      " 35  SIT_FIN         object        \n",
      " 36  SIT_FIN_R       object        \n",
      " 37  DESERTOR        int64         \n",
      " 38  COD_MEN         float64       \n",
      "dtypes: datetime64[ns](1), float64(2), int64(28), object(8)\n",
      "memory usage: 860.9+ MB\n"
     ]
    }
   ],
   "source": [
    "combinado2018.info()"
   ]
  },
  {
   "cell_type": "code",
   "execution_count": 204,
   "metadata": {},
   "outputs": [],
   "source": [
    "# Drop Unnamed: 0      \n",
    "combinado2018 = combinado2018.drop(['Unnamed: 0'], axis=1)"
   ]
  },
  {
   "cell_type": "code",
   "execution_count": 205,
   "metadata": {},
   "outputs": [],
   "source": [
    "# Drop \"NOM_RBD\", \"NOM_REG_RBD_A\", \"NOM_COM_RBD\", \"NOM_DEPROV_RBD\", \"LET_CUR\", \"NOM_COM_ALU\", \"SIT_FIN\"\n",
    "combinado2018 = combinado2018.drop([\"NOM_RBD\", \"NOM_REG_RBD_A\", \"NOM_COM_RBD\", \"NOM_DEPROV_RBD\", \"LET_CUR\", \"NOM_COM_ALU\", \"SIT_FIN\" ], axis=1)"
   ]
  },
  {
   "cell_type": "code",
   "execution_count": 206,
   "metadata": {},
   "outputs": [
    {
     "name": "stdout",
     "output_type": "stream",
     "text": [
      "<class 'pandas.core.frame.DataFrame'>\n",
      "RangeIndex: 2893200 entries, 0 to 2893199\n",
      "Data columns (total 31 columns):\n",
      " #   Column          Dtype         \n",
      "---  ------          -----         \n",
      " 0   AGNO            int64         \n",
      " 1   RBD             int64         \n",
      " 2   DGV_RBD         int64         \n",
      " 3   COD_REG_RBD     int64         \n",
      " 4   COD_PRO_RBD     int64         \n",
      " 5   COD_COM_RBD     int64         \n",
      " 6   COD_DEPROV_RBD  int64         \n",
      " 7   COD_DEPE        int64         \n",
      " 8   COD_DEPE2       int64         \n",
      " 9   RURAL_RBD       int64         \n",
      " 10  ESTADO_ESTAB    int64         \n",
      " 11  COD_ENSE        int64         \n",
      " 12  COD_ENSE2       int64         \n",
      " 13  COD_GRADO       int64         \n",
      " 14  COD_JOR         int64         \n",
      " 15  COD_TIP_CUR     int64         \n",
      " 16  COD_DES_CUR     int64         \n",
      " 17  MRUN            int64         \n",
      " 18  GEN_ALU         int64         \n",
      " 19  FEC_NAC_ALU     datetime64[ns]\n",
      " 20  EDAD_ALU        int64         \n",
      " 21  COD_REG_ALU     int64         \n",
      " 22  COD_COM_ALU     int64         \n",
      " 23  COD_RAMA        int64         \n",
      " 24  COD_SEC         int64         \n",
      " 25  COD_ESPE        int64         \n",
      " 26  PROM_GRAL       float64       \n",
      " 27  ASISTENCIA      int64         \n",
      " 28  SIT_FIN_R       object        \n",
      " 29  DESERTOR        int64         \n",
      " 30  COD_MEN         float64       \n",
      "dtypes: datetime64[ns](1), float64(2), int64(27), object(1)\n",
      "memory usage: 684.3+ MB\n"
     ]
    }
   ],
   "source": [
    "combinado2018.info()"
   ]
  },
  {
   "cell_type": "code",
   "execution_count": 207,
   "metadata": {},
   "outputs": [],
   "source": [
    "# Crear nuevas columnas para el año y el mes\n",
    "combinado2018['AGNO_NAC_ALU'] = combinado2018['FEC_NAC_ALU'].dt.year\n",
    "combinado2018['MES_NAC_ALU'] = combinado2018['FEC_NAC_ALU'].dt.month\n",
    "\n",
    "# Eliminar la columna del día\n",
    "combinado2018['FEC_NAC_ALU'] = combinado2018['FEC_NAC_ALU'].dt.to_period('M')"
   ]
  },
  {
   "cell_type": "code",
   "execution_count": 208,
   "metadata": {},
   "outputs": [
    {
     "name": "stdout",
     "output_type": "stream",
     "text": [
      "<class 'pandas.core.frame.DataFrame'>\n",
      "RangeIndex: 2893200 entries, 0 to 2893199\n",
      "Data columns (total 33 columns):\n",
      " #   Column          Dtype    \n",
      "---  ------          -----    \n",
      " 0   AGNO            int64    \n",
      " 1   RBD             int64    \n",
      " 2   DGV_RBD         int64    \n",
      " 3   COD_REG_RBD     int64    \n",
      " 4   COD_PRO_RBD     int64    \n",
      " 5   COD_COM_RBD     int64    \n",
      " 6   COD_DEPROV_RBD  int64    \n",
      " 7   COD_DEPE        int64    \n",
      " 8   COD_DEPE2       int64    \n",
      " 9   RURAL_RBD       int64    \n",
      " 10  ESTADO_ESTAB    int64    \n",
      " 11  COD_ENSE        int64    \n",
      " 12  COD_ENSE2       int64    \n",
      " 13  COD_GRADO       int64    \n",
      " 14  COD_JOR         int64    \n",
      " 15  COD_TIP_CUR     int64    \n",
      " 16  COD_DES_CUR     int64    \n",
      " 17  MRUN            int64    \n",
      " 18  GEN_ALU         int64    \n",
      " 19  FEC_NAC_ALU     period[M]\n",
      " 20  EDAD_ALU        int64    \n",
      " 21  COD_REG_ALU     int64    \n",
      " 22  COD_COM_ALU     int64    \n",
      " 23  COD_RAMA        int64    \n",
      " 24  COD_SEC         int64    \n",
      " 25  COD_ESPE        int64    \n",
      " 26  PROM_GRAL       float64  \n",
      " 27  ASISTENCIA      int64    \n",
      " 28  SIT_FIN_R       object   \n",
      " 29  DESERTOR        int64    \n",
      " 30  COD_MEN         float64  \n",
      " 31  AGNO_NAC_ALU    int32    \n",
      " 32  MES_NAC_ALU     int32    \n",
      "dtypes: float64(2), int32(2), int64(27), object(1), period[M](1)\n",
      "memory usage: 706.3+ MB\n"
     ]
    }
   ],
   "source": [
    "combinado2018.info()"
   ]
  },
  {
   "cell_type": "code",
   "execution_count": 209,
   "metadata": {},
   "outputs": [
    {
     "data": {
      "text/plain": [
       "0          2001-04\n",
       "1          2000-04\n",
       "2          2001-09\n",
       "3          2001-05\n",
       "4          2001-07\n",
       "            ...   \n",
       "2893195    2002-07\n",
       "2893196    2003-03\n",
       "2893197    2001-11\n",
       "2893198    2002-08\n",
       "2893199    2003-06\n",
       "Name: FEC_NAC_ALU, Length: 2893200, dtype: period[M]"
      ]
     },
     "execution_count": 209,
     "metadata": {},
     "output_type": "execute_result"
    }
   ],
   "source": [
    "combinado2018['FEC_NAC_ALU']"
   ]
  },
  {
   "cell_type": "code",
   "execution_count": 210,
   "metadata": {},
   "outputs": [],
   "source": [
    "# Drop FEC_NAC_ALU\n",
    "combinado2018 = combinado2018.drop(['FEC_NAC_ALU'], axis=1)"
   ]
  },
  {
   "cell_type": "code",
   "execution_count": 211,
   "metadata": {},
   "outputs": [
    {
     "name": "stdout",
     "output_type": "stream",
     "text": [
      "<class 'pandas.core.frame.DataFrame'>\n",
      "RangeIndex: 2893200 entries, 0 to 2893199\n",
      "Data columns (total 32 columns):\n",
      " #   Column          Dtype  \n",
      "---  ------          -----  \n",
      " 0   AGNO            int64  \n",
      " 1   RBD             int64  \n",
      " 2   DGV_RBD         int64  \n",
      " 3   COD_REG_RBD     int64  \n",
      " 4   COD_PRO_RBD     int64  \n",
      " 5   COD_COM_RBD     int64  \n",
      " 6   COD_DEPROV_RBD  int64  \n",
      " 7   COD_DEPE        int64  \n",
      " 8   COD_DEPE2       int64  \n",
      " 9   RURAL_RBD       int64  \n",
      " 10  ESTADO_ESTAB    int64  \n",
      " 11  COD_ENSE        int64  \n",
      " 12  COD_ENSE2       int64  \n",
      " 13  COD_GRADO       int64  \n",
      " 14  COD_JOR         int64  \n",
      " 15  COD_TIP_CUR     int64  \n",
      " 16  COD_DES_CUR     int64  \n",
      " 17  MRUN            int64  \n",
      " 18  GEN_ALU         int64  \n",
      " 19  EDAD_ALU        int64  \n",
      " 20  COD_REG_ALU     int64  \n",
      " 21  COD_COM_ALU     int64  \n",
      " 22  COD_RAMA        int64  \n",
      " 23  COD_SEC         int64  \n",
      " 24  COD_ESPE        int64  \n",
      " 25  PROM_GRAL       float64\n",
      " 26  ASISTENCIA      int64  \n",
      " 27  SIT_FIN_R       object \n",
      " 28  DESERTOR        int64  \n",
      " 29  COD_MEN         float64\n",
      " 30  AGNO_NAC_ALU    int32  \n",
      " 31  MES_NAC_ALU     int32  \n",
      "dtypes: float64(2), int32(2), int64(27), object(1)\n",
      "memory usage: 684.3+ MB\n"
     ]
    }
   ],
   "source": [
    "combinado2018.info()"
   ]
  },
  {
   "cell_type": "code",
   "execution_count": 212,
   "metadata": {},
   "outputs": [
    {
     "data": {
      "text/plain": [
       "array(['R', 'T', 'Y', 'P', ' '], dtype=object)"
      ]
     },
     "execution_count": 212,
     "metadata": {},
     "output_type": "execute_result"
    }
   ],
   "source": [
    "combinado2018['SIT_FIN_R'].unique()"
   ]
  },
  {
   "cell_type": "code",
   "execution_count": 213,
   "metadata": {},
   "outputs": [
    {
     "data": {
      "text/plain": [
       "SIT_FIN_R\n",
       "P    2569757\n",
       "T     189897\n",
       "R      79319\n",
       "Y      53805\n",
       "         422\n",
       "Name: count, dtype: int64"
      ]
     },
     "execution_count": 213,
     "metadata": {},
     "output_type": "execute_result"
    }
   ],
   "source": [
    "combinado2018['SIT_FIN_R'].value_counts()"
   ]
  },
  {
   "cell_type": "code",
   "execution_count": 214,
   "metadata": {},
   "outputs": [],
   "source": [
    "# Eliminar valores nulos de 'SIT_FIN_R'\n",
    "combinado2018 = combinado2018.dropna(subset=['SIT_FIN_R'])"
   ]
  },
  {
   "cell_type": "code",
   "execution_count": 215,
   "metadata": {},
   "outputs": [
    {
     "data": {
      "text/plain": [
       "array(['R', 'T', 'Y', 'P', ' '], dtype=object)"
      ]
     },
     "execution_count": 215,
     "metadata": {},
     "output_type": "execute_result"
    }
   ],
   "source": [
    "combinado2018['SIT_FIN_R'].unique()"
   ]
  },
  {
   "cell_type": "code",
   "execution_count": 216,
   "metadata": {},
   "outputs": [],
   "source": [
    "import numpy as np\n",
    "\n",
    "combinado2018['SIT_FIN_R'].replace(' ', np.nan, inplace=True)"
   ]
  },
  {
   "cell_type": "code",
   "execution_count": 217,
   "metadata": {},
   "outputs": [],
   "source": [
    "most_common = combinado2018['SIT_FIN_R'].mode()[0]\n",
    "combinado2018['SIT_FIN_R'] = combinado2018['SIT_FIN_R'].fillna(most_common)"
   ]
  },
  {
   "cell_type": "code",
   "execution_count": 218,
   "metadata": {},
   "outputs": [],
   "source": [
    "combinado2018['SIT_FIN_R'] = combinado2018['SIT_FIN_R'].fillna('Unknown')"
   ]
  },
  {
   "cell_type": "code",
   "execution_count": 219,
   "metadata": {},
   "outputs": [
    {
     "data": {
      "text/plain": [
       "AGNO                  0\n",
       "RBD                   0\n",
       "DGV_RBD               0\n",
       "COD_REG_RBD           0\n",
       "COD_PRO_RBD           0\n",
       "COD_COM_RBD           0\n",
       "COD_DEPROV_RBD        0\n",
       "COD_DEPE              0\n",
       "COD_DEPE2             0\n",
       "RURAL_RBD             0\n",
       "ESTADO_ESTAB          0\n",
       "COD_ENSE              0\n",
       "COD_ENSE2             0\n",
       "COD_GRADO             0\n",
       "COD_JOR               0\n",
       "COD_TIP_CUR           0\n",
       "COD_DES_CUR           0\n",
       "MRUN                  0\n",
       "GEN_ALU               0\n",
       "EDAD_ALU              0\n",
       "COD_REG_ALU           0\n",
       "COD_COM_ALU           0\n",
       "COD_RAMA              0\n",
       "COD_SEC               0\n",
       "COD_ESPE              0\n",
       "PROM_GRAL             0\n",
       "ASISTENCIA            0\n",
       "SIT_FIN_R             0\n",
       "DESERTOR              0\n",
       "COD_MEN           79315\n",
       "AGNO_NAC_ALU          0\n",
       "MES_NAC_ALU           0\n",
       "dtype: int64"
      ]
     },
     "execution_count": 219,
     "metadata": {},
     "output_type": "execute_result"
    }
   ],
   "source": [
    "# Verificar valores nulos\n",
    "combinado2018.isnull().sum()"
   ]
  },
  {
   "cell_type": "code",
   "execution_count": 220,
   "metadata": {},
   "outputs": [],
   "source": [
    "# Drop COD_MEN\n",
    "combinado2018 = combinado2018.drop(['COD_MEN'], axis=1)"
   ]
  },
  {
   "cell_type": "code",
   "execution_count": 221,
   "metadata": {},
   "outputs": [],
   "source": [
    "# Dummies  de variable SIT_FIN_R\n",
    "# combinado2018 = pd.get_dummies(combinado2018, columns=['SIT_FIN_R'])"
   ]
  },
  {
   "cell_type": "code",
   "execution_count": 222,
   "metadata": {},
   "outputs": [
    {
     "name": "stdout",
     "output_type": "stream",
     "text": [
      "<class 'pandas.core.frame.DataFrame'>\n",
      "RangeIndex: 2893200 entries, 0 to 2893199\n",
      "Data columns (total 31 columns):\n",
      " #   Column          Dtype  \n",
      "---  ------          -----  \n",
      " 0   AGNO            int64  \n",
      " 1   RBD             int64  \n",
      " 2   DGV_RBD         int64  \n",
      " 3   COD_REG_RBD     int64  \n",
      " 4   COD_PRO_RBD     int64  \n",
      " 5   COD_COM_RBD     int64  \n",
      " 6   COD_DEPROV_RBD  int64  \n",
      " 7   COD_DEPE        int64  \n",
      " 8   COD_DEPE2       int64  \n",
      " 9   RURAL_RBD       int64  \n",
      " 10  ESTADO_ESTAB    int64  \n",
      " 11  COD_ENSE        int64  \n",
      " 12  COD_ENSE2       int64  \n",
      " 13  COD_GRADO       int64  \n",
      " 14  COD_JOR         int64  \n",
      " 15  COD_TIP_CUR     int64  \n",
      " 16  COD_DES_CUR     int64  \n",
      " 17  MRUN            int64  \n",
      " 18  GEN_ALU         int64  \n",
      " 19  EDAD_ALU        int64  \n",
      " 20  COD_REG_ALU     int64  \n",
      " 21  COD_COM_ALU     int64  \n",
      " 22  COD_RAMA        int64  \n",
      " 23  COD_SEC         int64  \n",
      " 24  COD_ESPE        int64  \n",
      " 25  PROM_GRAL       float64\n",
      " 26  ASISTENCIA      int64  \n",
      " 27  SIT_FIN_R       object \n",
      " 28  DESERTOR        int64  \n",
      " 29  AGNO_NAC_ALU    int32  \n",
      " 30  MES_NAC_ALU     int32  \n",
      "dtypes: float64(1), int32(2), int64(27), object(1)\n",
      "memory usage: 662.2+ MB\n"
     ]
    }
   ],
   "source": [
    "combinado2018.info()"
   ]
  },
  {
   "cell_type": "code",
   "execution_count": 223,
   "metadata": {},
   "outputs": [],
   "source": [
    "from sklearn.preprocessing import StandardScaler, OneHotEncoder\n",
    "from sklearn.compose import ColumnTransformer\n",
    "from sklearn.pipeline import Pipeline\n",
    "from sklearn.ensemble import RandomForestClassifier\n",
    "from sklearn.model_selection import train_test_split"
   ]
  },
  {
   "cell_type": "code",
   "execution_count": 224,
   "metadata": {},
   "outputs": [],
   "source": [
    "X = combinado2018.drop('DESERTOR', axis=1)\n",
    "y = combinado2018['DESERTOR']\n",
    "\n",
    "X_train, X_test, y_train, y_test = train_test_split(X, y, test_size=0.3, random_state=42)"
   ]
  },
  {
   "cell_type": "code",
   "execution_count": 225,
   "metadata": {},
   "outputs": [],
   "source": [
    "numeric_features = ['AGNO', 'RBD', 'DGV_RBD', 'COD_REG_RBD', 'COD_PRO_RBD', 'COD_COM_RBD', 'COD_DEPROV_RBD', 'COD_DEPE', 'COD_DEPE2', 'RURAL_RBD', 'ESTADO_ESTAB', 'COD_ENSE', 'COD_ENSE2', 'COD_GRADO', 'COD_JOR', 'COD_TIP_CUR', 'COD_DES_CUR', 'MRUN', 'GEN_ALU', 'COD_REG_ALU', 'COD_COM_ALU', 'COD_RAMA', 'COD_SEC', 'COD_ESPE','EDAD_ALU', 'PROM_GRAL', 'ASISTENCIA','AGNO_NAC_ALU', 'MES_NAC_ALU']  \n",
    "categorical_features = ['SIT_FIN_R']  "
   ]
  },
  {
   "cell_type": "code",
   "execution_count": 226,
   "metadata": {},
   "outputs": [],
   "source": [
    "preprocessor = ColumnTransformer(\n",
    "    transformers=[\n",
    "        ('num', StandardScaler(), numeric_features),\n",
    "        ('cat', OneHotEncoder(), categorical_features)\n",
    "    ])"
   ]
  },
  {
   "cell_type": "code",
   "execution_count": 227,
   "metadata": {},
   "outputs": [],
   "source": [
    "clf = Pipeline(steps=[('preprocessor', preprocessor),\n",
    "                      ('classifier', RandomForestClassifier())])"
   ]
  },
  {
   "cell_type": "code",
   "execution_count": 228,
   "metadata": {},
   "outputs": [
    {
     "name": "stdout",
     "output_type": "stream",
     "text": [
      "<class 'pandas.core.frame.DataFrame'>\n",
      "Index: 2025240 entries, 1381675 to 2219110\n",
      "Data columns (total 30 columns):\n",
      " #   Column          Dtype  \n",
      "---  ------          -----  \n",
      " 0   AGNO            int64  \n",
      " 1   RBD             int64  \n",
      " 2   DGV_RBD         int64  \n",
      " 3   COD_REG_RBD     int64  \n",
      " 4   COD_PRO_RBD     int64  \n",
      " 5   COD_COM_RBD     int64  \n",
      " 6   COD_DEPROV_RBD  int64  \n",
      " 7   COD_DEPE        int64  \n",
      " 8   COD_DEPE2       int64  \n",
      " 9   RURAL_RBD       int64  \n",
      " 10  ESTADO_ESTAB    int64  \n",
      " 11  COD_ENSE        int64  \n",
      " 12  COD_ENSE2       int64  \n",
      " 13  COD_GRADO       int64  \n",
      " 14  COD_JOR         int64  \n",
      " 15  COD_TIP_CUR     int64  \n",
      " 16  COD_DES_CUR     int64  \n",
      " 17  MRUN            int64  \n",
      " 18  GEN_ALU         int64  \n",
      " 19  EDAD_ALU        int64  \n",
      " 20  COD_REG_ALU     int64  \n",
      " 21  COD_COM_ALU     int64  \n",
      " 22  COD_RAMA        int64  \n",
      " 23  COD_SEC         int64  \n",
      " 24  COD_ESPE        int64  \n",
      " 25  PROM_GRAL       float64\n",
      " 26  ASISTENCIA      int64  \n",
      " 27  SIT_FIN_R       object \n",
      " 28  AGNO_NAC_ALU    int32  \n",
      " 29  MES_NAC_ALU     int32  \n",
      "dtypes: float64(1), int32(2), int64(26), object(1)\n",
      "memory usage: 463.5+ MB\n"
     ]
    }
   ],
   "source": [
    "X_train.info()"
   ]
  },
  {
   "cell_type": "code",
   "execution_count": 229,
   "metadata": {},
   "outputs": [
    {
     "name": "stdout",
     "output_type": "stream",
     "text": [
      "<class 'pandas.core.series.Series'>\n",
      "Index: 2025240 entries, 1381675 to 2219110\n",
      "Series name: DESERTOR\n",
      "Non-Null Count    Dtype\n",
      "--------------    -----\n",
      "2025240 non-null  int64\n",
      "dtypes: int64(1)\n",
      "memory usage: 30.9 MB\n"
     ]
    }
   ],
   "source": [
    "y_train.info()"
   ]
  },
  {
   "cell_type": "code",
   "execution_count": 230,
   "metadata": {},
   "outputs": [],
   "source": [
    "clf.fit(X_train, y_train)"
   ]
  }
 ],
 "metadata": {
  "kernelspec": {
   "display_name": "Python 3",
   "language": "python",
   "name": "python3"
  },
  "language_info": {
   "codemirror_mode": {
    "name": "ipython",
    "version": 3
   },
   "file_extension": ".py",
   "mimetype": "text/x-python",
   "name": "python",
   "nbconvert_exporter": "python",
   "pygments_lexer": "ipython3",
   "version": "3.11.4"
  }
 },
 "nbformat": 4,
 "nbformat_minor": 2
}
